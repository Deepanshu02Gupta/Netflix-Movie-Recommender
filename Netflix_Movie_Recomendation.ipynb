{
  "nbformat": 4,
  "nbformat_minor": 0,
  "metadata": {
    "colab": {
      "name": "Netflix Movie Recomendation.ipynb",
      "provenance": [],
      "collapsed_sections": [],
      "toc_visible": true,
      "authorship_tag": "ABX9TyN23bt22nI+XaqXaZoxvptK",
      "include_colab_link": true
    },
    "kernelspec": {
      "name": "python3",
      "display_name": "Python 3"
    },
    "language_info": {
      "name": "python"
    }
  },
  "cells": [
    {
      "cell_type": "markdown",
      "metadata": {
        "id": "view-in-github",
        "colab_type": "text"
      },
      "source": [
        "<a href=\"https://colab.research.google.com/github/Deepanshu02Gupta/Netflix-Movie-Recommender/blob/main/Netflix_Movie_Recomendation.ipynb\" target=\"_parent\"><img src=\"https://colab.research.google.com/assets/colab-badge.svg\" alt=\"Open In Colab\"/></a>"
      ]
    },
    {
      "cell_type": "markdown",
      "metadata": {
        "id": "8V1y3FwKYxDF"
      },
      "source": [
        "## **Importing Libraries**"
      ]
    },
    {
      "cell_type": "code",
      "metadata": {
        "id": "TDcUlX_1hGtS"
      },
      "source": [
        "import pandas as pd \n",
        "import numpy as np\n",
        "import seaborn as sns\n",
        "import matplotlib.pyplot as plt\n",
        "from tkinter import *\n",
        "import pickle\n",
        "import plotly.graph_objects as go\n",
        "from plotly.offline import init_notebook_mode, iplot\n",
        "import plotly as plotly\n",
        "from scipy.stats import norm\n",
        "from sklearn.feature_extraction.text import TfidfVectorizer\n",
        "\n",
        "# Import linear_kernel\n",
        "from sklearn.metrics.pairwise import linear_kernel\n",
        "\n",
        "# Import CountVectorizer and create the count matrix\n",
        "from sklearn.feature_extraction.text import CountVectorizer\n",
        "\n",
        "# Compute the Cosine Similarity matrix based on the count_matrix\n",
        "from sklearn.metrics.pairwise import cosine_similarity\n",
        "import os\n",
        "for dirname, _, filenames in os.walk('/kaggle/input'):\n",
        "    for filename in filenames:\n",
        "        print(os.path.join(dirname, filename))"
      ],
      "execution_count": null,
      "outputs": []
    },
    {
      "cell_type": "markdown",
      "metadata": {
        "id": "c2v7rMRgWgY5"
      },
      "source": [
        "## **Importing DataSet**\n",
        "\n",
        "\n",
        "\n"
      ]
    },
    {
      "cell_type": "code",
      "metadata": {
        "id": "-5P8Piqlj_4Y"
      },
      "source": [
        "datafr = pd.read_csv('netflix_titles1.csv')"
      ],
      "execution_count": null,
      "outputs": []
    },
    {
      "cell_type": "markdown",
      "metadata": {
        "id": "SU7rjfJxW2oz"
      },
      "source": [
        "## **Data Manipulation**"
      ]
    },
    {
      "cell_type": "code",
      "metadata": {
        "colab": {
          "base_uri": "https://localhost:8080/"
        },
        "id": "kmlQHuvlkL0l",
        "outputId": "3c5bfdcb-230e-455a-b085-c53c8a502b12"
      },
      "source": [
        "datafr.isnull().sum()"
      ],
      "execution_count": null,
      "outputs": [
        {
          "output_type": "execute_result",
          "data": {
            "text/plain": [
              "show_id            0\n",
              "type               0\n",
              "title              0\n",
              "director        2631\n",
              "cast             825\n",
              "country          831\n",
              "date_added        10\n",
              "release_year       0\n",
              "rating             4\n",
              "duration           3\n",
              "listed_in          0\n",
              "description        0\n",
              "dtype: int64"
            ]
          },
          "metadata": {},
          "execution_count": 3
        }
      ]
    },
    {
      "cell_type": "code",
      "metadata": {
        "id": "fSISO7IMXZou"
      },
      "source": [
        ""
      ],
      "execution_count": null,
      "outputs": []
    },
    {
      "cell_type": "markdown",
      "metadata": {
        "id": "lsbmkYjoXfy2"
      },
      "source": [
        "**Creating Another column for Month and Year**"
      ]
    },
    {
      "cell_type": "code",
      "metadata": {
        "id": "VE71kN78kQIn"
      },
      "source": [
        "datafr[\"date_added\"] = pd.to_datetime(datafr['date_added'])\n",
        "datafr['year_added'] = datafr['date_added'].dt.year\n",
        "datafr['month_added'] = datafr['date_added'].dt.month"
      ],
      "execution_count": null,
      "outputs": []
    },
    {
      "cell_type": "code",
      "metadata": {
        "colab": {
          "base_uri": "https://localhost:8080/",
          "height": 626
        },
        "id": "A3jnJLWekXp6",
        "outputId": "3f241c61-803a-4ee3-aec1-8434904ff6cf"
      },
      "source": [
        "datafr.head()"
      ],
      "execution_count": null,
      "outputs": [
        {
          "output_type": "execute_result",
          "data": {
            "text/html": [
              "<div>\n",
              "<style scoped>\n",
              "    .dataframe tbody tr th:only-of-type {\n",
              "        vertical-align: middle;\n",
              "    }\n",
              "\n",
              "    .dataframe tbody tr th {\n",
              "        vertical-align: top;\n",
              "    }\n",
              "\n",
              "    .dataframe thead th {\n",
              "        text-align: right;\n",
              "    }\n",
              "</style>\n",
              "<table border=\"1\" class=\"dataframe\">\n",
              "  <thead>\n",
              "    <tr style=\"text-align: right;\">\n",
              "      <th></th>\n",
              "      <th>show_id</th>\n",
              "      <th>type</th>\n",
              "      <th>title</th>\n",
              "      <th>director</th>\n",
              "      <th>cast</th>\n",
              "      <th>country</th>\n",
              "      <th>date_added</th>\n",
              "      <th>release_year</th>\n",
              "      <th>rating</th>\n",
              "      <th>duration</th>\n",
              "      <th>listed_in</th>\n",
              "      <th>description</th>\n",
              "      <th>year_added</th>\n",
              "      <th>month_added</th>\n",
              "    </tr>\n",
              "  </thead>\n",
              "  <tbody>\n",
              "    <tr>\n",
              "      <th>0</th>\n",
              "      <td>s1</td>\n",
              "      <td>Movie</td>\n",
              "      <td>Dick Johnson Is Dead</td>\n",
              "      <td>Kirsten Johnson</td>\n",
              "      <td>NaN</td>\n",
              "      <td>United States</td>\n",
              "      <td>2021-09-25</td>\n",
              "      <td>2020</td>\n",
              "      <td>PG-13</td>\n",
              "      <td>90 min</td>\n",
              "      <td>Documentaries</td>\n",
              "      <td>As her father nears the end of his life, filmm...</td>\n",
              "      <td>2021.0</td>\n",
              "      <td>9.0</td>\n",
              "    </tr>\n",
              "    <tr>\n",
              "      <th>1</th>\n",
              "      <td>s2</td>\n",
              "      <td>TV Show</td>\n",
              "      <td>Blood &amp; Water</td>\n",
              "      <td>John L'Ecuyer</td>\n",
              "      <td>Ama Qamata, Khosi Ngema, Gail Mabalane, Thaban...</td>\n",
              "      <td>South Africa</td>\n",
              "      <td>2021-09-24</td>\n",
              "      <td>2021</td>\n",
              "      <td>TV-MA</td>\n",
              "      <td>2 Seasons</td>\n",
              "      <td>International TV Shows, TV Dramas, TV Mysteries</td>\n",
              "      <td>After crossing paths at a party, a Cape Town t...</td>\n",
              "      <td>2021.0</td>\n",
              "      <td>9.0</td>\n",
              "    </tr>\n",
              "    <tr>\n",
              "      <th>2</th>\n",
              "      <td>s3</td>\n",
              "      <td>TV Show</td>\n",
              "      <td>Ganglands</td>\n",
              "      <td>Julien Leclercq</td>\n",
              "      <td>Sami Bouajila, Tracy Gotoas, Samuel Jouy, Nabi...</td>\n",
              "      <td>NaN</td>\n",
              "      <td>2021-09-24</td>\n",
              "      <td>2021</td>\n",
              "      <td>TV-MA</td>\n",
              "      <td>1 Season</td>\n",
              "      <td>Crime TV Shows, International TV Shows, TV Act...</td>\n",
              "      <td>To protect his family from a powerful drug lor...</td>\n",
              "      <td>2021.0</td>\n",
              "      <td>9.0</td>\n",
              "    </tr>\n",
              "    <tr>\n",
              "      <th>3</th>\n",
              "      <td>s4</td>\n",
              "      <td>TV Show</td>\n",
              "      <td>Jailbirds New Orleans</td>\n",
              "      <td>Audrey Estrougo</td>\n",
              "      <td>NaN</td>\n",
              "      <td>NaN</td>\n",
              "      <td>2021-09-24</td>\n",
              "      <td>2021</td>\n",
              "      <td>TV-MA</td>\n",
              "      <td>1 Season</td>\n",
              "      <td>Docuseries, Reality TV</td>\n",
              "      <td>Feuds, flirtations and toilet talk go down amo...</td>\n",
              "      <td>2021.0</td>\n",
              "      <td>9.0</td>\n",
              "    </tr>\n",
              "    <tr>\n",
              "      <th>4</th>\n",
              "      <td>s5</td>\n",
              "      <td>TV Show</td>\n",
              "      <td>Kota Factory</td>\n",
              "      <td>Raghav Subbu</td>\n",
              "      <td>Mayur More, Jitendra Kumar, Ranjan Raj, Alam K...</td>\n",
              "      <td>India</td>\n",
              "      <td>2021-09-24</td>\n",
              "      <td>2021</td>\n",
              "      <td>TV-MA</td>\n",
              "      <td>2 Seasons</td>\n",
              "      <td>International TV Shows, Romantic TV Shows, TV ...</td>\n",
              "      <td>In a city of coaching centers known to train I...</td>\n",
              "      <td>2021.0</td>\n",
              "      <td>9.0</td>\n",
              "    </tr>\n",
              "  </tbody>\n",
              "</table>\n",
              "</div>"
            ],
            "text/plain": [
              "  show_id     type  ... year_added month_added\n",
              "0      s1    Movie  ...     2021.0         9.0\n",
              "1      s2  TV Show  ...     2021.0         9.0\n",
              "2      s3  TV Show  ...     2021.0         9.0\n",
              "3      s4  TV Show  ...     2021.0         9.0\n",
              "4      s5  TV Show  ...     2021.0         9.0\n",
              "\n",
              "[5 rows x 14 columns]"
            ]
          },
          "metadata": {},
          "execution_count": 5
        }
      ]
    },
    {
      "cell_type": "markdown",
      "metadata": {
        "id": "MvodXys3ZlLj"
      },
      "source": [
        "## **Data Visualisation**"
      ]
    },
    {
      "cell_type": "markdown",
      "metadata": {
        "id": "QGaE6Q_qY1xC"
      },
      "source": [
        "**Create a Bar Plot**"
      ]
    },
    {
      "cell_type": "code",
      "metadata": {
        "id": "sQv1kB0B1jFm",
        "colab": {
          "base_uri": "https://localhost:8080/"
        },
        "outputId": "2603918f-49e5-4d00-896f-f1051a68da5d"
      },
      "source": [
        "plt.bar"
      ],
      "execution_count": null,
      "outputs": [
        {
          "output_type": "execute_result",
          "data": {
            "text/plain": [
              "<function matplotlib.pyplot.bar>"
            ]
          },
          "metadata": {},
          "execution_count": 6
        }
      ]
    },
    {
      "cell_type": "markdown",
      "metadata": {
        "id": "3D1Z8aPvZGdO"
      },
      "source": [
        "**Create new column for count of movies and tvshows by month**"
      ]
    },
    {
      "cell_type": "code",
      "metadata": {
        "id": "hiuOjf5CiIyj"
      },
      "source": [
        "col = 'month_added'\n",
        "vc1 = datafr[col].value_counts().reset_index()\n",
        "vc1 = vc1.rename(columns = {col : \"count\", \"index\" : col})\n",
        "vc1['percent'] = vc1['count'].apply(lambda x : 100*x/sum(vc1['count']))\n",
        "vc1 = vc1.sort_values(col)"
      ],
      "execution_count": null,
      "outputs": []
    },
    {
      "cell_type": "code",
      "metadata": {
        "colab": {
          "base_uri": "https://localhost:8080/",
          "height": 418
        },
        "id": "8sooO0gNjBnM",
        "outputId": "88db2ac0-db1e-427c-b1f3-f53e678c0f1f"
      },
      "source": [
        "vc1"
      ],
      "execution_count": null,
      "outputs": [
        {
          "output_type": "execute_result",
          "data": {
            "text/html": [
              "<div>\n",
              "<style scoped>\n",
              "    .dataframe tbody tr th:only-of-type {\n",
              "        vertical-align: middle;\n",
              "    }\n",
              "\n",
              "    .dataframe tbody tr th {\n",
              "        vertical-align: top;\n",
              "    }\n",
              "\n",
              "    .dataframe thead th {\n",
              "        text-align: right;\n",
              "    }\n",
              "</style>\n",
              "<table border=\"1\" class=\"dataframe\">\n",
              "  <thead>\n",
              "    <tr style=\"text-align: right;\">\n",
              "      <th></th>\n",
              "      <th>month_added</th>\n",
              "      <th>count</th>\n",
              "      <th>percent</th>\n",
              "    </tr>\n",
              "  </thead>\n",
              "  <tbody>\n",
              "    <tr>\n",
              "      <th>7</th>\n",
              "      <td>1.0</td>\n",
              "      <td>738</td>\n",
              "      <td>8.389224</td>\n",
              "    </tr>\n",
              "    <tr>\n",
              "      <th>11</th>\n",
              "      <td>2.0</td>\n",
              "      <td>563</td>\n",
              "      <td>6.399909</td>\n",
              "    </tr>\n",
              "    <tr>\n",
              "      <th>6</th>\n",
              "      <td>3.0</td>\n",
              "      <td>742</td>\n",
              "      <td>8.434694</td>\n",
              "    </tr>\n",
              "    <tr>\n",
              "      <th>3</th>\n",
              "      <td>4.0</td>\n",
              "      <td>764</td>\n",
              "      <td>8.684779</td>\n",
              "    </tr>\n",
              "    <tr>\n",
              "      <th>10</th>\n",
              "      <td>5.0</td>\n",
              "      <td>632</td>\n",
              "      <td>7.184267</td>\n",
              "    </tr>\n",
              "    <tr>\n",
              "      <th>8</th>\n",
              "      <td>6.0</td>\n",
              "      <td>728</td>\n",
              "      <td>8.275548</td>\n",
              "    </tr>\n",
              "    <tr>\n",
              "      <th>0</th>\n",
              "      <td>7.0</td>\n",
              "      <td>827</td>\n",
              "      <td>9.400932</td>\n",
              "    </tr>\n",
              "    <tr>\n",
              "      <th>5</th>\n",
              "      <td>8.0</td>\n",
              "      <td>755</td>\n",
              "      <td>8.582471</td>\n",
              "    </tr>\n",
              "    <tr>\n",
              "      <th>2</th>\n",
              "      <td>9.0</td>\n",
              "      <td>770</td>\n",
              "      <td>8.752984</td>\n",
              "    </tr>\n",
              "    <tr>\n",
              "      <th>4</th>\n",
              "      <td>10.0</td>\n",
              "      <td>760</td>\n",
              "      <td>8.639309</td>\n",
              "    </tr>\n",
              "    <tr>\n",
              "      <th>9</th>\n",
              "      <td>11.0</td>\n",
              "      <td>705</td>\n",
              "      <td>8.014096</td>\n",
              "    </tr>\n",
              "    <tr>\n",
              "      <th>1</th>\n",
              "      <td>12.0</td>\n",
              "      <td>813</td>\n",
              "      <td>9.241787</td>\n",
              "    </tr>\n",
              "  </tbody>\n",
              "</table>\n",
              "</div>"
            ],
            "text/plain": [
              "    month_added  count   percent\n",
              "7           1.0    738  8.389224\n",
              "11          2.0    563  6.399909\n",
              "6           3.0    742  8.434694\n",
              "3           4.0    764  8.684779\n",
              "10          5.0    632  7.184267\n",
              "8           6.0    728  8.275548\n",
              "0           7.0    827  9.400932\n",
              "5           8.0    755  8.582471\n",
              "2           9.0    770  8.752984\n",
              "4          10.0    760  8.639309\n",
              "9          11.0    705  8.014096\n",
              "1          12.0    813  9.241787"
            ]
          },
          "metadata": {},
          "execution_count": 8
        }
      ]
    },
    {
      "cell_type": "markdown",
      "metadata": {
        "id": "HYtfsyl5X2Go"
      },
      "source": [
        "**Creating graph objects to plot**"
      ]
    },
    {
      "cell_type": "code",
      "metadata": {
        "id": "8LWuVkWfkdsG",
        "colab": {
          "base_uri": "https://localhost:8080/",
          "height": 542
        },
        "outputId": "0a6603a5-ea58-4283-8485-a00b1311bc2d"
      },
      "source": [
        "trace1 = go.Bar(x=vc1[col], y=vc1[\"count\"], name=\"TV Shows\", marker=dict(color=\"#a678de\"))\n",
        "data = [trace1]\n",
        "layout = go.Layout(title=\"In which month, the conent is added the most?\", legend=dict(x=0.1, y=1.1, orientation=\"h\"))\n",
        "fig = go.Figure(data, layout=layout)\n",
        "fig.show()"
      ],
      "execution_count": null,
      "outputs": [
        {
          "output_type": "display_data",
          "data": {
            "text/html": [
              "<html>\n",
              "<head><meta charset=\"utf-8\" /></head>\n",
              "<body>\n",
              "    <div>\n",
              "            <script src=\"https://cdnjs.cloudflare.com/ajax/libs/mathjax/2.7.5/MathJax.js?config=TeX-AMS-MML_SVG\"></script><script type=\"text/javascript\">if (window.MathJax) {MathJax.Hub.Config({SVG: {font: \"STIX-Web\"}});}</script>\n",
              "                <script type=\"text/javascript\">window.PlotlyConfig = {MathJaxConfig: 'local'};</script>\n",
              "        <script src=\"https://cdn.plot.ly/plotly-latest.min.js\"></script>    \n",
              "            <div id=\"51c29738-4ae3-4ba9-826f-492e54a36b73\" class=\"plotly-graph-div\" style=\"height:525px; width:100%;\"></div>\n",
              "            <script type=\"text/javascript\">\n",
              "                \n",
              "                    window.PLOTLYENV=window.PLOTLYENV || {};\n",
              "                    \n",
              "                if (document.getElementById(\"51c29738-4ae3-4ba9-826f-492e54a36b73\")) {\n",
              "                    Plotly.newPlot(\n",
              "                        '51c29738-4ae3-4ba9-826f-492e54a36b73',\n",
              "                        [{\"marker\": {\"color\": \"#a678de\"}, \"name\": \"TV Shows\", \"type\": \"bar\", \"x\": [1.0, 2.0, 3.0, 4.0, 5.0, 6.0, 7.0, 8.0, 9.0, 10.0, 11.0, 12.0], \"y\": [738, 563, 742, 764, 632, 728, 827, 755, 770, 760, 705, 813]}],\n",
              "                        {\"legend\": {\"orientation\": \"h\", \"x\": 0.1, \"y\": 1.1}, \"template\": {\"data\": {\"bar\": [{\"error_x\": {\"color\": \"#2a3f5f\"}, \"error_y\": {\"color\": \"#2a3f5f\"}, \"marker\": {\"line\": {\"color\": \"#E5ECF6\", \"width\": 0.5}}, \"type\": \"bar\"}], \"barpolar\": [{\"marker\": {\"line\": {\"color\": \"#E5ECF6\", \"width\": 0.5}}, \"type\": \"barpolar\"}], \"carpet\": [{\"aaxis\": {\"endlinecolor\": \"#2a3f5f\", \"gridcolor\": \"white\", \"linecolor\": \"white\", \"minorgridcolor\": \"white\", \"startlinecolor\": \"#2a3f5f\"}, \"baxis\": {\"endlinecolor\": \"#2a3f5f\", \"gridcolor\": \"white\", \"linecolor\": \"white\", \"minorgridcolor\": \"white\", \"startlinecolor\": \"#2a3f5f\"}, \"type\": \"carpet\"}], \"choropleth\": [{\"colorbar\": {\"outlinewidth\": 0, \"ticks\": \"\"}, \"type\": \"choropleth\"}], \"contour\": [{\"colorbar\": {\"outlinewidth\": 0, \"ticks\": \"\"}, \"colorscale\": [[0.0, \"#0d0887\"], [0.1111111111111111, \"#46039f\"], [0.2222222222222222, \"#7201a8\"], [0.3333333333333333, \"#9c179e\"], [0.4444444444444444, \"#bd3786\"], [0.5555555555555556, \"#d8576b\"], [0.6666666666666666, \"#ed7953\"], [0.7777777777777778, \"#fb9f3a\"], [0.8888888888888888, \"#fdca26\"], [1.0, \"#f0f921\"]], \"type\": \"contour\"}], \"contourcarpet\": [{\"colorbar\": {\"outlinewidth\": 0, \"ticks\": \"\"}, \"type\": \"contourcarpet\"}], \"heatmap\": [{\"colorbar\": {\"outlinewidth\": 0, \"ticks\": \"\"}, \"colorscale\": [[0.0, \"#0d0887\"], [0.1111111111111111, \"#46039f\"], [0.2222222222222222, \"#7201a8\"], [0.3333333333333333, \"#9c179e\"], [0.4444444444444444, \"#bd3786\"], [0.5555555555555556, \"#d8576b\"], [0.6666666666666666, \"#ed7953\"], [0.7777777777777778, \"#fb9f3a\"], [0.8888888888888888, \"#fdca26\"], [1.0, \"#f0f921\"]], \"type\": \"heatmap\"}], \"heatmapgl\": [{\"colorbar\": {\"outlinewidth\": 0, \"ticks\": \"\"}, \"colorscale\": [[0.0, \"#0d0887\"], [0.1111111111111111, \"#46039f\"], [0.2222222222222222, \"#7201a8\"], [0.3333333333333333, \"#9c179e\"], [0.4444444444444444, \"#bd3786\"], [0.5555555555555556, \"#d8576b\"], [0.6666666666666666, \"#ed7953\"], [0.7777777777777778, \"#fb9f3a\"], [0.8888888888888888, \"#fdca26\"], [1.0, \"#f0f921\"]], \"type\": \"heatmapgl\"}], \"histogram\": [{\"marker\": {\"colorbar\": {\"outlinewidth\": 0, \"ticks\": \"\"}}, \"type\": \"histogram\"}], \"histogram2d\": [{\"colorbar\": {\"outlinewidth\": 0, \"ticks\": \"\"}, \"colorscale\": [[0.0, \"#0d0887\"], [0.1111111111111111, \"#46039f\"], [0.2222222222222222, \"#7201a8\"], [0.3333333333333333, \"#9c179e\"], [0.4444444444444444, \"#bd3786\"], [0.5555555555555556, \"#d8576b\"], [0.6666666666666666, \"#ed7953\"], [0.7777777777777778, \"#fb9f3a\"], [0.8888888888888888, \"#fdca26\"], [1.0, \"#f0f921\"]], \"type\": \"histogram2d\"}], \"histogram2dcontour\": [{\"colorbar\": {\"outlinewidth\": 0, \"ticks\": \"\"}, \"colorscale\": [[0.0, \"#0d0887\"], [0.1111111111111111, \"#46039f\"], [0.2222222222222222, \"#7201a8\"], [0.3333333333333333, \"#9c179e\"], [0.4444444444444444, \"#bd3786\"], [0.5555555555555556, \"#d8576b\"], [0.6666666666666666, \"#ed7953\"], [0.7777777777777778, \"#fb9f3a\"], [0.8888888888888888, \"#fdca26\"], [1.0, \"#f0f921\"]], \"type\": \"histogram2dcontour\"}], \"mesh3d\": [{\"colorbar\": {\"outlinewidth\": 0, \"ticks\": \"\"}, \"type\": \"mesh3d\"}], \"parcoords\": [{\"line\": {\"colorbar\": {\"outlinewidth\": 0, \"ticks\": \"\"}}, \"type\": \"parcoords\"}], \"pie\": [{\"automargin\": true, \"type\": \"pie\"}], \"scatter\": [{\"marker\": {\"colorbar\": {\"outlinewidth\": 0, \"ticks\": \"\"}}, \"type\": \"scatter\"}], \"scatter3d\": [{\"line\": {\"colorbar\": {\"outlinewidth\": 0, \"ticks\": \"\"}}, \"marker\": {\"colorbar\": {\"outlinewidth\": 0, \"ticks\": \"\"}}, \"type\": \"scatter3d\"}], \"scattercarpet\": [{\"marker\": {\"colorbar\": {\"outlinewidth\": 0, \"ticks\": \"\"}}, \"type\": \"scattercarpet\"}], \"scattergeo\": [{\"marker\": {\"colorbar\": {\"outlinewidth\": 0, \"ticks\": \"\"}}, \"type\": \"scattergeo\"}], \"scattergl\": [{\"marker\": {\"colorbar\": {\"outlinewidth\": 0, \"ticks\": \"\"}}, \"type\": \"scattergl\"}], \"scattermapbox\": [{\"marker\": {\"colorbar\": {\"outlinewidth\": 0, \"ticks\": \"\"}}, \"type\": \"scattermapbox\"}], \"scatterpolar\": [{\"marker\": {\"colorbar\": {\"outlinewidth\": 0, \"ticks\": \"\"}}, \"type\": \"scatterpolar\"}], \"scatterpolargl\": [{\"marker\": {\"colorbar\": {\"outlinewidth\": 0, \"ticks\": \"\"}}, \"type\": \"scatterpolargl\"}], \"scatterternary\": [{\"marker\": {\"colorbar\": {\"outlinewidth\": 0, \"ticks\": \"\"}}, \"type\": \"scatterternary\"}], \"surface\": [{\"colorbar\": {\"outlinewidth\": 0, \"ticks\": \"\"}, \"colorscale\": [[0.0, \"#0d0887\"], [0.1111111111111111, \"#46039f\"], [0.2222222222222222, \"#7201a8\"], [0.3333333333333333, \"#9c179e\"], [0.4444444444444444, \"#bd3786\"], [0.5555555555555556, \"#d8576b\"], [0.6666666666666666, \"#ed7953\"], [0.7777777777777778, \"#fb9f3a\"], [0.8888888888888888, \"#fdca26\"], [1.0, \"#f0f921\"]], \"type\": \"surface\"}], \"table\": [{\"cells\": {\"fill\": {\"color\": \"#EBF0F8\"}, \"line\": {\"color\": \"white\"}}, \"header\": {\"fill\": {\"color\": \"#C8D4E3\"}, \"line\": {\"color\": \"white\"}}, \"type\": \"table\"}]}, \"layout\": {\"annotationdefaults\": {\"arrowcolor\": \"#2a3f5f\", \"arrowhead\": 0, \"arrowwidth\": 1}, \"coloraxis\": {\"colorbar\": {\"outlinewidth\": 0, \"ticks\": \"\"}}, \"colorscale\": {\"diverging\": [[0, \"#8e0152\"], [0.1, \"#c51b7d\"], [0.2, \"#de77ae\"], [0.3, \"#f1b6da\"], [0.4, \"#fde0ef\"], [0.5, \"#f7f7f7\"], [0.6, \"#e6f5d0\"], [0.7, \"#b8e186\"], [0.8, \"#7fbc41\"], [0.9, \"#4d9221\"], [1, \"#276419\"]], \"sequential\": [[0.0, \"#0d0887\"], [0.1111111111111111, \"#46039f\"], [0.2222222222222222, \"#7201a8\"], [0.3333333333333333, \"#9c179e\"], [0.4444444444444444, \"#bd3786\"], [0.5555555555555556, \"#d8576b\"], [0.6666666666666666, \"#ed7953\"], [0.7777777777777778, \"#fb9f3a\"], [0.8888888888888888, \"#fdca26\"], [1.0, \"#f0f921\"]], \"sequentialminus\": [[0.0, \"#0d0887\"], [0.1111111111111111, \"#46039f\"], [0.2222222222222222, \"#7201a8\"], [0.3333333333333333, \"#9c179e\"], [0.4444444444444444, \"#bd3786\"], [0.5555555555555556, \"#d8576b\"], [0.6666666666666666, \"#ed7953\"], [0.7777777777777778, \"#fb9f3a\"], [0.8888888888888888, \"#fdca26\"], [1.0, \"#f0f921\"]]}, \"colorway\": [\"#636efa\", \"#EF553B\", \"#00cc96\", \"#ab63fa\", \"#FFA15A\", \"#19d3f3\", \"#FF6692\", \"#B6E880\", \"#FF97FF\", \"#FECB52\"], \"font\": {\"color\": \"#2a3f5f\"}, \"geo\": {\"bgcolor\": \"white\", \"lakecolor\": \"white\", \"landcolor\": \"#E5ECF6\", \"showlakes\": true, \"showland\": true, \"subunitcolor\": \"white\"}, \"hoverlabel\": {\"align\": \"left\"}, \"hovermode\": \"closest\", \"mapbox\": {\"style\": \"light\"}, \"paper_bgcolor\": \"white\", \"plot_bgcolor\": \"#E5ECF6\", \"polar\": {\"angularaxis\": {\"gridcolor\": \"white\", \"linecolor\": \"white\", \"ticks\": \"\"}, \"bgcolor\": \"#E5ECF6\", \"radialaxis\": {\"gridcolor\": \"white\", \"linecolor\": \"white\", \"ticks\": \"\"}}, \"scene\": {\"xaxis\": {\"backgroundcolor\": \"#E5ECF6\", \"gridcolor\": \"white\", \"gridwidth\": 2, \"linecolor\": \"white\", \"showbackground\": true, \"ticks\": \"\", \"zerolinecolor\": \"white\"}, \"yaxis\": {\"backgroundcolor\": \"#E5ECF6\", \"gridcolor\": \"white\", \"gridwidth\": 2, \"linecolor\": \"white\", \"showbackground\": true, \"ticks\": \"\", \"zerolinecolor\": \"white\"}, \"zaxis\": {\"backgroundcolor\": \"#E5ECF6\", \"gridcolor\": \"white\", \"gridwidth\": 2, \"linecolor\": \"white\", \"showbackground\": true, \"ticks\": \"\", \"zerolinecolor\": \"white\"}}, \"shapedefaults\": {\"line\": {\"color\": \"#2a3f5f\"}}, \"ternary\": {\"aaxis\": {\"gridcolor\": \"white\", \"linecolor\": \"white\", \"ticks\": \"\"}, \"baxis\": {\"gridcolor\": \"white\", \"linecolor\": \"white\", \"ticks\": \"\"}, \"bgcolor\": \"#E5ECF6\", \"caxis\": {\"gridcolor\": \"white\", \"linecolor\": \"white\", \"ticks\": \"\"}}, \"title\": {\"x\": 0.05}, \"xaxis\": {\"automargin\": true, \"gridcolor\": \"white\", \"linecolor\": \"white\", \"ticks\": \"\", \"title\": {\"standoff\": 15}, \"zerolinecolor\": \"white\", \"zerolinewidth\": 2}, \"yaxis\": {\"automargin\": true, \"gridcolor\": \"white\", \"linecolor\": \"white\", \"ticks\": \"\", \"title\": {\"standoff\": 15}, \"zerolinecolor\": \"white\", \"zerolinewidth\": 2}}}, \"title\": {\"text\": \"In which month, the conent is added the most?\"}},\n",
              "                        {\"responsive\": true}\n",
              "                    ).then(function(){\n",
              "                            \n",
              "var gd = document.getElementById('51c29738-4ae3-4ba9-826f-492e54a36b73');\n",
              "var x = new MutationObserver(function (mutations, observer) {{\n",
              "        var display = window.getComputedStyle(gd).display;\n",
              "        if (!display || display === 'none') {{\n",
              "            console.log([gd, 'removed!']);\n",
              "            Plotly.purge(gd);\n",
              "            observer.disconnect();\n",
              "        }}\n",
              "}});\n",
              "\n",
              "// Listen for the removal of the full notebook cells\n",
              "var notebookContainer = gd.closest('#notebook-container');\n",
              "if (notebookContainer) {{\n",
              "    x.observe(notebookContainer, {childList: true});\n",
              "}}\n",
              "\n",
              "// Listen for the clearing of the current output cell\n",
              "var outputEl = gd.closest('.output');\n",
              "if (outputEl) {{\n",
              "    x.observe(outputEl, {childList: true});\n",
              "}}\n",
              "\n",
              "                        })\n",
              "                };\n",
              "                \n",
              "            </script>\n",
              "        </div>\n",
              "</body>\n",
              "</html>"
            ]
          },
          "metadata": {}
        }
      ]
    },
    {
      "cell_type": "markdown",
      "metadata": {
        "id": "bpswmHIIZeH3"
      },
      "source": [
        "**Geographical Visualisation and bar plot, counting content country wise**"
      ]
    },
    {
      "cell_type": "code",
      "metadata": {
        "id": "FV7qyxWF2rui",
        "colab": {
          "base_uri": "https://localhost:8080/",
          "height": 1000
        },
        "outputId": "50834efa-7deb-4366-8e25-b3d0b78d89fa"
      },
      "source": [
        "country_codes = {'afghanistan': 'AFG',\n",
        " 'albania': 'ALB',\n",
        " 'algeria': 'DZA',\n",
        " 'american samoa': 'ASM',\n",
        " 'andorra': 'AND',\n",
        " 'angola': 'AGO',\n",
        " 'anguilla': 'AIA',\n",
        " 'antigua and barbuda': 'ATG',\n",
        " 'argentina': 'ARG',\n",
        " 'armenia': 'ARM',\n",
        " 'aruba': 'ABW',\n",
        " 'australia': 'AUS',\n",
        " 'austria': 'AUT',\n",
        " 'azerbaijan': 'AZE',\n",
        " 'bahamas': 'BHM',\n",
        " 'bahrain': 'BHR',\n",
        " 'bangladesh': 'BGD',\n",
        " 'barbados': 'BRB',\n",
        " 'belarus': 'BLR',\n",
        " 'belgium': 'BEL',\n",
        " 'belize': 'BLZ',\n",
        " 'benin': 'BEN',\n",
        " 'bermuda': 'BMU',\n",
        " 'bhutan': 'BTN',\n",
        " 'bolivia': 'BOL',\n",
        " 'bosnia and herzegovina': 'BIH',\n",
        " 'botswana': 'BWA',\n",
        " 'brazil': 'BRA',\n",
        " 'british virgin islands': 'VGB',\n",
        " 'brunei': 'BRN',\n",
        " 'bulgaria': 'BGR',\n",
        " 'burkina faso': 'BFA',\n",
        " 'burma': 'MMR',\n",
        " 'burundi': 'BDI',\n",
        " 'cabo verde': 'CPV',\n",
        " 'cambodia': 'KHM',\n",
        " 'cameroon': 'CMR',\n",
        " 'canada': 'CAN',\n",
        " 'cayman islands': 'CYM',\n",
        " 'central african republic': 'CAF',\n",
        " 'chad': 'TCD',\n",
        " 'chile': 'CHL',\n",
        " 'china': 'CHN',\n",
        " 'colombia': 'COL',\n",
        " 'comoros': 'COM',\n",
        " 'congo democratic': 'COD',\n",
        " 'Congo republic': 'COG',\n",
        " 'cook islands': 'COK',\n",
        " 'costa rica': 'CRI',\n",
        " \"cote d'ivoire\": 'CIV',\n",
        " 'croatia': 'HRV',\n",
        " 'cuba': 'CUB',\n",
        " 'curacao': 'CUW',\n",
        " 'cyprus': 'CYP',\n",
        " 'czech republic': 'CZE',\n",
        " 'denmark': 'DNK',\n",
        " 'djibouti': 'DJI',\n",
        " 'dominica': 'DMA',\n",
        " 'dominican republic': 'DOM',\n",
        " 'ecuador': 'ECU',\n",
        " 'egypt': 'EGY',\n",
        " 'el salvador': 'SLV',\n",
        " 'equatorial guinea': 'GNQ',\n",
        " 'eritrea': 'ERI',\n",
        " 'estonia': 'EST',\n",
        " 'ethiopia': 'ETH',\n",
        " 'falkland islands': 'FLK',\n",
        " 'faroe islands': 'FRO',\n",
        " 'fiji': 'FJI',\n",
        " 'finland': 'FIN',\n",
        " 'france': 'FRA',\n",
        " 'french polynesia': 'PYF',\n",
        " 'gabon': 'GAB',\n",
        " 'gambia, the': 'GMB',\n",
        " 'georgia': 'GEO',\n",
        " 'germany': 'DEU',\n",
        " 'ghana': 'GHA',\n",
        " 'gibraltar': 'GIB',\n",
        " 'greece': 'GRC',\n",
        " 'greenland': 'GRL',\n",
        " 'grenada': 'GRD',\n",
        " 'guam': 'GUM',\n",
        " 'guatemala': 'GTM',\n",
        " 'guernsey': 'GGY',\n",
        " 'guinea-bissau': 'GNB',\n",
        " 'guinea': 'GIN',\n",
        " 'guyana': 'GUY',\n",
        " 'haiti': 'HTI',\n",
        " 'honduras': 'HND',\n",
        " 'hong kong': 'HKG',\n",
        " 'hungary': 'HUN',\n",
        " 'iceland': 'ISL',\n",
        " 'india': 'IND',\n",
        " 'indonesia': 'IDN',\n",
        " 'iran': 'IRN',\n",
        " 'iraq': 'IRQ',\n",
        " 'ireland': 'IRL',\n",
        " 'isle of man': 'IMN',\n",
        " 'israel': 'ISR',\n",
        " 'italy': 'ITA',\n",
        " 'jamaica': 'JAM',\n",
        " 'japan': 'JPN',\n",
        " 'jersey': 'JEY',\n",
        " 'jordan': 'JOR',\n",
        " 'kazakhstan': 'KAZ',\n",
        " 'kenya': 'KEN',\n",
        " 'kiribati': 'KIR',\n",
        " 'north korea': 'PRK',\n",
        " 'south korea': 'KOR',\n",
        " 'kosovo': 'KSV',\n",
        " 'kuwait': 'KWT',\n",
        " 'kyrgyzstan': 'KGZ',\n",
        " 'laos': 'LAO',\n",
        " 'latvia': 'LVA',\n",
        " 'lebanon': 'LBN',\n",
        " 'lesotho': 'LSO',\n",
        " 'liberia': 'LBR',\n",
        " 'libya': 'LBY',\n",
        " 'liechtenstein': 'LIE',\n",
        " 'lithuania': 'LTU',\n",
        " 'luxembourg': 'LUX',\n",
        " 'macau': 'MAC',\n",
        " 'macedonia': 'MKD',\n",
        " 'madagascar': 'MDG',\n",
        " 'malawi': 'MWI',\n",
        " 'malaysia': 'MYS',\n",
        " 'maldives': 'MDV',\n",
        " 'mali': 'MLI',\n",
        " 'malta': 'MLT',\n",
        " 'marshall islands': 'MHL',\n",
        " 'mauritania': 'MRT',\n",
        " 'mauritius': 'MUS',\n",
        " 'mexico': 'MEX',\n",
        " 'micronesia': 'FSM',\n",
        " 'moldova': 'MDA',\n",
        " 'monaco': 'MCO',\n",
        " 'mongolia': 'MNG',\n",
        " 'montenegro': 'MNE',\n",
        " 'morocco': 'MAR',\n",
        " 'mozambique': 'MOZ',\n",
        " 'namibia': 'NAM',\n",
        " 'nepal': 'NPL',\n",
        " 'netherlands': 'NLD',\n",
        " 'new caledonia': 'NCL',\n",
        " 'new zealand': 'NZL',\n",
        " 'nicaragua': 'NIC',\n",
        " 'nigeria': 'NGA',\n",
        " 'niger': 'NER',\n",
        " 'niue': 'NIU',\n",
        " 'northern mariana islands': 'MNP',\n",
        " 'norway': 'NOR',\n",
        " 'oman': 'OMN',\n",
        " 'pakistan': 'PAK',\n",
        " 'palau': 'PLW',\n",
        " 'panama': 'PAN',\n",
        " 'papua new guinea': 'PNG',\n",
        " 'paraguay': 'PRY',\n",
        " 'peru': 'PER',\n",
        " 'philippines': 'PHL',\n",
        " 'poland': 'POL',\n",
        " 'portugal': 'PRT',\n",
        " 'puerto rico': 'PRI',\n",
        " 'qatar': 'QAT',\n",
        " 'romania': 'ROU',\n",
        " 'russia': 'RUS',\n",
        " 'rwanda': 'RWA',\n",
        " 'saint kitts and nevis': 'KNA',\n",
        " 'saint lucia': 'LCA',\n",
        " 'saint martin': 'MAF',\n",
        " 'saint pierre and miquelon': 'SPM',\n",
        " 'saint vincent and the grenadines': 'VCT',\n",
        " 'samoa': 'WSM',\n",
        " 'san marino': 'SMR',\n",
        " 'sao tome and principe': 'STP',\n",
        " 'saudi arabia': 'SAU',\n",
        " 'senegal': 'SEN',\n",
        " 'serbia': 'SRB',\n",
        " 'seychelles': 'SYC',\n",
        " 'sierra leone': 'SLE',\n",
        " 'singapore': 'SGP',\n",
        " 'sint maarten': 'SXM',\n",
        " 'slovakia': 'SVK',\n",
        " 'slovenia': 'SVN',\n",
        " 'solomon islands': 'SLB',\n",
        " 'somalia': 'SOM',\n",
        " 'south africa': 'ZAF',\n",
        " 'south sudan': 'SSD',\n",
        " 'spain': 'ESP',\n",
        " 'sri lanka': 'LKA',\n",
        " 'sudan': 'SDN',\n",
        " 'suriname': 'SUR',\n",
        " 'swaziland': 'SWZ',\n",
        " 'sweden': 'SWE',\n",
        " 'switzerland': 'CHE',\n",
        " 'syria': 'SYR',\n",
        " 'taiwan': 'TWN',\n",
        " 'tajikistan': 'TJK',\n",
        " 'tanzania': 'TZA',\n",
        " 'thailand': 'THA',\n",
        " 'timor-leste': 'TLS',\n",
        " 'togo': 'TGO',\n",
        " 'tonga': 'TON',\n",
        " 'trinidad and tobago': 'TTO',\n",
        " 'tunisia': 'TUN',\n",
        " 'turkey': 'TUR',\n",
        " 'turkmenistan': 'TKM',\n",
        " 'tuvalu': 'TUV',\n",
        " 'uganda': 'UGA',\n",
        " 'ukraine': 'UKR',\n",
        " 'united arab emirates': 'ARE',\n",
        " 'united kingdom': 'GBR',\n",
        " 'united states': 'USA',\n",
        " 'uruguay': 'URY',\n",
        " 'uzbekistan': 'UZB',\n",
        " 'vanuatu': 'VUT',\n",
        " 'venezuela': 'VEN',\n",
        " 'vietnam': 'VNM',\n",
        " 'virgin islands': 'VGB',\n",
        " 'west bank': 'WBG',\n",
        " 'yemen': 'YEM',\n",
        " 'zambia': 'ZMB',\n",
        " 'zimbabwe': 'ZWE'}\n",
        "\n",
        "## countries \n",
        "from collections import Counter\n",
        "colorscale = [\"#f7fbff\", \"#ebf3fb\", \"#deebf7\", \"#d2e3f3\", \"#c6dbef\", \"#b3d2e9\", \"#9ecae1\",\n",
        "    \"#85bcdb\", \"#6baed6\", \"#57a0ce\", \"#4292c6\", \"#3082be\", \"#2171b5\", \"#1361a9\",\n",
        "    \"#08519c\", \"#0b4083\", \"#08306b\"\n",
        "]\n",
        "    \n",
        "def geoplot(ddf):\n",
        "    country_with_code, country = {}, {}\n",
        "    shows_countries = \", \".join(ddf['country'].dropna()).split(\", \")\n",
        "    for c,v in dict(Counter(shows_countries)).items():\n",
        "        code = \"\"\n",
        "        if c.lower() in country_codes:\n",
        "            code = country_codes[c.lower()]\n",
        "        country_with_code[code] = v\n",
        "        country[c] = v\n",
        "\n",
        "    data = [dict(\n",
        "            type = 'choropleth',\n",
        "            locations = list(country_with_code.keys()),\n",
        "            z = list(country_with_code.values()),\n",
        "            colorscale = [[0,\"rgb(5, 10, 172)\"],[0.65,\"rgb(40, 60, 190)\"],[0.75,\"rgb(70, 100, 245)\"],\\\n",
        "                        [0.80,\"rgb(90, 120, 245)\"],[0.9,\"rgb(106, 137, 247)\"],[1,\"rgb(220, 220, 220)\"]],\n",
        "            autocolorscale = False,\n",
        "            reversescale = True,\n",
        "            marker = dict(\n",
        "                line = dict (\n",
        "                    color = 'gray',\n",
        "                    width = 0.5\n",
        "                ) ),\n",
        "            colorbar = dict(\n",
        "                autotick = False,\n",
        "                title = ''),\n",
        "          ) ]\n",
        "\n",
        "    layout = dict(\n",
        "        title = '',\n",
        "        geo = dict(\n",
        "            showframe = False,\n",
        "            showcoastlines = False,\n",
        "            projection = dict(\n",
        "                type = 'Mercator'\n",
        "            )\n",
        "        )\n",
        "    )\n",
        "\n",
        "    fig = dict( data=data, layout=layout )\n",
        "    iplot( fig, validate=False, filename='d3-world-map' )\n",
        "    return country\n",
        "\n",
        "country_vals = geoplot(datafr)\n",
        "tabs = Counter(country_vals).most_common(25)\n",
        "\n",
        "labels = [_[0] for _ in tabs][::-1]\n",
        "values = [_[1] for _ in tabs][::-1]\n",
        "trace1 = go.Bar(y=labels, x=values, orientation=\"h\", name=\"\", marker=dict(color=\"#a678de\"))\n",
        "\n",
        "data = [trace1]\n",
        "layout = go.Layout(title=\"Countries with most content\", height=700, legend=dict(x=0.1, y=1.1, orientation=\"h\"))\n",
        "fig = go.Figure(data, layout=layout)\n",
        "fig.show()"
      ],
      "execution_count": null,
      "outputs": [
        {
          "output_type": "display_data",
          "data": {
            "text/html": [
              "<html>\n",
              "<head><meta charset=\"utf-8\" /></head>\n",
              "<body>\n",
              "    <div>\n",
              "            <script src=\"https://cdnjs.cloudflare.com/ajax/libs/mathjax/2.7.5/MathJax.js?config=TeX-AMS-MML_SVG\"></script><script type=\"text/javascript\">if (window.MathJax) {MathJax.Hub.Config({SVG: {font: \"STIX-Web\"}});}</script>\n",
              "                <script type=\"text/javascript\">window.PlotlyConfig = {MathJaxConfig: 'local'};</script>\n",
              "        <script src=\"https://cdn.plot.ly/plotly-latest.min.js\"></script>    \n",
              "            <div id=\"ffb72c23-b5ac-4152-8dee-8a5e2006b174\" class=\"plotly-graph-div\" style=\"height:525px; width:100%;\"></div>\n",
              "            <script type=\"text/javascript\">\n",
              "                \n",
              "                    window.PLOTLYENV=window.PLOTLYENV || {};\n",
              "                    \n",
              "                if (document.getElementById(\"ffb72c23-b5ac-4152-8dee-8a5e2006b174\")) {\n",
              "                    Plotly.newPlot(\n",
              "                        'ffb72c23-b5ac-4152-8dee-8a5e2006b174',\n",
              "                        [{\"autocolorscale\": false, \"colorbar\": {\"autotick\": false, \"title\": \"\"}, \"colorscale\": [[0, \"rgb(5, 10, 172)\"], [0.65, \"rgb(40, 60, 190)\"], [0.75, \"rgb(70, 100, 245)\"], [0.8, \"rgb(90, 120, 245)\"], [0.9, \"rgb(106, 137, 247)\"], [1, \"rgb(220, 220, 220)\"]], \"locations\": [\"USA\", \"ZAF\", \"IND\", \"GHA\", \"BFA\", \"GBR\", \"DEU\", \"ETH\", \"CZE\", \"MEX\", \"TUR\", \"AUS\", \"FRA\", \"FIN\", \"CHN\", \"CAN\", \"JPN\", \"NGA\", \"ESP\", \"BEL\", \"KOR\", \"SGP\", \"ITA\", \"ROU\", \"ARG\", \"VEN\", \"HKG\", \"RUS\", \"\", \"IRL\", \"NPL\", \"NZL\", \"BRA\", \"GRC\", \"JOR\", \"COL\", \"CHE\", \"ISR\", \"TWN\", \"BGR\", \"DZA\", \"POL\", \"SAU\", \"THA\", \"IDN\", \"EGY\", \"DNK\", \"KWT\", \"NLD\", \"MYS\", \"VNM\", \"HUN\", \"SWE\", \"LBN\", \"SYR\", \"PHL\", \"ISL\", \"ARE\", \"NOR\", \"QAT\", \"MUS\", \"AUT\", \"CMR\", \"URY\", \"KEN\", \"CHL\", \"LUX\", \"KHM\", \"BGD\", \"PRT\", \"CYM\", \"SEN\", \"SRB\", \"MLT\", \"NAM\", \"AGO\", \"PER\", \"MOZ\", \"BLR\", \"ZWE\", \"PRI\", \"PAK\", \"CYP\", \"GTM\", \"IRQ\", \"MWI\", \"PRY\", \"HRV\", \"IRN\", \"ALB\", \"GEO\", \"MAR\", \"SVK\", \"UKR\", \"BMU\", \"ECU\", \"ARM\", \"MNG\", \"BHM\", \"LKA\", \"LVA\", \"LIE\", \"CUB\", \"NIC\", \"SVN\", \"DOM\", \"WSM\", \"AZE\", \"BWA\", \"JAM\", \"KAZ\", \"LTU\", \"AFG\", \"SOM\", \"SDN\", \"PAN\", \"UGA\", \"MNE\"], \"marker\": {\"line\": {\"color\": \"gray\", \"width\": 0.5}}, \"reversescale\": true, \"type\": \"choropleth\", \"z\": [3689, 62, 1046, 5, 1, 804, 226, 1, 22, 169, 113, 160, 393, 11, 162, 445, 318, 103, 232, 90, 231, 41, 100, 14, 91, 4, 105, 27, 1, 46, 2, 33, 97, 11, 9, 52, 19, 30, 89, 10, 3, 40, 13, 70, 90, 117, 48, 8, 50, 26, 7, 11, 42, 31, 3, 83, 11, 37, 30, 10, 2, 12, 1, 14, 6, 29, 12, 5, 4, 6, 2, 3, 7, 3, 2, 1, 10, 1, 1, 3, 1, 24, 1, 2, 2, 1, 1, 4, 4, 1, 2, 6, 1, 3, 1, 1, 1, 1, 1, 1, 1, 1, 1, 1, 3, 1, 1, 1, 1, 1, 1, 1, 1, 1, 1, 1, 1, 1]}],\n",
              "                        {\"geo\": {\"projection\": {\"type\": \"Mercator\"}, \"showcoastlines\": false, \"showframe\": false}, \"title\": \"\"},\n",
              "                        {\"responsive\": true}\n",
              "                    ).then(function(){\n",
              "                            \n",
              "var gd = document.getElementById('ffb72c23-b5ac-4152-8dee-8a5e2006b174');\n",
              "var x = new MutationObserver(function (mutations, observer) {{\n",
              "        var display = window.getComputedStyle(gd).display;\n",
              "        if (!display || display === 'none') {{\n",
              "            console.log([gd, 'removed!']);\n",
              "            Plotly.purge(gd);\n",
              "            observer.disconnect();\n",
              "        }}\n",
              "}});\n",
              "\n",
              "// Listen for the removal of the full notebook cells\n",
              "var notebookContainer = gd.closest('#notebook-container');\n",
              "if (notebookContainer) {{\n",
              "    x.observe(notebookContainer, {childList: true});\n",
              "}}\n",
              "\n",
              "// Listen for the clearing of the current output cell\n",
              "var outputEl = gd.closest('.output');\n",
              "if (outputEl) {{\n",
              "    x.observe(outputEl, {childList: true});\n",
              "}}\n",
              "\n",
              "                        })\n",
              "                };\n",
              "                \n",
              "            </script>\n",
              "        </div>\n",
              "</body>\n",
              "</html>"
            ]
          },
          "metadata": {}
        },
        {
          "output_type": "display_data",
          "data": {
            "text/html": [
              "<html>\n",
              "<head><meta charset=\"utf-8\" /></head>\n",
              "<body>\n",
              "    <div>\n",
              "            <script src=\"https://cdnjs.cloudflare.com/ajax/libs/mathjax/2.7.5/MathJax.js?config=TeX-AMS-MML_SVG\"></script><script type=\"text/javascript\">if (window.MathJax) {MathJax.Hub.Config({SVG: {font: \"STIX-Web\"}});}</script>\n",
              "                <script type=\"text/javascript\">window.PlotlyConfig = {MathJaxConfig: 'local'};</script>\n",
              "        <script src=\"https://cdn.plot.ly/plotly-latest.min.js\"></script>    \n",
              "            <div id=\"f94cff07-fce7-42d0-8442-00e9ecb9c02f\" class=\"plotly-graph-div\" style=\"height:700px; width:100%;\"></div>\n",
              "            <script type=\"text/javascript\">\n",
              "                \n",
              "                    window.PLOTLYENV=window.PLOTLYENV || {};\n",
              "                    \n",
              "                if (document.getElementById(\"f94cff07-fce7-42d0-8442-00e9ecb9c02f\")) {\n",
              "                    Plotly.newPlot(\n",
              "                        'f94cff07-fce7-42d0-8442-00e9ecb9c02f',\n",
              "                        [{\"marker\": {\"color\": \"#a678de\"}, \"name\": \"\", \"orientation\": \"h\", \"type\": \"bar\", \"x\": [62, 70, 83, 89, 90, 90, 91, 97, 100, 103, 105, 113, 117, 160, 162, 169, 226, 231, 232, 318, 393, 445, 804, 1046, 3689], \"y\": [\"South Africa\", \"Thailand\", \"Philippines\", \"Taiwan\", \"Indonesia\", \"Belgium\", \"Argentina\", \"Brazil\", \"Italy\", \"Nigeria\", \"Hong Kong\", \"Turkey\", \"Egypt\", \"Australia\", \"China\", \"Mexico\", \"Germany\", \"South Korea\", \"Spain\", \"Japan\", \"France\", \"Canada\", \"United Kingdom\", \"India\", \"United States\"]}],\n",
              "                        {\"height\": 700, \"legend\": {\"orientation\": \"h\", \"x\": 0.1, \"y\": 1.1}, \"template\": {\"data\": {\"bar\": [{\"error_x\": {\"color\": \"#2a3f5f\"}, \"error_y\": {\"color\": \"#2a3f5f\"}, \"marker\": {\"line\": {\"color\": \"#E5ECF6\", \"width\": 0.5}}, \"type\": \"bar\"}], \"barpolar\": [{\"marker\": {\"line\": {\"color\": \"#E5ECF6\", \"width\": 0.5}}, \"type\": \"barpolar\"}], \"carpet\": [{\"aaxis\": {\"endlinecolor\": \"#2a3f5f\", \"gridcolor\": \"white\", \"linecolor\": \"white\", \"minorgridcolor\": \"white\", \"startlinecolor\": \"#2a3f5f\"}, \"baxis\": {\"endlinecolor\": \"#2a3f5f\", \"gridcolor\": \"white\", \"linecolor\": \"white\", \"minorgridcolor\": \"white\", \"startlinecolor\": \"#2a3f5f\"}, \"type\": \"carpet\"}], \"choropleth\": [{\"colorbar\": {\"outlinewidth\": 0, \"ticks\": \"\"}, \"type\": \"choropleth\"}], \"contour\": [{\"colorbar\": {\"outlinewidth\": 0, \"ticks\": \"\"}, \"colorscale\": [[0.0, \"#0d0887\"], [0.1111111111111111, \"#46039f\"], [0.2222222222222222, \"#7201a8\"], [0.3333333333333333, \"#9c179e\"], [0.4444444444444444, \"#bd3786\"], [0.5555555555555556, \"#d8576b\"], [0.6666666666666666, \"#ed7953\"], [0.7777777777777778, \"#fb9f3a\"], [0.8888888888888888, \"#fdca26\"], [1.0, \"#f0f921\"]], \"type\": \"contour\"}], \"contourcarpet\": [{\"colorbar\": {\"outlinewidth\": 0, \"ticks\": \"\"}, \"type\": \"contourcarpet\"}], \"heatmap\": [{\"colorbar\": {\"outlinewidth\": 0, \"ticks\": \"\"}, \"colorscale\": [[0.0, \"#0d0887\"], [0.1111111111111111, \"#46039f\"], [0.2222222222222222, \"#7201a8\"], [0.3333333333333333, \"#9c179e\"], [0.4444444444444444, \"#bd3786\"], [0.5555555555555556, \"#d8576b\"], [0.6666666666666666, \"#ed7953\"], [0.7777777777777778, \"#fb9f3a\"], [0.8888888888888888, \"#fdca26\"], [1.0, \"#f0f921\"]], \"type\": \"heatmap\"}], \"heatmapgl\": [{\"colorbar\": {\"outlinewidth\": 0, \"ticks\": \"\"}, \"colorscale\": [[0.0, \"#0d0887\"], [0.1111111111111111, \"#46039f\"], [0.2222222222222222, \"#7201a8\"], [0.3333333333333333, \"#9c179e\"], [0.4444444444444444, \"#bd3786\"], [0.5555555555555556, \"#d8576b\"], [0.6666666666666666, \"#ed7953\"], [0.7777777777777778, \"#fb9f3a\"], [0.8888888888888888, \"#fdca26\"], [1.0, \"#f0f921\"]], \"type\": \"heatmapgl\"}], \"histogram\": [{\"marker\": {\"colorbar\": {\"outlinewidth\": 0, \"ticks\": \"\"}}, \"type\": \"histogram\"}], \"histogram2d\": [{\"colorbar\": {\"outlinewidth\": 0, \"ticks\": \"\"}, \"colorscale\": [[0.0, \"#0d0887\"], [0.1111111111111111, \"#46039f\"], [0.2222222222222222, \"#7201a8\"], [0.3333333333333333, \"#9c179e\"], [0.4444444444444444, \"#bd3786\"], [0.5555555555555556, \"#d8576b\"], [0.6666666666666666, \"#ed7953\"], [0.7777777777777778, \"#fb9f3a\"], [0.8888888888888888, \"#fdca26\"], [1.0, \"#f0f921\"]], \"type\": \"histogram2d\"}], \"histogram2dcontour\": [{\"colorbar\": {\"outlinewidth\": 0, \"ticks\": \"\"}, \"colorscale\": [[0.0, \"#0d0887\"], [0.1111111111111111, \"#46039f\"], [0.2222222222222222, \"#7201a8\"], [0.3333333333333333, \"#9c179e\"], [0.4444444444444444, \"#bd3786\"], [0.5555555555555556, \"#d8576b\"], [0.6666666666666666, \"#ed7953\"], [0.7777777777777778, \"#fb9f3a\"], [0.8888888888888888, \"#fdca26\"], [1.0, \"#f0f921\"]], \"type\": \"histogram2dcontour\"}], \"mesh3d\": [{\"colorbar\": {\"outlinewidth\": 0, \"ticks\": \"\"}, \"type\": \"mesh3d\"}], \"parcoords\": [{\"line\": {\"colorbar\": {\"outlinewidth\": 0, \"ticks\": \"\"}}, \"type\": \"parcoords\"}], \"pie\": [{\"automargin\": true, \"type\": \"pie\"}], \"scatter\": [{\"marker\": {\"colorbar\": {\"outlinewidth\": 0, \"ticks\": \"\"}}, \"type\": \"scatter\"}], \"scatter3d\": [{\"line\": {\"colorbar\": {\"outlinewidth\": 0, \"ticks\": \"\"}}, \"marker\": {\"colorbar\": {\"outlinewidth\": 0, \"ticks\": \"\"}}, \"type\": \"scatter3d\"}], \"scattercarpet\": [{\"marker\": {\"colorbar\": {\"outlinewidth\": 0, \"ticks\": \"\"}}, \"type\": \"scattercarpet\"}], \"scattergeo\": [{\"marker\": {\"colorbar\": {\"outlinewidth\": 0, \"ticks\": \"\"}}, \"type\": \"scattergeo\"}], \"scattergl\": [{\"marker\": {\"colorbar\": {\"outlinewidth\": 0, \"ticks\": \"\"}}, \"type\": \"scattergl\"}], \"scattermapbox\": [{\"marker\": {\"colorbar\": {\"outlinewidth\": 0, \"ticks\": \"\"}}, \"type\": \"scattermapbox\"}], \"scatterpolar\": [{\"marker\": {\"colorbar\": {\"outlinewidth\": 0, \"ticks\": \"\"}}, \"type\": \"scatterpolar\"}], \"scatterpolargl\": [{\"marker\": {\"colorbar\": {\"outlinewidth\": 0, \"ticks\": \"\"}}, \"type\": \"scatterpolargl\"}], \"scatterternary\": [{\"marker\": {\"colorbar\": {\"outlinewidth\": 0, \"ticks\": \"\"}}, \"type\": \"scatterternary\"}], \"surface\": [{\"colorbar\": {\"outlinewidth\": 0, \"ticks\": \"\"}, \"colorscale\": [[0.0, \"#0d0887\"], [0.1111111111111111, \"#46039f\"], [0.2222222222222222, \"#7201a8\"], [0.3333333333333333, \"#9c179e\"], [0.4444444444444444, \"#bd3786\"], [0.5555555555555556, \"#d8576b\"], [0.6666666666666666, \"#ed7953\"], [0.7777777777777778, \"#fb9f3a\"], [0.8888888888888888, \"#fdca26\"], [1.0, \"#f0f921\"]], \"type\": \"surface\"}], \"table\": [{\"cells\": {\"fill\": {\"color\": \"#EBF0F8\"}, \"line\": {\"color\": \"white\"}}, \"header\": {\"fill\": {\"color\": \"#C8D4E3\"}, \"line\": {\"color\": \"white\"}}, \"type\": \"table\"}]}, \"layout\": {\"annotationdefaults\": {\"arrowcolor\": \"#2a3f5f\", \"arrowhead\": 0, \"arrowwidth\": 1}, \"coloraxis\": {\"colorbar\": {\"outlinewidth\": 0, \"ticks\": \"\"}}, \"colorscale\": {\"diverging\": [[0, \"#8e0152\"], [0.1, \"#c51b7d\"], [0.2, \"#de77ae\"], [0.3, \"#f1b6da\"], [0.4, \"#fde0ef\"], [0.5, \"#f7f7f7\"], [0.6, \"#e6f5d0\"], [0.7, \"#b8e186\"], [0.8, \"#7fbc41\"], [0.9, \"#4d9221\"], [1, \"#276419\"]], \"sequential\": [[0.0, \"#0d0887\"], [0.1111111111111111, \"#46039f\"], [0.2222222222222222, \"#7201a8\"], [0.3333333333333333, \"#9c179e\"], [0.4444444444444444, \"#bd3786\"], [0.5555555555555556, \"#d8576b\"], [0.6666666666666666, \"#ed7953\"], [0.7777777777777778, \"#fb9f3a\"], [0.8888888888888888, \"#fdca26\"], [1.0, \"#f0f921\"]], \"sequentialminus\": [[0.0, \"#0d0887\"], [0.1111111111111111, \"#46039f\"], [0.2222222222222222, \"#7201a8\"], [0.3333333333333333, \"#9c179e\"], [0.4444444444444444, \"#bd3786\"], [0.5555555555555556, \"#d8576b\"], [0.6666666666666666, \"#ed7953\"], [0.7777777777777778, \"#fb9f3a\"], [0.8888888888888888, \"#fdca26\"], [1.0, \"#f0f921\"]]}, \"colorway\": [\"#636efa\", \"#EF553B\", \"#00cc96\", \"#ab63fa\", \"#FFA15A\", \"#19d3f3\", \"#FF6692\", \"#B6E880\", \"#FF97FF\", \"#FECB52\"], \"font\": {\"color\": \"#2a3f5f\"}, \"geo\": {\"bgcolor\": \"white\", \"lakecolor\": \"white\", \"landcolor\": \"#E5ECF6\", \"showlakes\": true, \"showland\": true, \"subunitcolor\": \"white\"}, \"hoverlabel\": {\"align\": \"left\"}, \"hovermode\": \"closest\", \"mapbox\": {\"style\": \"light\"}, \"paper_bgcolor\": \"white\", \"plot_bgcolor\": \"#E5ECF6\", \"polar\": {\"angularaxis\": {\"gridcolor\": \"white\", \"linecolor\": \"white\", \"ticks\": \"\"}, \"bgcolor\": \"#E5ECF6\", \"radialaxis\": {\"gridcolor\": \"white\", \"linecolor\": \"white\", \"ticks\": \"\"}}, \"scene\": {\"xaxis\": {\"backgroundcolor\": \"#E5ECF6\", \"gridcolor\": \"white\", \"gridwidth\": 2, \"linecolor\": \"white\", \"showbackground\": true, \"ticks\": \"\", \"zerolinecolor\": \"white\"}, \"yaxis\": {\"backgroundcolor\": \"#E5ECF6\", \"gridcolor\": \"white\", \"gridwidth\": 2, \"linecolor\": \"white\", \"showbackground\": true, \"ticks\": \"\", \"zerolinecolor\": \"white\"}, \"zaxis\": {\"backgroundcolor\": \"#E5ECF6\", \"gridcolor\": \"white\", \"gridwidth\": 2, \"linecolor\": \"white\", \"showbackground\": true, \"ticks\": \"\", \"zerolinecolor\": \"white\"}}, \"shapedefaults\": {\"line\": {\"color\": \"#2a3f5f\"}}, \"ternary\": {\"aaxis\": {\"gridcolor\": \"white\", \"linecolor\": \"white\", \"ticks\": \"\"}, \"baxis\": {\"gridcolor\": \"white\", \"linecolor\": \"white\", \"ticks\": \"\"}, \"bgcolor\": \"#E5ECF6\", \"caxis\": {\"gridcolor\": \"white\", \"linecolor\": \"white\", \"ticks\": \"\"}}, \"title\": {\"x\": 0.05}, \"xaxis\": {\"automargin\": true, \"gridcolor\": \"white\", \"linecolor\": \"white\", \"ticks\": \"\", \"title\": {\"standoff\": 15}, \"zerolinecolor\": \"white\", \"zerolinewidth\": 2}, \"yaxis\": {\"automargin\": true, \"gridcolor\": \"white\", \"linecolor\": \"white\", \"ticks\": \"\", \"title\": {\"standoff\": 15}, \"zerolinecolor\": \"white\", \"zerolinewidth\": 2}}}, \"title\": {\"text\": \"Countries with most content\"}},\n",
              "                        {\"responsive\": true}\n",
              "                    ).then(function(){\n",
              "                            \n",
              "var gd = document.getElementById('f94cff07-fce7-42d0-8442-00e9ecb9c02f');\n",
              "var x = new MutationObserver(function (mutations, observer) {{\n",
              "        var display = window.getComputedStyle(gd).display;\n",
              "        if (!display || display === 'none') {{\n",
              "            console.log([gd, 'removed!']);\n",
              "            Plotly.purge(gd);\n",
              "            observer.disconnect();\n",
              "        }}\n",
              "}});\n",
              "\n",
              "// Listen for the removal of the full notebook cells\n",
              "var notebookContainer = gd.closest('#notebook-container');\n",
              "if (notebookContainer) {{\n",
              "    x.observe(notebookContainer, {childList: true});\n",
              "}}\n",
              "\n",
              "// Listen for the clearing of the current output cell\n",
              "var outputEl = gd.closest('.output');\n",
              "if (outputEl) {{\n",
              "    x.observe(outputEl, {childList: true});\n",
              "}}\n",
              "\n",
              "                        })\n",
              "                };\n",
              "                \n",
              "            </script>\n",
              "        </div>\n",
              "</body>\n",
              "</html>"
            ]
          },
          "metadata": {}
        }
      ]
    },
    {
      "cell_type": "code",
      "metadata": {
        "id": "ZHDCK8MhTA8O"
      },
      "source": [
        "d1 = datafr[datafr[\"type\"] == \"TV Show\"]\n",
        "d2 = datafr[datafr[\"type\"] == \"Movie\"]"
      ],
      "execution_count": null,
      "outputs": []
    },
    {
      "cell_type": "code",
      "metadata": {
        "id": "OMlGcvzDa7Uh"
      },
      "source": [
        "col = \"year_added\"\n",
        "vc1 = d1[col].value_counts().reset_index()\n",
        "vc1 = vc1.rename(columns = {col : \"count\", \"index\" : col})\n",
        "vc1['percent'] = vc1['count'].apply(lambda x : 100*x/sum(vc1['count']))\n",
        "vc1 = vc1.sort_values(col)\n",
        "\n",
        "vc2 = d2[col].value_counts().reset_index()\n",
        "vc2 = vc2.rename(columns = {col : \"count\", \"index\" : col})\n",
        "vc2['percent'] = vc2['count'].apply(lambda x : 100*x/sum(vc2['count']))\n",
        "vc2 = vc2.sort_values(col)"
      ],
      "execution_count": null,
      "outputs": []
    },
    {
      "cell_type": "code",
      "metadata": {
        "colab": {
          "base_uri": "https://localhost:8080/",
          "height": 542
        },
        "id": "FZoZJqg4bAas",
        "outputId": "e02b9fac-616e-4ef4-a5f5-cd8cab89faab"
      },
      "source": [
        "trace1 = go.Bar(x=vc1[col], y=vc1[\"count\"], name=\"TV Shows\", marker=dict(color=\"#a678de\"))\n",
        "trace2 = go.Bar(x=vc2[col], y=vc2[\"count\"], name=\"Movies\", marker=dict(color=\"#6ad49b\"))\n",
        "data = [trace1, trace2]\n",
        "layout = go.Layout(title=\"Content added over the years\", legend=dict(x=0.1, y=1.1, orientation=\"h\"))\n",
        "fig = go.Figure(data, layout=layout)\n",
        "fig.show()"
      ],
      "execution_count": null,
      "outputs": [
        {
          "output_type": "display_data",
          "data": {
            "text/html": [
              "<html>\n",
              "<head><meta charset=\"utf-8\" /></head>\n",
              "<body>\n",
              "    <div>\n",
              "            <script src=\"https://cdnjs.cloudflare.com/ajax/libs/mathjax/2.7.5/MathJax.js?config=TeX-AMS-MML_SVG\"></script><script type=\"text/javascript\">if (window.MathJax) {MathJax.Hub.Config({SVG: {font: \"STIX-Web\"}});}</script>\n",
              "                <script type=\"text/javascript\">window.PlotlyConfig = {MathJaxConfig: 'local'};</script>\n",
              "        <script src=\"https://cdn.plot.ly/plotly-latest.min.js\"></script>    \n",
              "            <div id=\"a2aeff41-3d8b-4ec3-abda-d53e6bb18bce\" class=\"plotly-graph-div\" style=\"height:525px; width:100%;\"></div>\n",
              "            <script type=\"text/javascript\">\n",
              "                \n",
              "                    window.PLOTLYENV=window.PLOTLYENV || {};\n",
              "                    \n",
              "                if (document.getElementById(\"a2aeff41-3d8b-4ec3-abda-d53e6bb18bce\")) {\n",
              "                    Plotly.newPlot(\n",
              "                        'a2aeff41-3d8b-4ec3-abda-d53e6bb18bce',\n",
              "                        [{\"marker\": {\"color\": \"#a678de\"}, \"name\": \"TV Shows\", \"type\": \"bar\", \"x\": [2008.0, 2013.0, 2014.0, 2015.0, 2016.0, 2017.0, 2018.0, 2019.0, 2020.0, 2021.0], \"y\": [1, 5, 5, 26, 176, 349, 412, 592, 595, 505]}, {\"marker\": {\"color\": \"#6ad49b\"}, \"name\": \"Movies\", \"type\": \"bar\", \"x\": [2008.0, 2009.0, 2010.0, 2011.0, 2012.0, 2013.0, 2014.0, 2015.0, 2016.0, 2017.0, 2018.0, 2019.0, 2020.0, 2021.0], \"y\": [1, 2, 1, 13, 3, 6, 19, 56, 253, 839, 1237, 1424, 1284, 993]}],\n",
              "                        {\"legend\": {\"orientation\": \"h\", \"x\": 0.1, \"y\": 1.1}, \"template\": {\"data\": {\"bar\": [{\"error_x\": {\"color\": \"#2a3f5f\"}, \"error_y\": {\"color\": \"#2a3f5f\"}, \"marker\": {\"line\": {\"color\": \"#E5ECF6\", \"width\": 0.5}}, \"type\": \"bar\"}], \"barpolar\": [{\"marker\": {\"line\": {\"color\": \"#E5ECF6\", \"width\": 0.5}}, \"type\": \"barpolar\"}], \"carpet\": [{\"aaxis\": {\"endlinecolor\": \"#2a3f5f\", \"gridcolor\": \"white\", \"linecolor\": \"white\", \"minorgridcolor\": \"white\", \"startlinecolor\": \"#2a3f5f\"}, \"baxis\": {\"endlinecolor\": \"#2a3f5f\", \"gridcolor\": \"white\", \"linecolor\": \"white\", \"minorgridcolor\": \"white\", \"startlinecolor\": \"#2a3f5f\"}, \"type\": \"carpet\"}], \"choropleth\": [{\"colorbar\": {\"outlinewidth\": 0, \"ticks\": \"\"}, \"type\": \"choropleth\"}], \"contour\": [{\"colorbar\": {\"outlinewidth\": 0, \"ticks\": \"\"}, \"colorscale\": [[0.0, \"#0d0887\"], [0.1111111111111111, \"#46039f\"], [0.2222222222222222, \"#7201a8\"], [0.3333333333333333, \"#9c179e\"], [0.4444444444444444, \"#bd3786\"], [0.5555555555555556, \"#d8576b\"], [0.6666666666666666, \"#ed7953\"], [0.7777777777777778, \"#fb9f3a\"], [0.8888888888888888, \"#fdca26\"], [1.0, \"#f0f921\"]], \"type\": \"contour\"}], \"contourcarpet\": [{\"colorbar\": {\"outlinewidth\": 0, \"ticks\": \"\"}, \"type\": \"contourcarpet\"}], \"heatmap\": [{\"colorbar\": {\"outlinewidth\": 0, \"ticks\": \"\"}, \"colorscale\": [[0.0, \"#0d0887\"], [0.1111111111111111, \"#46039f\"], [0.2222222222222222, \"#7201a8\"], [0.3333333333333333, \"#9c179e\"], [0.4444444444444444, \"#bd3786\"], [0.5555555555555556, \"#d8576b\"], [0.6666666666666666, \"#ed7953\"], [0.7777777777777778, \"#fb9f3a\"], [0.8888888888888888, \"#fdca26\"], [1.0, \"#f0f921\"]], \"type\": \"heatmap\"}], \"heatmapgl\": [{\"colorbar\": {\"outlinewidth\": 0, \"ticks\": \"\"}, \"colorscale\": [[0.0, \"#0d0887\"], [0.1111111111111111, \"#46039f\"], [0.2222222222222222, \"#7201a8\"], [0.3333333333333333, \"#9c179e\"], [0.4444444444444444, \"#bd3786\"], [0.5555555555555556, \"#d8576b\"], [0.6666666666666666, \"#ed7953\"], [0.7777777777777778, \"#fb9f3a\"], [0.8888888888888888, \"#fdca26\"], [1.0, \"#f0f921\"]], \"type\": \"heatmapgl\"}], \"histogram\": [{\"marker\": {\"colorbar\": {\"outlinewidth\": 0, \"ticks\": \"\"}}, \"type\": \"histogram\"}], \"histogram2d\": [{\"colorbar\": {\"outlinewidth\": 0, \"ticks\": \"\"}, \"colorscale\": [[0.0, \"#0d0887\"], [0.1111111111111111, \"#46039f\"], [0.2222222222222222, \"#7201a8\"], [0.3333333333333333, \"#9c179e\"], [0.4444444444444444, \"#bd3786\"], [0.5555555555555556, \"#d8576b\"], [0.6666666666666666, \"#ed7953\"], [0.7777777777777778, \"#fb9f3a\"], [0.8888888888888888, \"#fdca26\"], [1.0, \"#f0f921\"]], \"type\": \"histogram2d\"}], \"histogram2dcontour\": [{\"colorbar\": {\"outlinewidth\": 0, \"ticks\": \"\"}, \"colorscale\": [[0.0, \"#0d0887\"], [0.1111111111111111, \"#46039f\"], [0.2222222222222222, \"#7201a8\"], [0.3333333333333333, \"#9c179e\"], [0.4444444444444444, \"#bd3786\"], [0.5555555555555556, \"#d8576b\"], [0.6666666666666666, \"#ed7953\"], [0.7777777777777778, \"#fb9f3a\"], [0.8888888888888888, \"#fdca26\"], [1.0, \"#f0f921\"]], \"type\": \"histogram2dcontour\"}], \"mesh3d\": [{\"colorbar\": {\"outlinewidth\": 0, \"ticks\": \"\"}, \"type\": \"mesh3d\"}], \"parcoords\": [{\"line\": {\"colorbar\": {\"outlinewidth\": 0, \"ticks\": \"\"}}, \"type\": \"parcoords\"}], \"pie\": [{\"automargin\": true, \"type\": \"pie\"}], \"scatter\": [{\"marker\": {\"colorbar\": {\"outlinewidth\": 0, \"ticks\": \"\"}}, \"type\": \"scatter\"}], \"scatter3d\": [{\"line\": {\"colorbar\": {\"outlinewidth\": 0, \"ticks\": \"\"}}, \"marker\": {\"colorbar\": {\"outlinewidth\": 0, \"ticks\": \"\"}}, \"type\": \"scatter3d\"}], \"scattercarpet\": [{\"marker\": {\"colorbar\": {\"outlinewidth\": 0, \"ticks\": \"\"}}, \"type\": \"scattercarpet\"}], \"scattergeo\": [{\"marker\": {\"colorbar\": {\"outlinewidth\": 0, \"ticks\": \"\"}}, \"type\": \"scattergeo\"}], \"scattergl\": [{\"marker\": {\"colorbar\": {\"outlinewidth\": 0, \"ticks\": \"\"}}, \"type\": \"scattergl\"}], \"scattermapbox\": [{\"marker\": {\"colorbar\": {\"outlinewidth\": 0, \"ticks\": \"\"}}, \"type\": \"scattermapbox\"}], \"scatterpolar\": [{\"marker\": {\"colorbar\": {\"outlinewidth\": 0, \"ticks\": \"\"}}, \"type\": \"scatterpolar\"}], \"scatterpolargl\": [{\"marker\": {\"colorbar\": {\"outlinewidth\": 0, \"ticks\": \"\"}}, \"type\": \"scatterpolargl\"}], \"scatterternary\": [{\"marker\": {\"colorbar\": {\"outlinewidth\": 0, \"ticks\": \"\"}}, \"type\": \"scatterternary\"}], \"surface\": [{\"colorbar\": {\"outlinewidth\": 0, \"ticks\": \"\"}, \"colorscale\": [[0.0, \"#0d0887\"], [0.1111111111111111, \"#46039f\"], [0.2222222222222222, \"#7201a8\"], [0.3333333333333333, \"#9c179e\"], [0.4444444444444444, \"#bd3786\"], [0.5555555555555556, \"#d8576b\"], [0.6666666666666666, \"#ed7953\"], [0.7777777777777778, \"#fb9f3a\"], [0.8888888888888888, \"#fdca26\"], [1.0, \"#f0f921\"]], \"type\": \"surface\"}], \"table\": [{\"cells\": {\"fill\": {\"color\": \"#EBF0F8\"}, \"line\": {\"color\": \"white\"}}, \"header\": {\"fill\": {\"color\": \"#C8D4E3\"}, \"line\": {\"color\": \"white\"}}, \"type\": \"table\"}]}, \"layout\": {\"annotationdefaults\": {\"arrowcolor\": \"#2a3f5f\", \"arrowhead\": 0, \"arrowwidth\": 1}, \"coloraxis\": {\"colorbar\": {\"outlinewidth\": 0, \"ticks\": \"\"}}, \"colorscale\": {\"diverging\": [[0, \"#8e0152\"], [0.1, \"#c51b7d\"], [0.2, \"#de77ae\"], [0.3, \"#f1b6da\"], [0.4, \"#fde0ef\"], [0.5, \"#f7f7f7\"], [0.6, \"#e6f5d0\"], [0.7, \"#b8e186\"], [0.8, \"#7fbc41\"], [0.9, \"#4d9221\"], [1, \"#276419\"]], \"sequential\": [[0.0, \"#0d0887\"], [0.1111111111111111, \"#46039f\"], [0.2222222222222222, \"#7201a8\"], [0.3333333333333333, \"#9c179e\"], [0.4444444444444444, \"#bd3786\"], [0.5555555555555556, \"#d8576b\"], [0.6666666666666666, \"#ed7953\"], [0.7777777777777778, \"#fb9f3a\"], [0.8888888888888888, \"#fdca26\"], [1.0, \"#f0f921\"]], \"sequentialminus\": [[0.0, \"#0d0887\"], [0.1111111111111111, \"#46039f\"], [0.2222222222222222, \"#7201a8\"], [0.3333333333333333, \"#9c179e\"], [0.4444444444444444, \"#bd3786\"], [0.5555555555555556, \"#d8576b\"], [0.6666666666666666, \"#ed7953\"], [0.7777777777777778, \"#fb9f3a\"], [0.8888888888888888, \"#fdca26\"], [1.0, \"#f0f921\"]]}, \"colorway\": [\"#636efa\", \"#EF553B\", \"#00cc96\", \"#ab63fa\", \"#FFA15A\", \"#19d3f3\", \"#FF6692\", \"#B6E880\", \"#FF97FF\", \"#FECB52\"], \"font\": {\"color\": \"#2a3f5f\"}, \"geo\": {\"bgcolor\": \"white\", \"lakecolor\": \"white\", \"landcolor\": \"#E5ECF6\", \"showlakes\": true, \"showland\": true, \"subunitcolor\": \"white\"}, \"hoverlabel\": {\"align\": \"left\"}, \"hovermode\": \"closest\", \"mapbox\": {\"style\": \"light\"}, \"paper_bgcolor\": \"white\", \"plot_bgcolor\": \"#E5ECF6\", \"polar\": {\"angularaxis\": {\"gridcolor\": \"white\", \"linecolor\": \"white\", \"ticks\": \"\"}, \"bgcolor\": \"#E5ECF6\", \"radialaxis\": {\"gridcolor\": \"white\", \"linecolor\": \"white\", \"ticks\": \"\"}}, \"scene\": {\"xaxis\": {\"backgroundcolor\": \"#E5ECF6\", \"gridcolor\": \"white\", \"gridwidth\": 2, \"linecolor\": \"white\", \"showbackground\": true, \"ticks\": \"\", \"zerolinecolor\": \"white\"}, \"yaxis\": {\"backgroundcolor\": \"#E5ECF6\", \"gridcolor\": \"white\", \"gridwidth\": 2, \"linecolor\": \"white\", \"showbackground\": true, \"ticks\": \"\", \"zerolinecolor\": \"white\"}, \"zaxis\": {\"backgroundcolor\": \"#E5ECF6\", \"gridcolor\": \"white\", \"gridwidth\": 2, \"linecolor\": \"white\", \"showbackground\": true, \"ticks\": \"\", \"zerolinecolor\": \"white\"}}, \"shapedefaults\": {\"line\": {\"color\": \"#2a3f5f\"}}, \"ternary\": {\"aaxis\": {\"gridcolor\": \"white\", \"linecolor\": \"white\", \"ticks\": \"\"}, \"baxis\": {\"gridcolor\": \"white\", \"linecolor\": \"white\", \"ticks\": \"\"}, \"bgcolor\": \"#E5ECF6\", \"caxis\": {\"gridcolor\": \"white\", \"linecolor\": \"white\", \"ticks\": \"\"}}, \"title\": {\"x\": 0.05}, \"xaxis\": {\"automargin\": true, \"gridcolor\": \"white\", \"linecolor\": \"white\", \"ticks\": \"\", \"title\": {\"standoff\": 15}, \"zerolinecolor\": \"white\", \"zerolinewidth\": 2}, \"yaxis\": {\"automargin\": true, \"gridcolor\": \"white\", \"linecolor\": \"white\", \"ticks\": \"\", \"title\": {\"standoff\": 15}, \"zerolinecolor\": \"white\", \"zerolinewidth\": 2}}}, \"title\": {\"text\": \"Content added over the years\"}},\n",
              "                        {\"responsive\": true}\n",
              "                    ).then(function(){\n",
              "                            \n",
              "var gd = document.getElementById('a2aeff41-3d8b-4ec3-abda-d53e6bb18bce');\n",
              "var x = new MutationObserver(function (mutations, observer) {{\n",
              "        var display = window.getComputedStyle(gd).display;\n",
              "        if (!display || display === 'none') {{\n",
              "            console.log([gd, 'removed!']);\n",
              "            Plotly.purge(gd);\n",
              "            observer.disconnect();\n",
              "        }}\n",
              "}});\n",
              "\n",
              "// Listen for the removal of the full notebook cells\n",
              "var notebookContainer = gd.closest('#notebook-container');\n",
              "if (notebookContainer) {{\n",
              "    x.observe(notebookContainer, {childList: true});\n",
              "}}\n",
              "\n",
              "// Listen for the clearing of the current output cell\n",
              "var outputEl = gd.closest('.output');\n",
              "if (outputEl) {{\n",
              "    x.observe(outputEl, {childList: true});\n",
              "}}\n",
              "\n",
              "                        })\n",
              "                };\n",
              "                \n",
              "            </script>\n",
              "        </div>\n",
              "</body>\n",
              "</html>"
            ]
          },
          "metadata": {}
        }
      ]
    },
    {
      "cell_type": "code",
      "metadata": {
        "colab": {
          "base_uri": "https://localhost:8080/",
          "height": 542
        },
        "id": "Ij54K1babC6M",
        "outputId": "a15b4917-77d9-4e40-b3d6-90ed6b5322ed"
      },
      "source": [
        "col = \"release_year\"\n",
        "\n",
        "vc1 = d1[col].value_counts().reset_index()\n",
        "vc1 = vc1.rename(columns = {col : \"count\", \"index\" : col})\n",
        "vc1['percent'] = vc1['count'].apply(lambda x : 100*x/sum(vc1['count']))\n",
        "vc1 = vc1.sort_values(col)\n",
        "\n",
        "vc2 = d2[col].value_counts().reset_index()\n",
        "vc2 = vc2.rename(columns = {col : \"count\", \"index\" : col})\n",
        "vc2['percent'] = vc2['count'].apply(lambda x : 100*x/sum(vc2['count']))\n",
        "vc2 = vc2.sort_values(col)\n",
        "\n",
        "trace1 = go.Bar(x=vc1[col], y=vc1[\"count\"], name=\"TV Shows\", marker=dict(color=\"#a678de\"))\n",
        "trace2 = go.Bar(x=vc2[col], y=vc2[\"count\"], name=\"Movies\", marker=dict(color=\"#6ad49b\"))\n",
        "data = [trace1, trace2]\n",
        "layout = go.Layout(title=\"Content added over the years\", legend=dict(x=0.1, y=1.1, orientation=\"h\"))\n",
        "fig = go.Figure(data, layout=layout)\n",
        "fig.show()"
      ],
      "execution_count": null,
      "outputs": [
        {
          "output_type": "display_data",
          "data": {
            "text/html": [
              "<html>\n",
              "<head><meta charset=\"utf-8\" /></head>\n",
              "<body>\n",
              "    <div>\n",
              "            <script src=\"https://cdnjs.cloudflare.com/ajax/libs/mathjax/2.7.5/MathJax.js?config=TeX-AMS-MML_SVG\"></script><script type=\"text/javascript\">if (window.MathJax) {MathJax.Hub.Config({SVG: {font: \"STIX-Web\"}});}</script>\n",
              "                <script type=\"text/javascript\">window.PlotlyConfig = {MathJaxConfig: 'local'};</script>\n",
              "        <script src=\"https://cdn.plot.ly/plotly-latest.min.js\"></script>    \n",
              "            <div id=\"93a3e738-fb1c-4645-a0e6-b1e5de0bd808\" class=\"plotly-graph-div\" style=\"height:525px; width:100%;\"></div>\n",
              "            <script type=\"text/javascript\">\n",
              "                \n",
              "                    window.PLOTLYENV=window.PLOTLYENV || {};\n",
              "                    \n",
              "                if (document.getElementById(\"93a3e738-fb1c-4645-a0e6-b1e5de0bd808\")) {\n",
              "                    Plotly.newPlot(\n",
              "                        '93a3e738-fb1c-4645-a0e6-b1e5de0bd808',\n",
              "                        [{\"marker\": {\"color\": \"#a678de\"}, \"name\": \"TV Shows\", \"type\": \"bar\", \"x\": [1925, 1945, 1946, 1963, 1967, 1972, 1974, 1977, 1979, 1981, 1985, 1986, 1988, 1989, 1990, 1991, 1992, 1993, 1994, 1995, 1996, 1997, 1998, 1999, 2000, 2001, 2002, 2003, 2004, 2005, 2006, 2007, 2008, 2009, 2010, 2011, 2012, 2013, 2014, 2015, 2016, 2017, 2018, 2019, 2020, 2021], \"y\": [1, 1, 1, 1, 1, 1, 1, 1, 1, 1, 1, 2, 2, 1, 3, 1, 3, 4, 2, 2, 3, 4, 4, 7, 4, 5, 7, 10, 9, 13, 14, 14, 23, 34, 40, 40, 64, 63, 88, 162, 244, 265, 380, 397, 436, 315]}, {\"marker\": {\"color\": \"#6ad49b\"}, \"name\": \"Movies\", \"type\": \"bar\", \"x\": [1942, 1943, 1944, 1945, 1946, 1947, 1954, 1955, 1956, 1958, 1959, 1960, 1961, 1962, 1963, 1964, 1965, 1966, 1967, 1968, 1969, 1970, 1971, 1972, 1973, 1974, 1975, 1976, 1977, 1978, 1979, 1980, 1981, 1982, 1983, 1984, 1985, 1986, 1987, 1988, 1989, 1990, 1991, 1992, 1993, 1994, 1995, 1996, 1997, 1998, 1999, 2000, 2001, 2002, 2003, 2004, 2005, 2006, 2007, 2008, 2009, 2010, 2011, 2012, 2013, 2014, 2015, 2016, 2017, 2018, 2019, 2020, 2021], \"y\": [2, 3, 3, 3, 1, 1, 2, 3, 2, 3, 1, 4, 1, 3, 1, 2, 2, 1, 4, 3, 2, 2, 5, 4, 10, 6, 7, 9, 6, 7, 10, 11, 12, 17, 11, 12, 9, 11, 8, 16, 15, 19, 16, 20, 24, 20, 23, 21, 34, 32, 32, 33, 40, 44, 51, 55, 67, 82, 74, 113, 118, 154, 145, 173, 225, 264, 398, 658, 767, 767, 633, 517, 277]}],\n",
              "                        {\"legend\": {\"orientation\": \"h\", \"x\": 0.1, \"y\": 1.1}, \"template\": {\"data\": {\"bar\": [{\"error_x\": {\"color\": \"#2a3f5f\"}, \"error_y\": {\"color\": \"#2a3f5f\"}, \"marker\": {\"line\": {\"color\": \"#E5ECF6\", \"width\": 0.5}}, \"type\": \"bar\"}], \"barpolar\": [{\"marker\": {\"line\": {\"color\": \"#E5ECF6\", \"width\": 0.5}}, \"type\": \"barpolar\"}], \"carpet\": [{\"aaxis\": {\"endlinecolor\": \"#2a3f5f\", \"gridcolor\": \"white\", \"linecolor\": \"white\", \"minorgridcolor\": \"white\", \"startlinecolor\": \"#2a3f5f\"}, \"baxis\": {\"endlinecolor\": \"#2a3f5f\", \"gridcolor\": \"white\", \"linecolor\": \"white\", \"minorgridcolor\": \"white\", \"startlinecolor\": \"#2a3f5f\"}, \"type\": \"carpet\"}], \"choropleth\": [{\"colorbar\": {\"outlinewidth\": 0, \"ticks\": \"\"}, \"type\": \"choropleth\"}], \"contour\": [{\"colorbar\": {\"outlinewidth\": 0, \"ticks\": \"\"}, \"colorscale\": [[0.0, \"#0d0887\"], [0.1111111111111111, \"#46039f\"], [0.2222222222222222, \"#7201a8\"], [0.3333333333333333, \"#9c179e\"], [0.4444444444444444, \"#bd3786\"], [0.5555555555555556, \"#d8576b\"], [0.6666666666666666, \"#ed7953\"], [0.7777777777777778, \"#fb9f3a\"], [0.8888888888888888, \"#fdca26\"], [1.0, \"#f0f921\"]], \"type\": \"contour\"}], \"contourcarpet\": [{\"colorbar\": {\"outlinewidth\": 0, \"ticks\": \"\"}, \"type\": \"contourcarpet\"}], \"heatmap\": [{\"colorbar\": {\"outlinewidth\": 0, \"ticks\": \"\"}, \"colorscale\": [[0.0, \"#0d0887\"], [0.1111111111111111, \"#46039f\"], [0.2222222222222222, \"#7201a8\"], [0.3333333333333333, \"#9c179e\"], [0.4444444444444444, \"#bd3786\"], [0.5555555555555556, \"#d8576b\"], [0.6666666666666666, \"#ed7953\"], [0.7777777777777778, \"#fb9f3a\"], [0.8888888888888888, \"#fdca26\"], [1.0, \"#f0f921\"]], \"type\": \"heatmap\"}], \"heatmapgl\": [{\"colorbar\": {\"outlinewidth\": 0, \"ticks\": \"\"}, \"colorscale\": [[0.0, \"#0d0887\"], [0.1111111111111111, \"#46039f\"], [0.2222222222222222, \"#7201a8\"], [0.3333333333333333, \"#9c179e\"], [0.4444444444444444, \"#bd3786\"], [0.5555555555555556, \"#d8576b\"], [0.6666666666666666, \"#ed7953\"], [0.7777777777777778, \"#fb9f3a\"], [0.8888888888888888, \"#fdca26\"], [1.0, \"#f0f921\"]], \"type\": \"heatmapgl\"}], \"histogram\": [{\"marker\": {\"colorbar\": {\"outlinewidth\": 0, \"ticks\": \"\"}}, \"type\": \"histogram\"}], \"histogram2d\": [{\"colorbar\": {\"outlinewidth\": 0, \"ticks\": \"\"}, \"colorscale\": [[0.0, \"#0d0887\"], [0.1111111111111111, \"#46039f\"], [0.2222222222222222, \"#7201a8\"], [0.3333333333333333, \"#9c179e\"], [0.4444444444444444, \"#bd3786\"], [0.5555555555555556, \"#d8576b\"], [0.6666666666666666, \"#ed7953\"], [0.7777777777777778, \"#fb9f3a\"], [0.8888888888888888, \"#fdca26\"], [1.0, \"#f0f921\"]], \"type\": \"histogram2d\"}], \"histogram2dcontour\": [{\"colorbar\": {\"outlinewidth\": 0, \"ticks\": \"\"}, \"colorscale\": [[0.0, \"#0d0887\"], [0.1111111111111111, \"#46039f\"], [0.2222222222222222, \"#7201a8\"], [0.3333333333333333, \"#9c179e\"], [0.4444444444444444, \"#bd3786\"], [0.5555555555555556, \"#d8576b\"], [0.6666666666666666, \"#ed7953\"], [0.7777777777777778, \"#fb9f3a\"], [0.8888888888888888, \"#fdca26\"], [1.0, \"#f0f921\"]], \"type\": \"histogram2dcontour\"}], \"mesh3d\": [{\"colorbar\": {\"outlinewidth\": 0, \"ticks\": \"\"}, \"type\": \"mesh3d\"}], \"parcoords\": [{\"line\": {\"colorbar\": {\"outlinewidth\": 0, \"ticks\": \"\"}}, \"type\": \"parcoords\"}], \"pie\": [{\"automargin\": true, \"type\": \"pie\"}], \"scatter\": [{\"marker\": {\"colorbar\": {\"outlinewidth\": 0, \"ticks\": \"\"}}, \"type\": \"scatter\"}], \"scatter3d\": [{\"line\": {\"colorbar\": {\"outlinewidth\": 0, \"ticks\": \"\"}}, \"marker\": {\"colorbar\": {\"outlinewidth\": 0, \"ticks\": \"\"}}, \"type\": \"scatter3d\"}], \"scattercarpet\": [{\"marker\": {\"colorbar\": {\"outlinewidth\": 0, \"ticks\": \"\"}}, \"type\": \"scattercarpet\"}], \"scattergeo\": [{\"marker\": {\"colorbar\": {\"outlinewidth\": 0, \"ticks\": \"\"}}, \"type\": \"scattergeo\"}], \"scattergl\": [{\"marker\": {\"colorbar\": {\"outlinewidth\": 0, \"ticks\": \"\"}}, \"type\": \"scattergl\"}], \"scattermapbox\": [{\"marker\": {\"colorbar\": {\"outlinewidth\": 0, \"ticks\": \"\"}}, \"type\": \"scattermapbox\"}], \"scatterpolar\": [{\"marker\": {\"colorbar\": {\"outlinewidth\": 0, \"ticks\": \"\"}}, \"type\": \"scatterpolar\"}], \"scatterpolargl\": [{\"marker\": {\"colorbar\": {\"outlinewidth\": 0, \"ticks\": \"\"}}, \"type\": \"scatterpolargl\"}], \"scatterternary\": [{\"marker\": {\"colorbar\": {\"outlinewidth\": 0, \"ticks\": \"\"}}, \"type\": \"scatterternary\"}], \"surface\": [{\"colorbar\": {\"outlinewidth\": 0, \"ticks\": \"\"}, \"colorscale\": [[0.0, \"#0d0887\"], [0.1111111111111111, \"#46039f\"], [0.2222222222222222, \"#7201a8\"], [0.3333333333333333, \"#9c179e\"], [0.4444444444444444, \"#bd3786\"], [0.5555555555555556, \"#d8576b\"], [0.6666666666666666, \"#ed7953\"], [0.7777777777777778, \"#fb9f3a\"], [0.8888888888888888, \"#fdca26\"], [1.0, \"#f0f921\"]], \"type\": \"surface\"}], \"table\": [{\"cells\": {\"fill\": {\"color\": \"#EBF0F8\"}, \"line\": {\"color\": \"white\"}}, \"header\": {\"fill\": {\"color\": \"#C8D4E3\"}, \"line\": {\"color\": \"white\"}}, \"type\": \"table\"}]}, \"layout\": {\"annotationdefaults\": {\"arrowcolor\": \"#2a3f5f\", \"arrowhead\": 0, \"arrowwidth\": 1}, \"coloraxis\": {\"colorbar\": {\"outlinewidth\": 0, \"ticks\": \"\"}}, \"colorscale\": {\"diverging\": [[0, \"#8e0152\"], [0.1, \"#c51b7d\"], [0.2, \"#de77ae\"], [0.3, \"#f1b6da\"], [0.4, \"#fde0ef\"], [0.5, \"#f7f7f7\"], [0.6, \"#e6f5d0\"], [0.7, \"#b8e186\"], [0.8, \"#7fbc41\"], [0.9, \"#4d9221\"], [1, \"#276419\"]], \"sequential\": [[0.0, \"#0d0887\"], [0.1111111111111111, \"#46039f\"], [0.2222222222222222, \"#7201a8\"], [0.3333333333333333, \"#9c179e\"], [0.4444444444444444, \"#bd3786\"], [0.5555555555555556, \"#d8576b\"], [0.6666666666666666, \"#ed7953\"], [0.7777777777777778, \"#fb9f3a\"], [0.8888888888888888, \"#fdca26\"], [1.0, \"#f0f921\"]], \"sequentialminus\": [[0.0, \"#0d0887\"], [0.1111111111111111, \"#46039f\"], [0.2222222222222222, \"#7201a8\"], [0.3333333333333333, \"#9c179e\"], [0.4444444444444444, \"#bd3786\"], [0.5555555555555556, \"#d8576b\"], [0.6666666666666666, \"#ed7953\"], [0.7777777777777778, \"#fb9f3a\"], [0.8888888888888888, \"#fdca26\"], [1.0, \"#f0f921\"]]}, \"colorway\": [\"#636efa\", \"#EF553B\", \"#00cc96\", \"#ab63fa\", \"#FFA15A\", \"#19d3f3\", \"#FF6692\", \"#B6E880\", \"#FF97FF\", \"#FECB52\"], \"font\": {\"color\": \"#2a3f5f\"}, \"geo\": {\"bgcolor\": \"white\", \"lakecolor\": \"white\", \"landcolor\": \"#E5ECF6\", \"showlakes\": true, \"showland\": true, \"subunitcolor\": \"white\"}, \"hoverlabel\": {\"align\": \"left\"}, \"hovermode\": \"closest\", \"mapbox\": {\"style\": \"light\"}, \"paper_bgcolor\": \"white\", \"plot_bgcolor\": \"#E5ECF6\", \"polar\": {\"angularaxis\": {\"gridcolor\": \"white\", \"linecolor\": \"white\", \"ticks\": \"\"}, \"bgcolor\": \"#E5ECF6\", \"radialaxis\": {\"gridcolor\": \"white\", \"linecolor\": \"white\", \"ticks\": \"\"}}, \"scene\": {\"xaxis\": {\"backgroundcolor\": \"#E5ECF6\", \"gridcolor\": \"white\", \"gridwidth\": 2, \"linecolor\": \"white\", \"showbackground\": true, \"ticks\": \"\", \"zerolinecolor\": \"white\"}, \"yaxis\": {\"backgroundcolor\": \"#E5ECF6\", \"gridcolor\": \"white\", \"gridwidth\": 2, \"linecolor\": \"white\", \"showbackground\": true, \"ticks\": \"\", \"zerolinecolor\": \"white\"}, \"zaxis\": {\"backgroundcolor\": \"#E5ECF6\", \"gridcolor\": \"white\", \"gridwidth\": 2, \"linecolor\": \"white\", \"showbackground\": true, \"ticks\": \"\", \"zerolinecolor\": \"white\"}}, \"shapedefaults\": {\"line\": {\"color\": \"#2a3f5f\"}}, \"ternary\": {\"aaxis\": {\"gridcolor\": \"white\", \"linecolor\": \"white\", \"ticks\": \"\"}, \"baxis\": {\"gridcolor\": \"white\", \"linecolor\": \"white\", \"ticks\": \"\"}, \"bgcolor\": \"#E5ECF6\", \"caxis\": {\"gridcolor\": \"white\", \"linecolor\": \"white\", \"ticks\": \"\"}}, \"title\": {\"x\": 0.05}, \"xaxis\": {\"automargin\": true, \"gridcolor\": \"white\", \"linecolor\": \"white\", \"ticks\": \"\", \"title\": {\"standoff\": 15}, \"zerolinecolor\": \"white\", \"zerolinewidth\": 2}, \"yaxis\": {\"automargin\": true, \"gridcolor\": \"white\", \"linecolor\": \"white\", \"ticks\": \"\", \"title\": {\"standoff\": 15}, \"zerolinecolor\": \"white\", \"zerolinewidth\": 2}}}, \"title\": {\"text\": \"Content added over the years\"}},\n",
              "                        {\"responsive\": true}\n",
              "                    ).then(function(){\n",
              "                            \n",
              "var gd = document.getElementById('93a3e738-fb1c-4645-a0e6-b1e5de0bd808');\n",
              "var x = new MutationObserver(function (mutations, observer) {{\n",
              "        var display = window.getComputedStyle(gd).display;\n",
              "        if (!display || display === 'none') {{\n",
              "            console.log([gd, 'removed!']);\n",
              "            Plotly.purge(gd);\n",
              "            observer.disconnect();\n",
              "        }}\n",
              "}});\n",
              "\n",
              "// Listen for the removal of the full notebook cells\n",
              "var notebookContainer = gd.closest('#notebook-container');\n",
              "if (notebookContainer) {{\n",
              "    x.observe(notebookContainer, {childList: true});\n",
              "}}\n",
              "\n",
              "// Listen for the clearing of the current output cell\n",
              "var outputEl = gd.closest('.output');\n",
              "if (outputEl) {{\n",
              "    x.observe(outputEl, {childList: true});\n",
              "}}\n",
              "\n",
              "                        })\n",
              "                };\n",
              "                \n",
              "            </script>\n",
              "        </div>\n",
              "</body>\n",
              "</html>"
            ]
          },
          "metadata": {}
        }
      ]
    },
    {
      "cell_type": "code",
      "metadata": {
        "colab": {
          "base_uri": "https://localhost:8080/",
          "height": 542
        },
        "id": "did603necDU-",
        "outputId": "5a7067d6-21d8-4d87-c618-0d86c95fde42"
      },
      "source": [
        "import plotly.figure_factory as ff\n",
        "d2['duration'] = d2['duration'].replace({'min':''}, regex=True)\n",
        "x1 = d2['duration'].fillna(0.0).astype(float)\n",
        "fig = ff.create_distplot([x1], ['a'], bin_size=0.7, curve_type='normal', colors=[\"#6ad49b\"])\n",
        "fig.update_layout(title_text='Distplot with Normal Distribution')\n",
        "fig.show()"
      ],
      "execution_count": null,
      "outputs": [
        {
          "output_type": "display_data",
          "data": {
            "text/html": [
              "<html>\n",
              "<head><meta charset=\"utf-8\" /></head>\n",
              "<body>\n",
              "    <div>\n",
              "            <script src=\"https://cdnjs.cloudflare.com/ajax/libs/mathjax/2.7.5/MathJax.js?config=TeX-AMS-MML_SVG\"></script><script type=\"text/javascript\">if (window.MathJax) {MathJax.Hub.Config({SVG: {font: \"STIX-Web\"}});}</script>\n",
              "                <script type=\"text/javascript\">window.PlotlyConfig = {MathJaxConfig: 'local'};</script>\n",
              "        <script src=\"https://cdn.plot.ly/plotly-latest.min.js\"></script>    \n",
              "            <div id=\"07f98901-d41d-4d14-b535-3e25f397c326\" class=\"plotly-graph-div\" style=\"height:525px; width:100%;\"></div>\n",
              "            <script type=\"text/javascript\">\n",
              "                \n",
              "                    window.PLOTLYENV=window.PLOTLYENV || {};\n",
              "                    \n",
              "                if (document.getElementById(\"07f98901-d41d-4d14-b535-3e25f397c326\")) {\n",
              "                    Plotly.newPlot(\n",
              "                        '07f98901-d41d-4d14-b535-3e25f397c326',\n",
              "                        [{\"autobinx\": false, \"histnorm\": \"probability density\", \"legendgroup\": \"a\", \"marker\": {\"color\": \"#6ad49b\"}, \"name\": \"a\", \"opacity\": 0.7, \"type\": \"histogram\", \"x\": [90.0, 91.0, 125.0, 104.0, 127.0, 91.0, 67.0, 94.0, 161.0, 61.0, 166.0, 147.0, 103.0, 97.0, 106.0, 111.0, 110.0, 105.0, 96.0, 124.0, 116.0, 98.0, 91.0, 23.0, 115.0, 122.0, 99.0, 99.0, 88.0, 100.0, 102.0, 93.0, 96.0, 95.0, 85.0, 97.0, 95.0, 83.0, 103.0, 113.0, 13.0, 182.0, 106.0, 48.0, 145.0, 145.0, 93.0, 106.0, 147.0, 87.0, 96.0, 95.0, 92.0, 91.0, 90.0, 97.0, 80.0, 117.0, 128.0, 90.0, 119.0, 110.0, 143.0, 119.0, 114.0, 94.0, 106.0, 99.0, 118.0, 115.0, 95.0, 115.0, 108.0, 63.0, 117.0, 121.0, 142.0, 113.0, 154.0, 95.0, 108.0, 120.0, 100.0, 82.0, 124.0, 114.0, 104.0, 94.0, 94.0, 93.0, 97.0, 109.0, 88.0, 101.0, 105.0, 102.0, 101.0, 103.0, 106.0, 118.0, 86.0, 121.0, 229.0, 76.0, 95.0, 98.0, 89.0, 120.0, 110.0, 83.0, 121.0, 105.0, 94.0, 156.0, 112.0, 95.0, 107.0, 114.0, 129.0, 86.0, 97.0, 125.0, 107.0, 127.0, 128.0, 92.0, 135.0, 124.0, 136.0, 165.0, 124.0, 136.0, 150.0, 112.0, 119.0, 133.0, 142.0, 93.0, 113.0, 124.0, 116.0, 106.0, 145.0, 93.0, 95.0, 108.0, 90.0, 86.0, 92.0, 82.0, 70.0, 122.0, 122.0, 122.0, 122.0, 84.0, 96.0, 115.0, 110.0, 88.0, 102.0, 91.0, 105.0, 135.0, 86.0, 140.0, 133.0, 92.0, 82.0, 97.0, 78.0, 94.0, 121.0, 97.0, 110.0, 64.0, 59.0, 101.0, 127.0, 90.0, 114.0, 108.0, 70.0, 98.0, 86.0, 139.0, 111.0, 115.0, 102.0, 100.0, 135.0, 69.0, 95.0, 97.0, 124.0, 118.0, 115.0, 115.0, 104.0, 106.0, 102.0, 97.0, 87.0, 88.0, 114.0, 90.0, 142.0, 90.0, 105.0, 103.0, 116.0, 113.0, 99.0, 96.0, 148.0, 189.0, 97.0, 102.0, 99.0, 85.0, 112.0, 91.0, 91.0, 141.0, 130.0, 98.0, 105.0, 101.0, 105.0, 118.0, 97.0, 102.0, 114.0, 111.0, 125.0, 76.0, 118.0, 103.0, 114.0, 95.0, 138.0, 112.0, 94.0, 102.0, 92.0, 81.0, 143.0, 86.0, 132.0, 117.0, 165.0, 91.0, 97.0, 97.0, 123.0, 94.0, 111.0, 85.0, 65.0, 64.0, 68.0, 67.0, 66.0, 64.0, 64.0, 65.0, 64.0, 68.0, 68.0, 64.0, 62.0, 63.0, 69.0, 70.0, 63.0, 68.0, 74.0, 68.0, 99.0, 90.0, 87.0, 105.0, 106.0, 102.0, 91.0, 88.0, 107.0, 101.0, 114.0, 123.0, 94.0, 105.0, 117.0, 115.0, 124.0, 131.0, 122.0, 113.0, 91.0, 100.0, 93.0, 90.0, 86.0, 100.0, 96.0, 95.0, 115.0, 100.0, 102.0, 87.0, 39.0, 110.0, 93.0, 96.0, 93.0, 93.0, 111.0, 105.0, 101.0, 102.0, 46.0, 89.0, 94.0, 104.0, 97.0, 91.0, 106.0, 38.0, 90.0, 87.0, 138.0, 105.0, 104.0, 85.0, 92.0, 108.0, 95.0, 105.0, 116.0, 124.0, 101.0, 95.0, 128.0, 143.0, 107.0, 136.0, 94.0, 136.0, 126.0, 116.0, 100.0, 115.0, 125.0, 39.0, 94.0, 90.0, 95.0, 155.0, 98.0, 108.0, 96.0, 117.0, 118.0, 103.0, 94.0, 93.0, 115.0, 120.0, 145.0, 126.0, 96.0, 101.0, 118.0, 109.0, 89.0, 106.0, 101.0, 101.0, 123.0, 106.0, 89.0, 128.0, 85.0, 89.0, 108.0, 105.0, 133.0, 129.0, 127.0, 113.0, 112.0, 130.0, 100.0, 103.0, 85.0, 124.0, 103.0, 121.0, 89.0, 92.0, 112.0, 114.0, 116.0, 110.0, 98.0, 98.0, 100.0, 90.0, 92.0, 82.0, 97.0, 90.0, 76.0, 83.0, 101.0, 109.0, 97.0, 87.0, 94.0, 89.0, 88.0, 108.0, 96.0, 84.0, 70.0, 125.0, 119.0, 105.0, 133.0, 140.0, 120.0, 135.0, 111.0, 159.0, 119.0, 139.0, 137.0, 101.0, 13.0, 12.0, 101.0, 96.0, 122.0, 95.0, 89.0, 98.0, 119.0, 138.0, 104.0, 273.0, 101.0, 99.0, 84.0, 82.0, 97.0, 89.0, 36.0, 34.0, 36.0, 113.0, 110.0, 36.0, 102.0, 86.0, 91.0, 117.0, 99.0, 77.0, 97.0, 106.0, 97.0, 104.0, 110.0, 61.0, 98.0, 74.0, 60.0, 60.0, 103.0, 94.0, 112.0, 49.0, 111.0, 58.0, 72.0, 78.0, 101.0, 110.0, 94.0, 70.0, 118.0, 99.0, 103.0, 95.0, 93.0, 101.0, 101.0, 89.0, 109.0, 104.0, 90.0, 109.0, 145.0, 88.0, 132.0, 109.0, 133.0, 85.0, 104.0, 99.0, 93.0, 204.0, 212.0, 98.0, 101.0, 94.0, 25.0, 99.0, 108.0, 106.0, 128.0, 104.0, 127.0, 136.0, 97.0, 88.0, 97.0, 97.0, 88.0, 103.0, 97.0, 88.0, 97.0, 118.0, 70.0, 91.0, 92.0, 120.0, 73.0, 110.0, 94.0, 61.0, 131.0, 131.0, 131.0, 148.0, 29.0, 107.0, 99.0, 92.0, 91.0, 47.0, 88.0, 116.0, 109.0, 92.0, 87.0, 101.0, 140.0, 89.0, 81.0, 116.0, 99.0, 107.0, 107.0, 90.0, 104.0, 100.0, 32.0, 102.0, 105.0, 107.0, 64.0, 99.0, 102.0, 126.0, 119.0, 86.0, 122.0, 95.0, 104.0, 118.0, 85.0, 98.0, 99.0, 35.0, 107.0, 97.0, 112.0, 118.0, 109.0, 109.0, 88.0, 97.0, 97.0, 99.0, 95.0, 91.0, 115.0, 93.0, 109.0, 96.0, 78.0, 87.0, 76.0, 76.0, 71.0, 138.0, 113.0, 94.0, 89.0, 121.0, 127.0, 94.0, 89.0, 136.0, 89.0, 99.0, 93.0, 85.0, 102.0, 101.0, 113.0, 128.0, 114.0, 85.0, 121.0, 95.0, 121.0, 116.0, 91.0, 149.0, 113.0, 33.0, 127.0, 101.0, 102.0, 102.0, 107.0, 123.0, 98.0, 95.0, 101.0, 104.0, 104.0, 103.0, 111.0, 102.0, 15.0, 54.0, 120.0, 106.0, 116.0, 58.0, 116.0, 126.0, 86.0, 97.0, 76.0, 80.0, 81.0, 84.0, 87.0, 91.0, 76.0, 132.0, 126.0, 101.0, 102.0, 147.0, 224.0, 141.0, 109.0, 162.0, 142.0, 93.0, 60.0, 119.0, 37.0, 96.0, 116.0, 102.0, 123.0, 102.0, 127.0, 88.0, 106.0, 65.0, 96.0, 88.0, 143.0, 137.0, 75.0, 71.0, 103.0, 130.0, 145.0, 84.0, 84.0, 77.0, 86.0, 79.0, 80.0, 81.0, 78.0, 118.0, 102.0, 132.0, 108.0, 133.0, 107.0, 32.0, 78.0, 55.0, 92.0, 86.0, 140.0, 143.0, 88.0, 89.0, 93.0, 97.0, 94.0, 112.0, 100.0, 120.0, 91.0, 98.0, 113.0, 98.0, 91.0, 158.0, 164.0, 133.0, 75.0, 103.0, 90.0, 116.0, 96.0, 121.0, 101.0, 173.0, 89.0, 182.0, 181.0, 185.0, 99.0, 88.0, 107.0, 114.0, 96.0, 149.0, 102.0, 83.0, 98.0, 83.0, 104.0, 111.0, 98.0, 93.0, 73.0, 141.0, 116.0, 21.0, 98.0, 87.0, 87.0, 95.0, 87.0, 93.0, 97.0, 114.0, 100.0, 105.0, 90.0, 60.0, 98.0, 108.0, 90.0, 102.0, 84.0, 120.0, 106.0, 115.0, 98.0, 60.0, 113.0, 101.0, 24.0, 51.0, 80.0, 100.0, 139.0, 74.0, 131.0, 131.0, 118.0, 87.0, 101.0, 97.0, 92.0, 136.0, 97.0, 103.0, 110.0, 105.0, 90.0, 107.0, 92.0, 94.0, 99.0, 97.0, 151.0, 108.0, 113.0, 81.0, 116.0, 119.0, 116.0, 112.0, 121.0, 115.0, 182.0, 98.0, 96.0, 42.0, 181.0, 100.0, 22.0, 134.0, 177.0, 94.0, 88.0, 119.0, 107.0, 112.0, 35.0, 103.0, 90.0, 120.0, 97.0, 102.0, 106.0, 119.0, 84.0, 58.0, 90.0, 109.0, 143.0, 112.0, 134.0, 123.0, 36.0, 123.0, 58.0, 118.0, 91.0, 76.0, 97.0, 85.0, 92.0, 139.0, 162.0, 92.0, 86.0, 107.0, 85.0, 83.0, 104.0, 116.0, 87.0, 91.0, 119.0, 102.0, 86.0, 102.0, 98.0, 99.0, 108.0, 114.0, 104.0, 88.0, 104.0, 123.0, 106.0, 138.0, 113.0, 107.0, 133.0, 97.0, 116.0, 123.0, 89.0, 93.0, 139.0, 112.0, 101.0, 113.0, 89.0, 107.0, 123.0, 113.0, 90.0, 52.0, 127.0, 95.0, 121.0, 108.0, 102.0, 95.0, 133.0, 127.0, 95.0, 101.0, 123.0, 89.0, 100.0, 108.0, 94.0, 103.0, 105.0, 116.0, 92.0, 65.0, 115.0, 96.0, 32.0, 102.0, 102.0, 101.0, 71.0, 81.0, 98.0, 90.0, 112.0, 161.0, 129.0, 85.0, 14.0, 148.0, 99.0, 97.0, 101.0, 89.0, 128.0, 76.0, 99.0, 126.0, 106.0, 101.0, 87.0, 111.0, 90.0, 91.0, 101.0, 96.0, 96.0, 148.0, 96.0, 98.0, 104.0, 53.0, 54.0, 113.0, 102.0, 118.0, 83.0, 77.0, 116.0, 116.0, 106.0, 105.0, 8.0, 110.0, 71.0, 91.0, 46.0, 109.0, 102.0, 101.0, 94.0, 110.0, 117.0, 85.0, 119.0, 115.0, 105.0, 68.0, 57.0, 28.0, 98.0, 95.0, 96.0, 66.0, 112.0, 84.0, 94.0, 32.0, 98.0, 85.0, 120.0, 83.0, 94.0, 102.0, 111.0, 90.0, 111.0, 110.0, 87.0, 132.0, 117.0, 50.0, 106.0, 125.0, 107.0, 59.0, 28.0, 9.0, 91.0, 132.0, 133.0, 109.0, 107.0, 111.0, 108.0, 105.0, 119.0, 104.0, 83.0, 90.0, 79.0, 24.0, 115.0, 97.0, 26.0, 46.0, 106.0, 113.0, 133.0, 93.0, 108.0, 96.0, 25.0, 101.0, 106.0, 54.0, 118.0, 58.0, 117.0, 48.0, 139.0, 115.0, 109.0, 91.0, 60.0, 102.0, 120.0, 149.0, 91.0, 99.0, 106.0, 108.0, 45.0, 93.0, 22.0, 81.0, 98.0, 100.0, 112.0, 114.0, 68.0, 103.0, 121.0, 95.0, 87.0, 115.0, 171.0, 171.0, 46.0, 117.0, 84.0, 98.0, 83.0, 97.0, 99.0, 108.0, 93.0, 42.0, 13.0, 64.0, 162.0, 130.0, 108.0, 129.0, 105.0, 133.0, 142.0, 128.0, 97.0, 107.0, 135.0, 84.0, 70.0, 124.0, 102.0, 84.0, 95.0, 84.0, 120.0, 87.0, 75.0, 124.0, 92.0, 95.0, 107.0, 123.0, 85.0, 150.0, 97.0, 88.0, 74.0, 93.0, 151.0, 82.0, 148.0, 95.0, 90.0, 103.0, 87.0, 102.0, 96.0, 87.0, 86.0, 136.0, 60.0, 127.0, 96.0, 15.0, 100.0, 87.0, 28.0, 27.0, 90.0, 102.0, 94.0, 81.0, 134.0, 114.0, 107.0, 107.0, 130.0, 87.0, 93.0, 114.0, 91.0, 116.0, 93.0, 106.0, 105.0, 50.0, 93.0, 103.0, 114.0, 95.0, 50.0, 150.0, 100.0, 117.0, 87.0, 100.0, 86.0, 102.0, 87.0, 103.0, 112.0, 120.0, 111.0, 78.0, 51.0, 123.0, 46.0, 102.0, 106.0, 112.0, 101.0, 96.0, 103.0, 94.0, 69.0, 81.0, 76.0, 108.0, 94.0, 106.0, 98.0, 93.0, 99.0, 93.0, 82.0, 107.0, 104.0, 130.0, 83.0, 99.0, 77.0, 94.0, 118.0, 87.0, 42.0, 101.0, 80.0, 110.0, 117.0, 47.0, 165.0, 134.0, 140.0, 150.0, 156.0, 86.0, 126.0, 100.0, 25.0, 124.0, 100.0, 106.0, 104.0, 96.0, 90.0, 33.0, 81.0, 84.0, 44.0, 115.0, 94.0, 22.0, 107.0, 115.0, 93.0, 107.0, 86.0, 112.0, 102.0, 91.0, 83.0, 73.0, 139.0, 95.0, 101.0, 75.0, 87.0, 91.0, 120.0, 123.0, 95.0, 84.0, 29.0, 28.0, 122.0, 28.0, 98.0, 59.0, 80.0, 103.0, 104.0, 146.0, 135.0, 129.0, 115.0, 143.0, 173.0, 129.0, 149.0, 98.0, 115.0, 44.0, 127.0, 124.0, 85.0, 20.0, 102.0, 129.0, 124.0, 118.0, 111.0, 125.0, 94.0, 130.0, 117.0, 137.0, 139.0, 111.0, 103.0, 120.0, 98.0, 130.0, 96.0, 61.0, 137.0, 90.0, 69.0, 139.0, 94.0, 92.0, 80.0, 63.0, 88.0, 105.0, 93.0, 140.0, 103.0, 102.0, 93.0, 69.0, 133.0, 157.0, 116.0, 112.0, 96.0, 127.0, 130.0, 93.0, 138.0, 138.0, 92.0, 110.0, 102.0, 113.0, 96.0, 108.0, 94.0, 99.0, 86.0, 98.0, 111.0, 97.0, 135.0, 93.0, 94.0, 117.0, 63.0, 73.0, 91.0, 93.0, 101.0, 93.0, 96.0, 112.0, 72.0, 112.0, 72.0, 92.0, 109.0, 155.0, 109.0, 115.0, 97.0, 103.0, 24.0, 110.0, 97.0, 94.0, 107.0, 97.0, 103.0, 88.0, 111.0, 94.0, 33.0, 107.0, 110.0, 98.0, 81.0, 104.0, 17.0, 121.0, 100.0, 70.0, 97.0, 75.0, 102.0, 88.0, 158.0, 102.0, 203.0, 59.0, 92.0, 104.0, 72.0, 113.0, 93.0, 119.0, 105.0, 113.0, 93.0, 44.0, 110.0, 113.0, 90.0, 82.0, 69.0, 46.0, 94.0, 72.0, 95.0, 101.0, 21.0, 71.0, 64.0, 92.0, 80.0, 104.0, 25.0, 111.0, 72.0, 99.0, 83.0, 150.0, 108.0, 44.0, 102.0, 137.0, 112.0, 102.0, 103.0, 136.0, 41.0, 88.0, 84.0, 114.0, 110.0, 103.0, 106.0, 46.0, 115.0, 140.0, 124.0, 133.0, 91.0, 30.0, 67.0, 105.0, 58.0, 87.0, 100.0, 95.0, 90.0, 102.0, 98.0, 68.0, 104.0, 89.0, 62.0, 86.0, 104.0, 101.0, 17.0, 126.0, 120.0, 89.0, 96.0, 91.0, 86.0, 67.0, 89.0, 65.0, 151.0, 116.0, 110.0, 123.0, 139.0, 95.0, 121.0, 127.0, 162.0, 128.0, 112.0, 125.0, 128.0, 120.0, 86.0, 107.0, 129.0, 135.0, 97.0, 125.0, 162.0, 136.0, 138.0, 126.0, 137.0, 114.0, 96.0, 107.0, 89.0, 94.0, 148.0, 82.0, 95.0, 120.0, 115.0, 107.0, 105.0, 134.0, 128.0, 103.0, 96.0, 114.0, 102.0, 52.0, 86.0, 104.0, 76.0, 135.0, 99.0, 124.0, 117.0, 107.0, 111.0, 116.0, 135.0, 126.0, 164.0, 166.0, 104.0, 94.0, 92.0, 52.0, 112.0, 90.0, 101.0, 84.0, 112.0, 136.0, 108.0, 110.0, 93.0, 90.0, 130.0, 128.0, 104.0, 131.0, 109.0, 129.0, 73.0, 104.0, 48.0, 114.0, 86.0, 194.0, 76.0, 116.0, 130.0, 85.0, 108.0, 81.0, 76.0, 92.0, 85.0, 85.0, 108.0, 120.0, 117.0, 100.0, 101.0, 156.0, 55.0, 96.0, 104.0, 101.0, 113.0, 126.0, 98.0, 114.0, 132.0, 92.0, 90.0, 86.0, 103.0, 114.0, 115.0, 149.0, 96.0, 102.0, 105.0, 114.0, 94.0, 83.0, 106.0, 116.0, 109.0, 97.0, 100.0, 116.0, 111.0, 24.0, 95.0, 135.0, 95.0, 92.0, 100.0, 80.0, 98.0, 104.0, 98.0, 104.0, 99.0, 68.0, 106.0, 71.0, 80.0, 116.0, 112.0, 73.0, 110.0, 135.0, 128.0, 93.0, 149.0, 54.0, 87.0, 102.0, 177.0, 204.0, 233.0, 98.0, 237.0, 230.0, 173.0, 195.0, 253.0, 157.0, 97.0, 85.0, 94.0, 80.0, 94.0, 92.0, 105.0, 120.0, 96.0, 107.0, 93.0, 101.0, 110.0, 112.0, 93.0, 109.0, 105.0, 97.0, 91.0, 88.0, 109.0, 118.0, 109.0, 131.0, 91.0, 152.0, 67.0, 72.0, 83.0, 90.0, 106.0, 190.0, 129.0, 160.0, 86.0, 92.0, 114.0, 90.0, 94.0, 86.0, 89.0, 107.0, 61.0, 93.0, 81.0, 120.0, 94.0, 91.0, 104.0, 76.0, 90.0, 103.0, 122.0, 97.0, 98.0, 42.0, 90.0, 91.0, 94.0, 107.0, 143.0, 105.0, 116.0, 23.0, 23.0, 23.0, 105.0, 97.0, 105.0, 83.0, 109.0, 111.0, 97.0, 132.0, 102.0, 107.0, 100.0, 115.0, 104.0, 110.0, 100.0, 111.0, 108.0, 104.0, 116.0, 106.0, 96.0, 140.0, 107.0, 138.0, 132.0, 208.0, 105.0, 101.0, 124.0, 93.0, 110.0, 115.0, 107.0, 72.0, 107.0, 95.0, 180.0, 135.0, 87.0, 94.0, 105.0, 93.0, 92.0, 144.0, 101.0, 81.0, 95.0, 119.0, 121.0, 88.0, 106.0, 119.0, 63.0, 82.0, 95.0, 93.0, 120.0, 147.0, 55.0, 107.0, 92.0, 85.0, 98.0, 92.0, 101.0, 112.0, 103.0, 91.0, 96.0, 104.0, 66.0, 83.0, 111.0, 90.0, 121.0, 121.0, 88.0, 57.0, 107.0, 5.0, 91.0, 174.0, 155.0, 87.0, 77.0, 142.0, 170.0, 165.0, 161.0, 144.0, 149.0, 135.0, 131.0, 126.0, 192.0, 209.0, 187.0, 138.0, 185.0, 143.0, 97.0, 172.0, 103.0, 83.0, 107.0, 114.0, 93.0, 85.0, 85.0, 131.0, 101.0, 107.0, 84.0, 104.0, 160.0, 103.0, 46.0, 112.0, 83.0, 72.0, 24.0, 104.0, 72.0, 113.0, 21.0, 100.0, 108.0, 99.0, 104.0, 70.0, 93.0, 95.0, 109.0, 91.0, 75.0, 100.0, 95.0, 113.0, 91.0, 62.0, 93.0, 135.0, 23.0, 23.0, 23.0, 101.0, 98.0, 103.0, 106.0, 95.0, 132.0, 82.0, 71.0, 16.0, 104.0, 79.0, 120.0, 82.0, 115.0, 111.0, 110.0, 121.0, 162.0, 108.0, 186.0, 116.0, 154.0, 105.0, 71.0, 61.0, 133.0, 98.0, 119.0, 61.0, 130.0, 11.0, 87.0, 127.0, 87.0, 88.0, 158.0, 82.0, 93.0, 90.0, 109.0, 72.0, 162.0, 98.0, 103.0, 97.0, 94.0, 101.0, 138.0, 109.0, 50.0, 110.0, 92.0, 120.0, 101.0, 116.0, 117.0, 95.0, 93.0, 122.0, 102.0, 96.0, 93.0, 93.0, 72.0, 87.0, 95.0, 33.0, 113.0, 118.0, 171.0, 100.0, 103.0, 86.0, 102.0, 81.0, 101.0, 73.0, 96.0, 106.0, 88.0, 103.0, 139.0, 89.0, 104.0, 124.0, 112.0, 70.0, 106.0, 97.0, 106.0, 60.0, 148.0, 122.0, 86.0, 193.0, 92.0, 94.0, 82.0, 59.0, 89.0, 176.0, 116.0, 86.0, 93.0, 85.0, 62.0, 112.0, 121.0, 133.0, 76.0, 82.0, 156.0, 90.0, 97.0, 51.0, 98.0, 61.0, 116.0, 132.0, 17.0, 91.0, 121.0, 78.0, 95.0, 86.0, 132.0, 107.0, 122.0, 95.0, 108.0, 99.0, 103.0, 66.0, 132.0, 56.0, 128.0, 119.0, 97.0, 92.0, 102.0, 90.0, 129.0, 106.0, 105.0, 78.0, 79.0, 78.0, 145.0, 71.0, 83.0, 81.0, 119.0, 98.0, 102.0, 88.0, 97.0, 110.0, 85.0, 90.0, 89.0, 120.0, 102.0, 73.0, 103.0, 79.0, 97.0, 91.0, 96.0, 103.0, 95.0, 83.0, 117.0, 70.0, 90.0, 86.0, 86.0, 113.0, 82.0, 141.0, 107.0, 126.0, 25.0, 63.0, 136.0, 120.0, 134.0, 185.0, 174.0, 169.0, 148.0, 135.0, 135.0, 89.0, 119.0, 98.0, 135.0, 185.0, 156.0, 104.0, 139.0, 140.0, 154.0, 129.0, 99.0, 100.0, 110.0, 107.0, 95.0, 89.0, 65.0, 143.0, 101.0, 60.0, 29.0, 92.0, 172.0, 97.0, 108.0, 107.0, 137.0, 106.0, 115.0, 46.0, 92.0, 93.0, 85.0, 24.0, 56.0, 86.0, 127.0, 93.0, 94.0, 120.0, 108.0, 135.0, 111.0, 134.0, 137.0, 103.0, 133.0, 95.0, 126.0, 67.0, 135.0, 106.0, 107.0, 81.0, 107.0, 118.0, 110.0, 104.0, 93.0, 94.0, 137.0, 134.0, 69.0, 106.0, 209.0, 86.0, 24.0, 46.0, 117.0, 87.0, 121.0, 97.0, 121.0, 56.0, 119.0, 93.0, 86.0, 134.0, 28.0, 131.0, 78.0, 93.0, 84.0, 107.0, 101.0, 107.0, 74.0, 60.0, 143.0, 105.0, 110.0, 98.0, 74.0, 46.0, 54.0, 59.0, 100.0, 88.0, 93.0, 94.0, 121.0, 78.0, 116.0, 87.0, 61.0, 98.0, 123.0, 85.0, 78.0, 103.0, 44.0, 68.0, 68.0, 69.0, 81.0, 69.0, 68.0, 68.0, 86.0, 40.0, 94.0, 90.0, 112.0, 101.0, 119.0, 40.0, 86.0, 92.0, 91.0, 36.0, 141.0, 107.0, 97.0, 24.0, 89.0, 65.0, 126.0, 63.0, 14.0, 28.0, 20.0, 106.0, 118.0, 127.0, 61.0, 86.0, 94.0, 82.0, 92.0, 52.0, 108.0, 67.0, 91.0, 66.0, 118.0, 87.0, 47.0, 56.0, 61.0, 34.0, 98.0, 99.0, 95.0, 100.0, 101.0, 86.0, 96.0, 99.0, 112.0, 127.0, 22.0, 78.0, 63.0, 97.0, 86.0, 62.0, 96.0, 104.0, 123.0, 100.0, 99.0, 151.0, 102.0, 154.0, 106.0, 87.0, 70.0, 46.0, 101.0, 109.0, 100.0, 110.0, 102.0, 102.0, 24.0, 98.0, 76.0, 90.0, 59.0, 58.0, 64.0, 79.0, 81.0, 81.0, 64.0, 45.0, 90.0, 102.0, 116.0, 42.0, 133.0, 108.0, 38.0, 146.0, 146.0, 106.0, 58.0, 152.0, 87.0, 121.0, 83.0, 111.0, 24.0, 171.0, 88.0, 76.0, 64.0, 94.0, 157.0, 83.0, 65.0, 105.0, 107.0, 103.0, 67.0, 96.0, 125.0, 142.0, 133.0, 100.0, 10.0, 128.0, 93.0, 81.0, 82.0, 47.0, 95.0, 84.0, 91.0, 102.0, 100.0, 98.0, 110.0, 85.0, 66.0, 92.0, 133.0, 135.0, 120.0, 118.0, 110.0, 98.0, 98.0, 98.0, 104.0, 63.0, 52.0, 72.0, 117.0, 100.0, 24.0, 86.0, 69.0, 119.0, 123.0, 93.0, 109.0, 66.0, 107.0, 46.0, 117.0, 67.0, 114.0, 67.0, 77.0, 105.0, 63.0, 59.0, 102.0, 81.0, 84.0, 101.0, 116.0, 177.0, 130.0, 59.0, 111.0, 100.0, 77.0, 93.0, 114.0, 58.0, 56.0, 110.0, 98.0, 106.0, 102.0, 81.0, 98.0, 136.0, 161.0, 32.0, 105.0, 106.0, 90.0, 87.0, 91.0, 106.0, 65.0, 105.0, 40.0, 66.0, 61.0, 122.0, 141.0, 176.0, 73.0, 87.0, 15.0, 55.0, 141.0, 122.0, 109.0, 63.0, 96.0, 113.0, 69.0, 87.0, 116.0, 116.0, 110.0, 122.0, 59.0, 88.0, 91.0, 40.0, 113.0, 90.0, 95.0, 98.0, 61.0, 117.0, 60.0, 142.0, 74.0, 119.0, 114.0, 125.0, 71.0, 110.0, 127.0, 118.0, 90.0, 130.0, 12.0, 62.0, 3.0, 114.0, 128.0, 109.0, 109.0, 101.0, 103.0, 98.0, 123.0, 38.0, 101.0, 99.0, 91.0, 30.0, 30.0, 137.0, 66.0, 70.0, 87.0, 88.0, 90.0, 84.0, 53.0, 87.0, 90.0, 96.0, 94.0, 108.0, 102.0, 61.0, 94.0, 70.0, 88.0, 100.0, 111.0, 128.0, 98.0, 104.0, 126.0, 86.0, 125.0, 40.0, 79.0, 110.0, 128.0, 110.0, 116.0, 119.0, 90.0, 88.0, 104.0, 140.0, 92.0, 64.0, 119.0, 91.0, 122.0, 125.0, 49.0, 168.0, 98.0, 77.0, 102.0, 92.0, 111.0, 113.0, 54.0, 138.0, 123.0, 59.0, 102.0, 141.0, 95.0, 111.0, 131.0, 116.0, 119.0, 146.0, 101.0, 87.0, 94.0, 133.0, 135.0, 61.0, 91.0, 59.0, 91.0, 131.0, 170.0, 88.0, 170.0, 92.0, 59.0, 126.0, 120.0, 76.0, 60.0, 103.0, 124.0, 91.0, 88.0, 81.0, 124.0, 102.0, 132.0, 87.0, 75.0, 126.0, 61.0, 126.0, 108.0, 100.0, 129.0, 71.0, 108.0, 60.0, 105.0, 115.0, 118.0, 130.0, 115.0, 69.0, 97.0, 61.0, 92.0, 108.0, 104.0, 65.0, 106.0, 69.0, 97.0, 80.0, 85.0, 98.0, 115.0, 117.0, 132.0, 127.0, 125.0, 128.0, 126.0, 58.0, 116.0, 90.0, 111.0, 100.0, 99.0, 105.0, 128.0, 91.0, 127.0, 94.0, 124.0, 103.0, 118.0, 162.0, 89.0, 89.0, 108.0, 103.0, 87.0, 93.0, 90.0, 131.0, 114.0, 107.0, 97.0, 103.0, 125.0, 130.0, 119.0, 110.0, 120.0, 102.0, 125.0, 127.0, 121.0, 113.0, 118.0, 132.0, 61.0, 80.0, 110.0, 70.0, 117.0, 89.0, 84.0, 131.0, 139.0, 42.0, 79.0, 96.0, 114.0, 99.0, 111.0, 112.0, 96.0, 103.0, 104.0, 102.0, 97.0, 132.0, 120.0, 137.0, 82.0, 115.0, 130.0, 62.0, 26.0, 91.0, 63.0, 74.0, 136.0, 59.0, 91.0, 93.0, 84.0, 100.0, 51.0, 22.0, 22.0, 22.0, 24.0, 113.0, 110.0, 120.0, 56.0, 127.0, 74.0, 91.0, 137.0, 86.0, 106.0, 125.0, 114.0, 143.0, 121.0, 119.0, 150.0, 88.0, 105.0, 119.0, 96.0, 95.0, 98.0, 96.0, 96.0, 90.0, 97.0, 90.0, 88.0, 105.0, 127.0, 125.0, 116.0, 102.0, 65.0, 106.0, 117.0, 136.0, 104.0, 65.0, 91.0, 99.0, 91.0, 117.0, 95.0, 101.0, 102.0, 122.0, 95.0, 92.0, 111.0, 115.0, 61.0, 97.0, 120.0, 148.0, 48.0, 28.0, 34.0, 61.0, 56.0, 81.0, 68.0, 58.0, 100.0, 50.0, 49.0, 71.0, 29.0, 108.0, 125.0, 100.0, 30.0, 30.0, 146.0, 127.0, 46.0, 57.0, 122.0, 312.0, 109.0, 73.0, 96.0, 105.0, 124.0, 105.0, 78.0, 22.0, 95.0, 82.0, 89.0, 90.0, 85.0, 29.0, 137.0, 27.0, 112.0, 112.0, 153.0, 123.0, 90.0, 84.0, 78.0, 79.0, 73.0, 83.0, 83.0, 145.0, 135.0, 35.0, 68.0, 96.0, 110.0, 58.0, 105.0, 59.0, 28.0, 98.0, 63.0, 155.0, 122.0, 87.0, 73.0, 98.0, 130.0, 105.0, 110.0, 81.0, 115.0, 113.0, 146.0, 118.0, 109.0, 117.0, 23.0, 95.0, 124.0, 90.0, 96.0, 96.0, 93.0, 30.0, 82.0, 127.0, 114.0, 119.0, 101.0, 96.0, 44.0, 104.0, 91.0, 91.0, 114.0, 91.0, 64.0, 89.0, 95.0, 94.0, 133.0, 102.0, 122.0, 86.0, 111.0, 111.0, 136.0, 121.0, 119.0, 115.0, 128.0, 92.0, 99.0, 106.0, 122.0, 129.0, 90.0, 116.0, 59.0, 95.0, 122.0, 98.0, 117.0, 95.0, 146.0, 136.0, 91.0, 123.0, 144.0, 121.0, 91.0, 158.0, 157.0, 124.0, 106.0, 92.0, 80.0, 126.0, 129.0, 133.0, 109.0, 143.0, 140.0, 150.0, 128.0, 120.0, 154.0, 45.0, 132.0, 126.0, 95.0, 135.0, 139.0, 131.0, 118.0, 129.0, 131.0, 146.0, 123.0, 141.0, 93.0, 91.0, 106.0, 131.0, 95.0, 104.0, 126.0, 118.0, 94.0, 100.0, 126.0, 90.0, 87.0, 97.0, 115.0, 93.0, 138.0, 74.0, 102.0, 104.0, 51.0, 50.0, 86.0, 140.0, 122.0, 23.0, 95.0, 121.0, 131.0, 63.0, 150.0, 159.0, 131.0, 130.0, 99.0, 86.0, 106.0, 57.0, 97.0, 144.0, 110.0, 57.0, 119.0, 94.0, 89.0, 124.0, 25.0, 121.0, 88.0, 111.0, 81.0, 64.0, 55.0, 137.0, 56.0, 58.0, 80.0, 94.0, 94.0, 72.0, 60.0, 140.0, 91.0, 97.0, 146.0, 118.0, 128.0, 137.0, 145.0, 141.0, 106.0, 135.0, 137.0, 129.0, 99.0, 155.0, 142.0, 214.0, 137.0, 128.0, 151.0, 121.0, 101.0, 145.0, 147.0, 90.0, 129.0, 129.0, 136.0, 117.0, 150.0, 134.0, 100.0, 44.0, 44.0, 111.0, 147.0, 115.0, 121.0, 103.0, 73.0, 129.0, 102.0, 122.0, 155.0, 139.0, 131.0, 127.0, 156.0, 91.0, 132.0, 130.0, 137.0, 156.0, 132.0, 119.0, 140.0, 126.0, 107.0, 111.0, 130.0, 126.0, 24.0, 108.0, 117.0, 101.0, 124.0, 63.0, 114.0, 98.0, 100.0, 100.0, 123.0, 77.0, 106.0, 106.0, 102.0, 146.0, 96.0, 104.0, 109.0, 110.0, 110.0, 101.0, 94.0, 101.0, 141.0, 120.0, 140.0, 50.0, 57.0, 31.0, 90.0, 110.0, 162.0, 139.0, 130.0, 145.0, 33.0, 114.0, 100.0, 54.0, 150.0, 105.0, 124.0, 95.0, 12.0, 104.0, 143.0, 127.0, 100.0, 74.0, 104.0, 148.0, 127.0, 158.0, 124.0, 163.0, 121.0, 154.0, 127.0, 128.0, 98.0, 109.0, 168.0, 162.0, 159.0, 137.0, 133.0, 127.0, 131.0, 90.0, 88.0, 87.0, 82.0, 86.0, 100.0, 57.0, 95.0, 101.0, 124.0, 72.0, 93.0, 92.0, 95.0, 133.0, 85.0, 105.0, 101.0, 88.0, 113.0, 71.0, 75.0, 66.0, 83.0, 110.0, 88.0, 77.0, 58.0, 69.0, 61.0, 88.0, 122.0, 60.0, 166.0, 107.0, 94.0, 87.0, 92.0, 130.0, 88.0, 128.0, 96.0, 94.0, 69.0, 90.0, 101.0, 77.0, 89.0, 90.0, 98.0, 66.0, 103.0, 95.0, 89.0, 74.0, 119.0, 70.0, 121.0, 106.0, 74.0, 106.0, 113.0, 119.0, 100.0, 110.0, 66.0, 126.0, 130.0, 110.0, 85.0, 117.0, 63.0, 94.0, 74.0, 58.0, 117.0, 89.0, 66.0, 158.0, 100.0, 64.0, 92.0, 63.0, 105.0, 67.0, 91.0, 92.0, 87.0, 100.0, 113.0, 40.0, 105.0, 94.0, 109.0, 99.0, 89.0, 92.0, 105.0, 130.0, 69.0, 98.0, 90.0, 65.0, 92.0, 19.0, 25.0, 22.0, 40.0, 22.0, 24.0, 101.0, 90.0, 96.0, 115.0, 92.0, 93.0, 95.0, 105.0, 117.0, 66.0, 97.0, 78.0, 102.0, 62.0, 97.0, 105.0, 79.0, 90.0, 107.0, 105.0, 99.0, 108.0, 66.0, 75.0, 96.0, 95.0, 32.0, 70.0, 94.0, 78.0, 91.0, 75.0, 105.0, 96.0, 132.0, 60.0, 171.0, 116.0, 169.0, 134.0, 159.0, 87.0, 103.0, 78.0, 62.0, 97.0, 102.0, 95.0, 115.0, 102.0, 99.0, 74.0, 100.0, 150.0, 87.0, 88.0, 63.0, 129.0, 91.0, 115.0, 140.0, 79.0, 104.0, 121.0, 40.0, 94.0, 58.0, 78.0, 51.0, 69.0, 104.0, 59.0, 94.0, 166.0, 155.0, 145.0, 106.0, 94.0, 127.0, 87.0, 185.0, 75.0, 89.0, 81.0, 47.0, 46.0, 125.0, 160.0, 110.0, 69.0, 67.0, 105.0, 127.0, 109.0, 134.0, 60.0, 96.0, 65.0, 133.0, 96.0, 95.0, 24.0, 97.0, 65.0, 102.0, 53.0, 116.0, 102.0, 86.0, 117.0, 96.0, 69.0, 108.0, 102.0, 61.0, 57.0, 49.0, 87.0, 59.0, 63.0, 69.0, 62.0, 108.0, 95.0, 99.0, 62.0, 60.0, 147.0, 153.0, 87.0, 124.0, 94.0, 100.0, 71.0, 60.0, 135.0, 97.0, 86.0, 91.0, 82.0, 102.0, 105.0, 106.0, 91.0, 61.0, 80.0, 118.0, 94.0, 84.0, 103.0, 69.0, 105.0, 128.0, 86.0, 109.0, 70.0, 89.0, 162.0, 163.0, 91.0, 27.0, 67.0, 142.0, 78.0, 26.0, 46.0, 81.0, 119.0, 99.0, 96.0, 128.0, 114.0, 101.0, 109.0, 51.0, 61.0, 73.0, 92.0, 94.0, 135.0, 66.0, 126.0, 54.0, 100.0, 81.0, 123.0, 144.0, 153.0, 141.0, 104.0, 97.0, 82.0, 98.0, 84.0, 76.0, 75.0, 93.0, 98.0, 91.0, 168.0, 68.0, 103.0, 95.0, 82.0, 94.0, 66.0, 135.0, 144.0, 90.0, 158.0, 83.0, 102.0, 52.0, 110.0, 85.0, 113.0, 88.0, 89.0, 59.0, 106.0, 66.0, 135.0, 93.0, 79.0, 107.0, 47.0, 118.0, 81.0, 103.0, 40.0, 103.0, 85.0, 104.0, 82.0, 112.0, 102.0, 101.0, 119.0, 62.0, 64.0, 137.0, 108.0, 78.0, 40.0, 71.0, 99.0, 60.0, 78.0, 98.0, 70.0, 148.0, 54.0, 92.0, 107.0, 90.0, 135.0, 151.0, 132.0, 95.0, 162.0, 163.0, 89.0, 28.0, 103.0, 160.0, 113.0, 86.0, 83.0, 113.0, 86.0, 57.0, 98.0, 116.0, 100.0, 51.0, 113.0, 124.0, 63.0, 56.0, 94.0, 90.0, 71.0, 97.0, 83.0, 92.0, 165.0, 166.0, 166.0, 159.0, 160.0, 159.0, 22.0, 105.0, 54.0, 121.0, 103.0, 129.0, 95.0, 80.0, 67.0, 84.0, 97.0, 86.0, 114.0, 84.0, 67.0, 91.0, 63.0, 116.0, 104.0, 14.0, 89.0, 108.0, 59.0, 74.0, 84.0, 97.0, 95.0, 116.0, 86.0, 153.0, 104.0, 163.0, 106.0, 148.0, 105.0, 121.0, 66.0, 102.0, 96.0, 89.0, 161.0, 24.0, 66.0, 91.0, 92.0, 104.0, 73.0, 47.0, 102.0, 87.0, 117.0, 119.0, 130.0, 102.0, 154.0, 44.0, 96.0, 47.0, 44.0, 109.0, 89.0, 92.0, 122.0, 19.0, 154.0, 152.0, 161.0, 123.0, 44.0, 80.0, 71.0, 153.0, 79.0, 143.0, 123.0, 80.0, 73.0, 106.0, 101.0, 59.0, 164.0, 151.0, 84.0, 51.0, 142.0, 110.0, 86.0, 101.0, 88.0, 86.0, 61.0, 81.0, 72.0, 98.0, 64.0, 111.0, 148.0, 163.0, 95.0, 99.0, 44.0, 93.0, 89.0, 83.0, 104.0, 81.0, 53.0, 95.0, 149.0, 106.0, 108.0, 66.0, 113.0, 83.0, 50.0, 97.0, 105.0, 107.0, 99.0, 101.0, 81.0, 92.0, 131.0, 101.0, 96.0, 85.0, 110.0, 89.0, 0.0, 88.0, 88.0, 143.0, 83.0, 107.0, 99.0, 134.0, 78.0, 81.0, 106.0, 51.0, 102.0, 63.0, 91.0, 93.0, 93.0, 97.0, 92.0, 137.0, 143.0, 168.0, 117.0, 87.0, 160.0, 62.0, 109.0, 102.0, 118.0, 57.0, 94.0, 71.0, 123.0, 97.0, 99.0, 97.0, 67.0, 105.0, 78.0, 99.0, 119.0, 109.0, 107.0, 92.0, 88.0, 71.0, 64.0, 97.0, 96.0, 150.0, 54.0, 78.0, 86.0, 154.0, 179.0, 93.0, 97.0, 108.0, 92.0, 78.0, 87.0, 99.0, 91.0, 102.0, 67.0, 57.0, 130.0, 80.0, 66.0, 105.0, 98.0, 91.0, 123.0, 82.0, 104.0, 109.0, 74.0, 84.0, 98.0, 22.0, 100.0, 75.0, 69.0, 97.0, 92.0, 92.0, 146.0, 97.0, 93.0, 62.0, 22.0, 88.0, 105.0, 88.0, 93.0, 98.0, 88.0, 31.0, 83.0, 38.0, 108.0, 97.0, 81.0, 70.0, 62.0, 99.0, 112.0, 90.0, 56.0, 89.0, 24.0, 100.0, 116.0, 92.0, 79.0, 72.0, 92.0, 61.0, 88.0, 113.0, 67.0, 65.0, 62.0, 107.0, 69.0, 77.0, 98.0, 71.0, 64.0, 112.0, 59.0, 91.0, 44.0, 107.0, 92.0, 89.0, 107.0, 94.0, 110.0, 81.0, 77.0, 64.0, 97.0, 77.0, 94.0, 94.0, 91.0, 80.0, 95.0, 90.0, 101.0, 73.0, 108.0, 25.0, 86.0, 105.0, 100.0, 96.0, 97.0, 73.0, 44.0, 132.0, 96.0, 92.0, 99.0, 92.0, 99.0, 78.0, 65.0, 65.0, 69.0, 64.0, 63.0, 63.0, 89.0, 60.0, 0.0, 41.0, 83.0, 25.0, 94.0, 52.0, 75.0, 92.0, 80.0, 0.0, 46.0, 72.0, 71.0, 77.0, 70.0, 73.0, 81.0, 63.0, 45.0, 46.0, 112.0, 101.0, 117.0, 114.0, 96.0, 87.0, 105.0, 80.0, 97.0, 105.0, 60.0, 109.0, 60.0, 101.0, 91.0, 66.0, 127.0, 82.0, 70.0, 23.0, 97.0, 62.0, 84.0, 90.0, 101.0, 74.0, 68.0, 92.0, 107.0, 108.0, 74.0, 29.0, 60.0, 120.0, 74.0, 57.0, 91.0, 62.0, 85.0, 90.0, 105.0, 59.0, 137.0, 86.0, 99.0, 64.0, 82.0, 90.0, 80.0, 62.0, 92.0, 78.0, 92.0, 69.0, 103.0, 92.0, 143.0, 83.0, 78.0, 84.0, 84.0, 58.0, 82.0, 83.0, 29.0, 72.0, 26.0, 81.0, 75.0, 100.0, 90.0, 68.0, 71.0, 100.0, 94.0, 80.0, 35.0, 93.0, 105.0, 130.0, 100.0, 80.0, 76.0, 95.0, 96.0, 94.0, 94.0, 93.0, 96.0, 94.0, 94.0, 93.0, 95.0, 93.0, 75.0, 103.0, 29.0, 104.0, 81.0, 80.0, 123.0, 119.0, 118.0, 143.0, 149.0, 144.0, 124.0, 87.0, 128.0, 117.0, 100.0, 84.0, 90.0, 105.0, 106.0, 99.0, 93.0, 89.0, 105.0, 109.0, 93.0, 75.0, 90.0, 90.0, 93.0, 37.0, 113.0, 89.0, 102.0, 102.0, 90.0, 94.0, 91.0, 107.0, 95.0, 119.0, 93.0, 101.0, 93.0, 82.0, 70.0, 104.0, 121.0, 92.0, 124.0, 53.0, 91.0, 83.0, 93.0, 81.0, 86.0, 106.0, 97.0, 99.0, 100.0, 126.0, 94.0, 103.0, 96.0, 137.0, 104.0, 104.0, 94.0, 176.0, 137.0, 101.0, 111.0, 110.0, 142.0, 86.0, 93.0, 86.0, 80.0, 92.0, 96.0, 87.0, 98.0, 125.0, 91.0, 76.0, 82.0, 111.0, 92.0, 94.0, 91.0, 44.0, 108.0, 123.0, 106.0, 89.0, 98.0, 108.0, 92.0, 102.0, 103.0, 91.0, 110.0, 77.0, 99.0, 122.0, 150.0, 126.0, 164.0, 115.0, 133.0, 127.0, 100.0, 131.0, 44.0, 101.0, 90.0, 89.0, 88.0, 133.0, 110.0, 112.0, 87.0, 91.0, 111.0, 99.0, 86.0, 93.0, 87.0, 107.0, 89.0, 92.0, 122.0, 91.0, 127.0, 153.0, 94.0, 106.0, 102.0, 112.0, 63.0, 90.0, 89.0, 101.0, 85.0, 83.0, 92.0, 84.0, 91.0, 100.0, 103.0, 103.0, 45.0, 45.0, 90.0, 98.0, 92.0, 172.0, 125.0, 81.0, 112.0, 122.0, 101.0, 53.0, 53.0, 99.0, 95.0, 119.0, 163.0, 55.0, 102.0, 106.0, 128.0, 80.0, 80.0, 75.0, 75.0, 79.0, 87.0, 97.0, 85.0, 111.0, 113.0, 90.0, 103.0, 105.0, 104.0, 127.0, 92.0, 72.0, 118.0, 110.0, 65.0, 90.0, 134.0, 89.0, 86.0, 87.0, 107.0, 79.0, 87.0, 113.0, 110.0, 98.0, 93.0, 139.0, 94.0, 133.0, 81.0, 91.0, 122.0, 102.0, 88.0, 49.0, 110.0, 150.0, 97.0, 129.0, 99.0, 112.0, 143.0, 61.0, 95.0, 92.0, 97.0, 90.0, 119.0, 147.0, 83.0, 83.0, 91.0, 117.0, 78.0, 75.0, 78.0, 149.0, 103.0, 94.0, 95.0, 122.0, 107.0, 126.0, 122.0, 95.0, 101.0, 74.0, 74.0, 74.0, 83.0, 79.0, 72.0, 80.0, 75.0, 75.0, 72.0, 99.0, 91.0, 166.0, 103.0, 128.0, 87.0, 125.0, 121.0, 110.0, 88.0, 52.0, 89.0, 52.0, 81.0, 73.0, 75.0, 99.0, 121.0, 100.0, 97.0, 105.0, 100.0, 115.0, 99.0, 91.0, 90.0, 100.0, 25.0, 99.0, 120.0, 98.0, 104.0, 149.0, 112.0, 98.0, 120.0, 151.0, 63.0, 148.0, 114.0, 123.0, 87.0, 93.0, 88.0, 126.0, 90.0, 95.0, 108.0, 65.0, 110.0, 66.0, 127.0, 131.0, 88.0, 97.0, 116.0, 117.0, 79.0, 144.0, 79.0, 135.0, 88.0, 116.0, 91.0, 83.0, 90.0, 129.0, 120.0, 91.0, 85.0, 88.0, 123.0, 180.0, 98.0, 90.0, 90.0, 94.0, 112.0, 85.0, 97.0, 47.0, 99.0, 168.0, 99.0, 106.0, 92.0, 99.0, 89.0, 88.0, 111.0, 79.0, 86.0, 74.0, 84.0, 80.0, 86.0, 90.0, 102.0, 92.0, 81.0, 116.0, 110.0, 95.0, 133.0, 120.0, 91.0, 90.0, 90.0, 103.0, 73.0, 98.0, 119.0, 76.0, 148.0, 94.0, 108.0, 114.0, 98.0, 151.0, 78.0, 125.0, 126.0, 11.0, 22.0, 104.0, 104.0, 117.0, 101.0, 99.0, 103.0, 126.0, 92.0, 131.0, 119.0, 98.0, 85.0, 84.0, 145.0, 125.0, 108.0, 108.0, 74.0, 82.0, 75.0, 77.0, 156.0, 116.0, 126.0, 129.0, 132.0, 118.0, 87.0, 95.0, 86.0, 106.0, 115.0, 106.0, 94.0, 121.0, 113.0, 129.0, 99.0, 116.0, 88.0, 63.0, 62.0, 62.0, 112.0, 113.0, 82.0, 98.0, 87.0, 111.0, 63.0, 105.0, 146.0, 96.0, 80.0, 99.0, 87.0, 88.0, 99.0, 104.0, 104.0, 118.0, 127.0, 109.0, 130.0, 110.0, 88.0, 106.0, 91.0, 103.0, 89.0, 108.0, 124.0, 96.0, 172.0, 124.0, 85.0, 137.0, 91.0, 120.0, 118.0, 110.0, 114.0, 112.0, 92.0, 137.0, 84.0, 52.0, 96.0, 112.0, 90.0, 106.0, 116.0, 97.0, 127.0, 96.0, 45.0, 101.0, 88.0, 75.0, 112.0, 110.0, 120.0, 90.0, 82.0, 118.0, 153.0, 117.0, 93.0, 82.0, 115.0, 151.0, 103.0, 117.0, 100.0, 70.0, 103.0, 108.0, 100.0, 91.0, 93.0, 113.0, 116.0, 121.0, 112.0, 76.0, 81.0, 110.0, 90.0, 97.0, 86.0, 94.0, 83.0, 43.0, 92.0, 93.0, 88.0, 53.0, 156.0, 79.0, 96.0, 99.0, 140.0, 62.0, 88.0, 76.0, 99.0, 97.0, 87.0, 108.0, 94.0, 123.0, 128.0, 132.0, 93.0, 113.0, 96.0, 133.0, 176.0, 115.0, 90.0, 111.0, 87.0, 112.0, 200.0, 93.0, 90.0, 107.0, 89.0, 83.0, 96.0, 99.0, 95.0, 88.0, 94.0, 93.0, 93.0, 92.0, 127.0, 105.0, 94.0, 104.0, 94.0, 82.0, 86.0, 103.0, 97.0, 84.0, 98.0, 68.0, 42.0, 92.0, 89.0, 99.0, 93.0, 162.0, 85.0, 52.0, 91.0, 106.0, 92.0, 140.0, 69.0, 153.0, 124.0, 120.0, 134.0, 105.0, 119.0, 106.0, 79.0, 196.0, 90.0, 109.0, 93.0, 92.0, 49.0, 102.0, 82.0, 74.0, 94.0, 87.0, 108.0, 151.0, 109.0, 91.0, 93.0, 85.0, 103.0, 102.0, 107.0, 88.0, 95.0, 100.0, 91.0, 110.0, 96.0, 96.0, 98.0, 133.0, 102.0, 108.0, 133.0, 58.0, 79.0, 101.0, 81.0, 99.0, 106.0, 103.0, 92.0, 89.0, 150.0, 80.0, 124.0, 99.0, 29.0, 91.0, 102.0, 94.0, 118.0, 70.0, 181.0, 101.0, 29.0, 92.0, 94.0, 118.0, 98.0, 90.0, 93.0, 114.0, 99.0, 96.0, 102.0, 90.0, 49.0, 61.0, 60.0, 104.0, 119.0, 102.0, 83.0, 88.0, 86.0, 90.0, 134.0, 92.0, 145.0, 95.0, 93.0, 84.0, 81.0, 98.0, 74.0, 87.0, 96.0, 88.0, 118.0, 113.0, 86.0, 91.0, 115.0, 112.0, 103.0, 116.0, 72.0, 104.0, 97.0, 92.0, 93.0, 93.0, 99.0, 47.0, 52.0, 97.0, 88.0, 106.0, 97.0, 88.0, 88.0, 132.0, 108.0, 111.0, 167.0, 96.0, 95.0, 107.0, 118.0, 130.0, 90.0, 87.0, 109.0, 103.0, 110.0, 85.0, 163.0, 100.0, 58.0, 110.0, 58.0, 56.0, 161.0, 141.0, 115.0, 90.0, 103.0, 77.0, 111.0, 103.0, 129.0, 113.0, 106.0, 105.0, 137.0, 22.0, 130.0, 89.0, 110.0, 148.0, 100.0, 90.0, 103.0, 75.0, 99.0, 93.0, 90.0, 145.0, 95.0, 92.0, 90.0, 137.0, 98.0, 109.0, 117.0, 93.0, 57.0, 110.0, 95.0, 102.0, 97.0, 82.0, 90.0, 57.0, 91.0, 100.0, 101.0, 138.0, 95.0, 116.0, 117.0, 65.0, 158.0, 110.0, 79.0, 99.0, 86.0, 138.0, 91.0, 79.0, 79.0, 96.0, 55.0, 101.0, 88.0, 95.0, 87.0, 83.0, 90.0, 151.0, 89.0, 99.0, 86.0, 85.0, 93.0, 89.0, 89.0, 90.0, 104.0, 107.0, 124.0, 87.0, 94.0, 86.0, 102.0, 122.0, 126.0, 87.0, 156.0, 97.0, 89.0, 88.0, 96.0, 104.0, 80.0, 95.0, 97.0, 118.0, 118.0, 44.0, 54.0, 170.0, 118.0, 128.0, 106.0, 103.0, 92.0, 102.0, 126.0, 73.0, 111.0, 100.0, 86.0, 95.0, 79.0, 81.0, 120.0, 85.0, 96.0, 91.0, 134.0, 93.0, 82.0, 88.0, 96.0, 97.0, 101.0, 88.0, 84.0, 110.0, 105.0, 116.0, 94.0, 110.0, 116.0, 51.0, 103.0, 83.0, 176.0, 149.0, 79.0, 97.0, 91.0, 85.0, 85.0, 117.0, 84.0, 106.0, 107.0, 98.0, 54.0, 139.0, 88.0, 93.0, 91.0, 89.0, 106.0, 116.0, 100.0, 96.0, 119.0, 108.0, 104.0, 124.0, 87.0, 75.0, 108.0, 103.0, 103.0, 89.0, 103.0, 89.0, 119.0, 106.0, 90.0, 118.0, 95.0, 123.0, 127.0, 116.0, 119.0, 99.0, 90.0, 90.0, 153.0, 106.0, 141.0, 122.0, 87.0, 102.0, 88.0, 99.0, 99.0, 134.0, 91.0, 88.0, 127.0, 137.0, 77.0, 71.0, 130.0, 140.0, 101.0, 101.0, 91.0, 84.0, 88.0, 68.0, 163.0, 93.0, 86.0, 154.0, 92.0, 132.0, 22.0, 132.0, 94.0, 132.0, 105.0, 97.0, 109.0, 134.0, 53.0, 84.0, 102.0, 79.0, 181.0, 90.0, 79.0, 133.0, 125.0, 80.0, 101.0, 135.0, 133.0, 91.0, 52.0, 123.0, 113.0, 107.0, 128.0, 94.0, 95.0, 106.0, 138.0, 139.0, 132.0, 173.0, 105.0, 148.0, 120.0, 85.0, 113.0, 99.0, 41.0, 110.0, 137.0, 118.0, 140.0, 85.0, 116.0, 133.0, 89.0, 75.0, 67.0, 90.0, 170.0, 124.0, 120.0, 157.0, 124.0, 110.0, 90.0, 97.0, 108.0, 95.0, 111.0, 137.0, 100.0, 53.0, 87.0, 106.0, 86.0, 100.0, 103.0, 109.0, 81.0, 98.0, 114.0, 87.0, 132.0, 116.0, 92.0, 99.0, 63.0, 121.0, 56.0, 96.0, 115.0, 117.0, 58.0, 62.0, 65.0, 61.0, 65.0, 65.0, 58.0, 60.0, 81.0, 85.0, 93.0, 126.0, 99.0, 79.0, 26.0, 107.0, 133.0, 95.0, 100.0, 149.0, 52.0, 165.0, 104.0, 114.0, 109.0, 88.0, 143.0, 112.0, 101.0, 110.0, 83.0, 145.0, 87.0, 86.0, 115.0, 93.0, 121.0, 54.0, 100.0, 37.0, 33.0, 35.0, 32.0, 147.0, 110.0, 97.0, 108.0, 101.0, 100.0, 48.0, 44.0, 78.0, 103.0, 58.0, 90.0, 89.0, 83.0, 84.0, 104.0, 99.0, 105.0, 94.0, 150.0, 111.0, 116.0, 92.0, 23.0, 25.0, 85.0, 90.0, 68.0, 67.0, 66.0, 91.0, 87.0, 98.0, 108.0, 85.0, 95.0, 103.0, 118.0, 153.0, 96.0, 88.0, 116.0, 155.0, 88.0, 92.0, 98.0, 103.0, 163.0, 93.0, 77.0, 97.0, 115.0, 103.0, 82.0, 77.0, 79.0, 98.0, 131.0, 110.0, 100.0, 117.0, 107.0, 76.0, 118.0, 93.0, 99.0, 84.0, 102.0, 134.0, 78.0, 95.0, 73.0, 110.0, 75.0, 119.0, 92.0, 137.0, 192.0, 132.0, 91.0, 105.0, 88.0, 155.0, 103.0, 97.0, 92.0, 98.0, 89.0, 112.0, 75.0, 89.0, 99.0, 107.0, 29.0, 94.0, 90.0, 104.0, 55.0, 83.0, 77.0, 72.0, 103.0, 131.0, 138.0, 143.0, 80.0, 132.0, 84.0, 99.0, 93.0, 114.0, 100.0, 132.0, 83.0, 105.0, 112.0, 94.0, 90.0, 48.0, 110.0, 84.0, 118.0, 86.0, 98.0, 88.0, 81.0, 112.0, 106.0, 148.0, 105.0, 92.0, 112.0, 128.0, 128.0, 136.0, 106.0, 129.0, 90.0, 130.0, 85.0, 90.0, 94.0, 86.0, 100.0, 107.0, 93.0, 109.0, 109.0, 92.0, 93.0, 100.0, 141.0, 119.0, 84.0, 96.0, 83.0, 117.0, 93.0, 73.0, 72.0, 46.0, 74.0, 46.0, 46.0, 74.0, 71.0, 72.0, 76.0, 23.0, 60.0, 46.0, 101.0, 97.0, 111.0, 96.0, 135.0, 91.0, 84.0, 121.0, 109.0, 74.0, 94.0, 105.0, 97.0, 102.0, 86.0, 88.0, 90.0, 131.0, 158.0, 85.0, 110.0, 79.0, 185.0, 80.0, 116.0, 95.0, 99.0, 77.0, 91.0, 115.0, 68.0, 72.0, 73.0, 104.0, 90.0, 99.0, 109.0, 108.0, 99.0, 99.0, 88.0, 92.0, 73.0, 85.0, 91.0, 171.0, 80.0, 102.0, 76.0, 92.0, 82.0, 42.0, 131.0, 165.0, 91.0, 101.0, 53.0, 59.0, 108.0, 89.0, 91.0, 84.0, 96.0, 124.0, 87.0, 113.0, 118.0, 97.0, 161.0, 116.0, 104.0, 89.0, 92.0, 90.0, 50.0, 53.0, 113.0, 53.0, 54.0, 53.0, 54.0, 113.0, 53.0, 53.0, 53.0, 54.0, 54.0, 52.0, 54.0, 54.0, 53.0, 53.0, 53.0, 113.0, 53.0, 86.0, 102.0, 114.0, 99.0, 55.0, 91.0, 117.0, 124.0, 122.0, 84.0, 84.0, 120.0, 127.0, 122.0, 125.0, 107.0, 91.0, 103.0, 103.0, 106.0, 102.0, 97.0, 89.0, 92.0, 107.0, 86.0, 70.0, 66.0, 72.0, 111.0, 166.0, 135.0, 92.0, 87.0, 92.0, 89.0, 93.0, 90.0, 76.0, 86.0, 111.0, 124.0, 93.0, 139.0, 91.0, 86.0, 122.0, 96.0, 88.0, 93.0, 90.0, 103.0, 102.0, 105.0, 117.0, 126.0, 89.0, 82.0, 82.0, 98.0, 96.0, 108.0, 91.0, 163.0, 112.0, 137.0, 89.0, 86.0, 187.0, 109.0, 77.0, 84.0, 140.0, 68.0, 117.0, 105.0, 91.0, 104.0, 114.0, 112.0, 48.0, 95.0, 89.0, 108.0, 72.0, 109.0, 105.0, 92.0, 95.0, 108.0, 85.0, 126.0, 118.0, 125.0, 112.0, 96.0, 81.0, 81.0, 92.0, 127.0, 81.0, 133.0, 81.0, 108.0, 120.0, 149.0, 92.0, 96.0, 114.0, 77.0, 90.0, 24.0, 46.0, 24.0, 55.0, 24.0, 23.0, 24.0, 24.0, 106.0, 52.0, 127.0, 86.0, 131.0, 93.0, 97.0, 84.0, 83.0, 165.0, 154.0, 158.0, 89.0, 149.0, 96.0, 106.0, 128.0, 98.0, 99.0, 113.0, 71.0, 83.0, 129.0, 117.0, 93.0, 124.0, 177.0, 104.0, 113.0, 178.0, 90.0, 154.0, 122.0, 115.0, 126.0, 88.0, 99.0, 144.0, 111.0, 73.0, 81.0, 114.0, 112.0, 80.0, 24.0, 100.0, 96.0, 88.0, 95.0, 112.0, 112.0, 97.0, 97.0, 94.0, 97.0, 118.0, 95.0, 120.0, 84.0, 101.0, 103.0, 83.0, 107.0, 136.0, 96.0, 45.0, 92.0, 120.0, 119.0, 100.0, 92.0, 104.0, 93.0, 98.0, 80.0, 79.0, 122.0, 118.0, 89.0, 26.0, 62.0, 137.0, 121.0, 103.0, 92.0, 89.0, 97.0, 134.0, 116.0, 110.0, 88.0, 93.0, 72.0, 141.0, 82.0, 117.0, 118.0, 91.0, 105.0, 94.0, 137.0, 61.0, 86.0, 118.0, 173.0, 152.0, 99.0, 110.0, 116.0, 107.0, 109.0, 65.0, 32.0, 122.0, 228.0, 86.0, 72.0, 102.0, 140.0, 145.0, 126.0, 133.0, 141.0, 78.0, 150.0, 153.0, 83.0, 95.0, 93.0, 126.0, 95.0, 99.0, 93.0, 93.0, 88.0, 88.0, 195.0, 120.0, 77.0, 112.0, 121.0, 117.0, 90.0, 110.0, 86.0, 95.0, 101.0, 111.0, 54.0, 54.0, 54.0, 55.0, 54.0, 55.0, 55.0, 55.0, 55.0, 55.0, 102.0, 106.0, 69.0, 85.0, 146.0, 145.0, 103.0, 111.0, 125.0, 115.0, 168.0, 109.0, 148.0, 92.0, 91.0, 135.0, 71.0, 112.0, 128.0, 168.0, 45.0, 75.0, 71.0, 122.0, 97.0, 89.0, 98.0, 115.0, 96.0, 119.0, 105.0, 88.0, 94.0, 77.0, 143.0, 127.0, 92.0, 87.0, 83.0, 95.0, 96.0, 107.0, 100.0, 49.0, 94.0, 101.0, 89.0, 135.0, 107.0, 84.0, 110.0, 95.0, 66.0, 83.0, 86.0, 137.0, 87.0, 142.0, 94.0, 135.0, 135.0, 104.0, 97.0, 128.0, 109.0, 73.0, 106.0, 94.0, 85.0, 98.0, 96.0, 75.0, 139.0, 117.0, 95.0, 129.0, 94.0, 112.0, 88.0, 100.0, 83.0, 93.0, 103.0, 88.0, 86.0, 88.0, 152.0, 106.0, 52.0, 98.0, 89.0, 86.0, 106.0, 100.0, 91.0, 113.0, 100.0, 132.0, 96.0, 96.0, 113.0, 95.0, 85.0, 106.0, 117.0, 123.0, 78.0, 95.0, 135.0, 130.0, 115.0, 114.0, 107.0, 93.0, 94.0, 85.0, 63.0, 104.0, 127.0, 113.0, 91.0, 154.0, 82.0, 98.0, 103.0, 86.0, 92.0, 123.0, 116.0, 93.0, 97.0, 108.0, 101.0, 177.0, 95.0, 97.0, 111.0, 81.0, 89.0, 72.0, 112.0, 48.0, 81.0, 137.0, 89.0, 87.0, 88.0, 94.0, 125.0, 67.0, 108.0, 102.0, 109.0, 115.0, 98.0, 84.0, 133.0, 121.0, 100.0, 117.0, 78.0, 87.0, 88.0, 93.0, 107.0, 99.0, 140.0, 113.0, 89.0, 97.0, 97.0, 108.0, 80.0, 90.0, 117.0, 95.0, 86.0, 100.0, 87.0, 101.0, 83.0, 89.0, 18.0, 72.0, 95.0, 95.0, 98.0, 59.0, 118.0, 98.0, 111.0, 116.0, 97.0, 95.0, 122.0, 95.0, 93.0, 107.0, 119.0, 119.0, 97.0, 96.0, 103.0, 96.0, 106.0, 109.0, 112.0, 96.0, 60.0, 113.0, 126.0, 109.0, 93.0, 101.0, 111.0, 107.0, 100.0, 92.0, 103.0, 105.0, 103.0, 101.0, 123.0, 114.0, 101.0, 99.0, 102.0, 66.0, 112.0, 101.0, 99.0, 105.0, 93.0, 121.0, 75.0, 95.0, 100.0, 151.0, 78.0, 85.0, 69.0, 84.0, 88.0, 86.0, 121.0, 99.0, 110.0, 104.0, 95.0, 96.0, 106.0, 112.0, 85.0, 107.0, 76.0, 95.0, 88.0, 116.0, 121.0, 82.0, 87.0, 46.0, 103.0, 97.0, 91.0, 91.0, 101.0, 104.0, 92.0, 113.0, 89.0, 115.0, 84.0, 106.0, 124.0, 83.0, 107.0, 158.0, 95.0, 97.0, 97.0, 89.0, 161.0, 205.0, 123.0, 190.0, 136.0, 161.0, 133.0, 119.0, 94.0, 85.0, 108.0, 71.0, 147.0, 88.0, 99.0, 96.0, 97.0, 92.0, 79.0, 53.0, 94.0, 123.0, 103.0, 111.0, 123.0, 100.0, 75.0, 118.0, 96.0, 108.0, 99.0, 103.0, 99.0, 100.0, 105.0, 52.0, 106.0, 90.0, 95.0, 118.0, 98.0, 86.0, 84.0, 93.0, 88.0, 131.0, 44.0, 96.0, 70.0, 88.0, 87.0, 118.0, 89.0, 85.0, 107.0, 138.0, 119.0, 93.0, 87.0, 121.0, 95.0, 103.0, 201.0, 179.0, 87.0, 98.0, 82.0, 85.0, 90.0, 68.0, 138.0, 136.0, 138.0, 129.0, 116.0, 130.0, 40.0, 94.0, 104.0, 91.0, 70.0, 104.0, 115.0, 85.0, 85.0, 138.0, 40.0, 82.0, 90.0, 99.0, 91.0, 106.0, 108.0, 94.0, 87.0, 124.0, 141.0, 93.0, 103.0, 141.0, 155.0, 93.0, 78.0, 118.0, 88.0, 140.0, 124.0, 110.0, 100.0, 96.0, 116.0, 91.0, 111.0, 98.0, 125.0, 76.0, 117.0, 90.0, 119.0, 136.0, 52.0, 81.0, 77.0, 120.0, 102.0, 90.0, 90.0, 92.0, 93.0, 116.0, 107.0, 87.0, 111.0, 101.0, 91.0, 103.0, 120.0, 90.0, 92.0, 99.0, 124.0, 111.0, 32.0, 86.0, 104.0, 123.0, 105.0, 97.0, 97.0, 90.0, 163.0, 121.0, 120.0, 95.0, 84.0, 94.0, 94.0, 122.0, 90.0, 91.0, 89.0, 98.0, 106.0, 139.0, 83.0, 96.0, 94.0, 58.0, 96.0, 107.0, 104.0, 94.0, 108.0, 91.0, 58.0, 99.0, 96.0, 93.0, 106.0, 103.0, 91.0, 98.0, 111.0, 112.0, 90.0, 101.0, 98.0, 92.0, 88.0, 47.0, 100.0, 114.0, 128.0, 53.0, 89.0, 83.0, 85.0, 94.0, 104.0, 89.0, 86.0, 107.0, 77.0, 123.0, 122.0, 131.0, 77.0, 125.0, 125.0, 88.0, 96.0, 93.0, 42.0, 108.0, 151.0, 125.0, 78.0, 97.0, 84.0, 108.0, 89.0, 60.0, 119.0, 87.0, 104.0, 94.0, 94.0, 130.0, 88.0, 118.0, 94.0, 114.0, 119.0, 114.0, 94.0, 82.0, 82.0, 96.0, 100.0, 104.0, 101.0, 99.0, 98.0, 100.0, 134.0, 173.0, 113.0, 91.0, 110.0, 90.0, 128.0, 108.0, 124.0, 89.0, 162.0, 76.0, 96.0, 102.0, 53.0, 86.0, 89.0, 80.0, 95.0, 78.0, 90.0, 125.0, 94.0, 90.0, 104.0, 40.0, 108.0, 94.0, 61.0, 94.0, 105.0, 83.0, 110.0, 121.0, 95.0, 130.0, 132.0, 90.0, 117.0, 130.0, 78.0, 106.0, 110.0, 91.0, 113.0, 101.0, 125.0, 116.0, 106.0, 113.0, 99.0, 130.0, 120.0, 94.0, 94.0, 109.0, 94.0, 96.0, 103.0, 109.0, 147.0, 98.0, 73.0, 92.0, 78.0, 68.0, 96.0, 83.0, 91.0, 93.0, 38.0, 94.0, 91.0, 95.0, 124.0, 73.0, 108.0, 84.0, 93.0, 96.0, 102.0, 130.0, 52.0, 91.0, 110.0, 75.0, 103.0, 89.0, 86.0, 97.0, 89.0, 91.0, 78.0, 90.0, 50.0, 84.0, 82.0, 106.0, 105.0, 105.0, 100.0, 85.0, 86.0, 100.0, 106.0, 108.0, 74.0, 109.0, 97.0, 129.0, 49.0, 93.0, 133.0, 140.0, 45.0, 191.0, 81.0, 124.0, 101.0, 106.0, 137.0, 171.0, 132.0, 147.0, 151.0, 97.0, 90.0, 111.0, 112.0, 107.0, 96.0, 88.0, 78.0, 87.0, 85.0, 157.0, 116.0, 113.0, 94.0, 81.0, 88.0, 98.0, 131.0, 120.0, 96.0, 158.0, 88.0, 88.0, 111.0], \"xaxis\": \"x\", \"xbins\": {\"end\": 312.0, \"size\": 0.7, \"start\": 0.0}, \"yaxis\": \"y\"}, {\"legendgroup\": \"a\", \"marker\": {\"color\": \"#6ad49b\"}, \"mode\": \"lines\", \"name\": \"a\", \"showlegend\": false, \"type\": \"scatter\", \"x\": [0.0, 0.624, 1.248, 1.872, 2.496, 3.12, 3.744, 4.368, 4.992, 5.616, 6.24, 6.864, 7.488, 8.112, 8.736, 9.36, 9.984, 10.608, 11.232, 11.856, 12.48, 13.104, 13.728, 14.352, 14.976, 15.6, 16.224, 16.848, 17.472, 18.096, 18.72, 19.344, 19.968, 20.592, 21.216, 21.84, 22.464, 23.088, 23.712, 24.336, 24.96, 25.584, 26.208, 26.832, 27.456, 28.08, 28.704, 29.328, 29.952, 30.576, 31.2, 31.824, 32.448, 33.072, 33.696, 34.32, 34.944, 35.568, 36.192, 36.816, 37.44, 38.064, 38.688, 39.312, 39.936, 40.56, 41.184, 41.808, 42.432, 43.056, 43.68, 44.304, 44.928, 45.552, 46.176, 46.8, 47.424, 48.048, 48.672, 49.296, 49.92, 50.544, 51.168, 51.792, 52.416, 53.04, 53.664, 54.288, 54.912, 55.536, 56.16, 56.784, 57.408, 58.032, 58.656, 59.28, 59.904, 60.528, 61.152, 61.776, 62.4, 63.024, 63.648, 64.272, 64.896, 65.52, 66.144, 66.768, 67.392, 68.016, 68.64, 69.264, 69.888, 70.512, 71.136, 71.76, 72.384, 73.008, 73.632, 74.256, 74.88, 75.504, 76.128, 76.752, 77.376, 78.0, 78.624, 79.248, 79.872, 80.496, 81.12, 81.744, 82.368, 82.992, 83.616, 84.24, 84.864, 85.488, 86.112, 86.736, 87.36, 87.984, 88.608, 89.232, 89.856, 90.48, 91.104, 91.728, 92.352, 92.976, 93.6, 94.224, 94.848, 95.472, 96.096, 96.72, 97.344, 97.968, 98.592, 99.216, 99.84, 100.464, 101.088, 101.712, 102.336, 102.96, 103.584, 104.208, 104.832, 105.456, 106.08, 106.704, 107.328, 107.952, 108.576, 109.2, 109.824, 110.448, 111.072, 111.696, 112.32, 112.944, 113.568, 114.192, 114.816, 115.44, 116.064, 116.688, 117.312, 117.936, 118.56, 119.184, 119.808, 120.432, 121.056, 121.68, 122.304, 122.928, 123.552, 124.176, 124.8, 125.424, 126.048, 126.672, 127.296, 127.92, 128.544, 129.168, 129.792, 130.416, 131.04, 131.664, 132.288, 132.912, 133.536, 134.16, 134.784, 135.408, 136.032, 136.656, 137.28, 137.904, 138.528, 139.152, 139.776, 140.4, 141.024, 141.648, 142.272, 142.896, 143.52, 144.144, 144.768, 145.392, 146.016, 146.64, 147.264, 147.888, 148.512, 149.136, 149.76, 150.384, 151.008, 151.632, 152.256, 152.88, 153.504, 154.128, 154.752, 155.376, 156.0, 156.624, 157.248, 157.872, 158.496, 159.12, 159.744, 160.368, 160.992, 161.616, 162.24, 162.864, 163.488, 164.112, 164.736, 165.36, 165.984, 166.608, 167.232, 167.856, 168.48, 169.104, 169.728, 170.352, 170.976, 171.6, 172.224, 172.848, 173.472, 174.096, 174.72, 175.344, 175.968, 176.592, 177.216, 177.84, 178.464, 179.088, 179.712, 180.336, 180.96, 181.584, 182.208, 182.832, 183.456, 184.08, 184.704, 185.328, 185.952, 186.576, 187.2, 187.824, 188.448, 189.072, 189.696, 190.32, 190.944, 191.568, 192.192, 192.816, 193.44, 194.064, 194.688, 195.312, 195.936, 196.56, 197.184, 197.808, 198.432, 199.056, 199.68, 200.304, 200.928, 201.552, 202.176, 202.8, 203.424, 204.048, 204.672, 205.296, 205.92, 206.544, 207.168, 207.792, 208.416, 209.04, 209.664, 210.288, 210.912, 211.536, 212.16, 212.784, 213.408, 214.032, 214.656, 215.28, 215.904, 216.528, 217.152, 217.776, 218.4, 219.024, 219.648, 220.272, 220.896, 221.52, 222.144, 222.768, 223.392, 224.016, 224.64, 225.264, 225.888, 226.512, 227.136, 227.76, 228.384, 229.008, 229.632, 230.256, 230.88, 231.504, 232.128, 232.752, 233.376, 234.0, 234.624, 235.248, 235.872, 236.496, 237.12, 237.744, 238.368, 238.992, 239.616, 240.24, 240.864, 241.488, 242.112, 242.736, 243.36, 243.984, 244.608, 245.232, 245.856, 246.48, 247.104, 247.728, 248.352, 248.976, 249.6, 250.224, 250.848, 251.472, 252.096, 252.72, 253.344, 253.968, 254.592, 255.216, 255.84, 256.464, 257.088, 257.712, 258.336, 258.96, 259.584, 260.208, 260.832, 261.456, 262.08, 262.704, 263.328, 263.952, 264.576, 265.2, 265.824, 266.448, 267.072, 267.696, 268.32, 268.944, 269.568, 270.192, 270.816, 271.44, 272.064, 272.688, 273.312, 273.936, 274.56, 275.184, 275.808, 276.432, 277.056, 277.68, 278.304, 278.928, 279.552, 280.176, 280.8, 281.424, 282.048, 282.672, 283.296, 283.92, 284.544, 285.168, 285.792, 286.416, 287.04, 287.664, 288.288, 288.912, 289.536, 290.16, 290.784, 291.408, 292.032, 292.656, 293.28, 293.904, 294.528, 295.152, 295.776, 296.4, 297.024, 297.648, 298.272, 298.896, 299.52, 300.144, 300.768, 301.392, 302.016, 302.64, 303.264, 303.888, 304.512, 305.136, 305.76, 306.384, 307.008, 307.632, 308.256, 308.88, 309.504, 310.128, 310.752, 311.376], \"xaxis\": \"x\", \"y\": [2.985033390178401e-05, 3.2237626511480265e-05, 3.4799000987511285e-05, 3.7545711968086016e-05, 4.048962577171171e-05, 4.364324481554379e-05, 4.701973235627061e-05, 5.0632937504245275e-05, 5.449742045676484e-05, 5.862847789142766e-05, 6.30421684553868e-05, 6.77553382810637e-05, 7.278564645351399e-05, 7.815159034915992e-05, 8.38725307600312e-05, 8.996871671201297e-05, 9.646130987991379e-05, 0.00010337240849643054, 0.00011072507064636748, 0.0001185433368317535, 0.0001268522516878325, 0.00013567788472431495, 0.0001450473499608009, 0.0001549888243199237, 0.00016553156463660213, 0.0001767059231368177, 0.00018854336123460074, 0.00020107646149147588, 0.0002143389375784924, 0.00022836564207719825, 0.00024319257195255762, 0.00025885687152791127, 0.0002753968327896187, 0.00029285189284715646, 0.00031126262837309274, 0.00033067074684666186, 0.00035111907442459463, 0.00037265154026353003, 0.00039531315711968586, 0.0004191499980536697, 0.00044420916907128035, 0.0004705387775350007, 0.0004981878961856206, 0.0005272065226191122, 0.0005576455340704563, 0.0005895566373637739, 0.0006229923138966888, 0.0006580057595364962, 0.0006946508193163888, 0.0007329819168317448, 0.0007730539782492405, 0.000814922350855456, 0.0008586427160865526, 0.0009042709969965697, 0.0009518632601389322, 0.0010014756118538238, 0.001053164088973061, 0.0011069845439742045, 0.001162992524636502, 0.0012212431482731124, 0.0012817909706367256, 0.00134468984961908, 0.0014099928038890108, 0.0014777518666384732, 0.0015480179346312405, 0.0016208406127747922, 0.001696268054462102, 0.0017743467979564414, 0.0018551215991189445, 0.0019386352608054096, 0.002024928459285405, 0.0021140395680632135, 0.0022060044795063744, 0.0023008564247132663, 0.002398625792076364, 0.00249933994502234, 0.0026030230394337764, 0.0027096958412799153, 0.00281937554500551, 0.002932075593247017, 0.003047805498464335, 0.0031665706670935766, 0.0032883722268420533, 0.0034132068577604102, 0.003541066627738767, 0.00367193883308347, 0.0038058058448385977, 0.00394264496152163, 0.00408242826894545, 0.004225122507799101, 0.004370688949657298, 0.004519083282083632, 0.0046702555034843956, 0.004824149828359245, 0.004980704603581186, 0.005139852236321731, 0.005301519134217411, 0.0054656256583512685, 0.005632086089597288, 0.005800808608847162, 0.005971695291607278, 0.006144642117419405, 0.006319538994521266, 0.00649626980012328, 0.006674712436635029, 0.006854738904129875, 0.007036215389288504, 0.007219002371012314, 0.00740295474284562, 0.0075879219522915434, 0.007773748157050933, 0.007960272398156316, 0.008147328789914192, 0.008334746726509355, 0.008522351105064283, 0.00870996256488525, 0.008897397742565248, 0.009084469542552088, 0.009270987422728135, 0.009456757694487205, 0.009641583836733449, 0.009825266823167441, 0.010007605462166544, 0.010188396748509737, 0.01036743622614215, 0.010544518361121752, 0.010719436923840166, 0.010891985379561637, 0.011061957286279313, 0.011229146698846197, 0.011393348578299522, 0.011554359205262666, 0.011711976596277526, 0.011866000921893226, 0.012016234925314314, 0.012162484340392889, 0.0123045583077352, 0.012442269787683747, 0.012575435968931223, 0.012703878671522605, 0.012827424743006717, 0.012945906446508207, 0.013059161839505635, 0.013167035142120798, 0.01326937709374885, 0.013366045296887842, 0.013456904547060089, 0.01354182714775629, 0.013620693209376025, 0.013693390931185476, 0.013759816865364474, 0.013819876162270144, 0.013873482796103285, 0.013920559770226099, 0.013961039301445268, 0.013994862982643127, 0.014021981923210696, 0.014042356866809944, 0.014055958286068256, 0.01406276645388534, 0.01406277149111155, 0.014055973390436327, 0.014042382016405862, 0.01402201708156998, 0.013994908098838932, 0.013961094310211307, 0.013920624592113982, 0.013873557337673731, 0.013819960316317412, 0.013759910511173305, 0.013693493934819619, 0.013620805423997429, 0.013541948413973886, 0.013457034693306991, 0.013366184139825729, 0.013269524438698187, 0.013167190783515496, 0.013059325561370667, 0.012946078022958581, 0.012827603938766268, 0.012704065242460889, 0.0125756296626168, 0.01244247034395215, 0.012304765459269725, 0.012162697813316473, 0.01201645443979064, 0.011866226192735203, 0.011712207333561315, 0.011554595114945445, 0.011393589362839077, 0.011229392057820657, 0.011062206917005084, 0.010892238977707908, 0.010719694184038241, 0.010544778977567452, 0.010367699893189768, 0.010188663161255914, 0.010007874317022533, 0.009825537818418374, 0.009641856673083175, 0.009457032075587402, 0.009271263055690466, 0.009084746138442288, 0.00889767501687798, 0.008710240237998854, 0.008522628902674476, 0.008335024380041006, 0.008147606036910624, 0.007960548982645322, 0.00777402382988709, 0.0075881964714743545, 0.007403227873813123, 0.007219273886909872, 0.007036485071212689, 0.006855006541347256, 0.006674977826775913, 0.006496532749350521, 0.0063197993176742654, 0.006144899638133541, 0.005971949842409146, 0.005801060031225934, 0.005632334234052715, 0.005465870384418828, 0.005301760310471196, 0.005140089740355694, 0.004980938321969513, 0.004824379656596487, 0.004670481345906268, 0.00451930505176922, 0.004370906568313611, 0.004225335905628801, 0.004082637384498758, 0.003942849741533264, 0.0038060062440507976, 0.0036721348140560297, 0.00354125816064709, 0.0034133939201825654, 0.0032885548035358632, 0.0031667487497646653, 0.0030479790855261948, 0.002932244689574027, 0.0028195401616798875, 0.002709855995333547, 0.002603178753585879, 0.002499491247413802, 0.0023987727160017214, 0.002300999008351131, 0.002206142765649148, 0.002114173603846881, 0.0020250582959202073, 0.001938760953308055, 0.001855243206047122, 0.001774464381146262, 0.001696381678769085, 0.0016209503458189966, 0.0015481238465470607, 0.0014778540298296216, 0.0014100912927891346, 0.0013447847404584568, 0.0012818823412154012, 0.0012213310777408391, 0.0011630770932797828, 0.0011070658330107081, 0.0010532421803536422, 0.0010015505880723535, 0.0009519352040500853, 0.0009043399916417044, 0.0008587088445277739, 0.0008149856960179237, 0.0007731146227717601, 0.0007330399429256368, 0.0006947063086326123, 0.0006580587930409855, 0.000623042971753817, 0.0005896049988278451, 0.0005576916773851227, 0.000527250524924561, 0.0004982298334333793, 0.00047057872441018937, 0.0004442471989221212, 0.0004191861828280448, 0.00039534756730854275, 0.00037268424485089924, 0.0003511501408439887, 0.00033070024094361637, 0.0003112906143735992, 0.00029287843333173166, 0.0002754219886727635, 0.00025888070204268783, 0.00024321513464003292, 0.0002283869927804876, 0.00021435913044114626, 0.00020109554895994438, 0.00018856139406452945, 0.0001767229504029121, 0.00016554763374581352, 0.00015500398102771682, 0.00014506163839025563, 0.00013569134738783306, 0.00012686492951122284, 0.0001185552691804731, 0.00011073629535370322, 0.00010338296189342181, 9.647122682681134e-05, 8.997803063108636e-05, 8.388127366954496e-05, 7.815979289834298e-05, 7.279333795835551e-05, 6.77625467607839e-05, 6.304892066942883e-05, 5.863479937683424e-05, 5.4503335565808034e-05, 5.0638469442185806e-05, 4.70249032191314e-05, 4.36480756277934e-05, 4.049413652375508e-05, 3.754992165347435e-05, 3.480292763978634e-05, 3.224128724057641e-05, 2.985374492991808e-05, 2.7629632846327726e-05, 2.555884714831039e-05, 2.3631824813085173e-05, 2.18395209102646e-05, 2.0173386378344424e-05, 1.8625346328128473e-05, 1.718777889367532e-05, 1.585349464800335e-05, 1.4615716597638145e-05, 1.3468060767115956e-05, 1.2404517381780873e-05, 1.1419432654616888e-05, 1.050749118044505e-05, 9.663698938577371e-06, 8.883366902958156e-06, 8.16209525692522e-06, 7.4957582079900926e-06, 6.880489396458799e-06, 6.312667890286649e-06, 5.788904757276945e-06, 5.3060302045885596e-06, 4.861081274501852e-06, 4.451290084502941e-06, 4.07407259897468e-06, 3.727017919121992e-06, 3.4078780772037495e-06, 3.1145583206868093e-06, 2.8451078715718755e-06, 2.597711145862134e-06, 2.370679417945404e-06, 2.1624429145341545e-06, 1.9715433227492433e-06, 1.7966266969367208e-06, 1.636436748866966e-06, 1.4898085060772416e-06, 1.3556623232766876e-06, 1.2329982319324947e-06, 1.1208906133930047e-06, 1.018483181173165e-06, 9.249842583262955e-07, 8.396623361496841e-07, 7.618419008162178e-07, 6.9089951488725e-07, 6.262601410392937e-07, 5.67393695726802e-07, 5.138118209018431e-07, 4.650648623169028e-07, 4.207390433466426e-07, 3.8045382367655004e-07, 3.438594326185461e-07, 3.106345672246075e-07, 2.8048424577743175e-07, 2.531378076405587e-07, 2.2834705084848473e-07, 2.058844992083427e-07, 1.8554179106829202e-07, 1.671281822827479e-07, 1.5046915627018957e-07, 1.354051344152632e-07, 1.2179028041228695e-07, 1.0949139248206575e-07, 9.8386877717587e-08, 8.836580312648072e-08, 7.932701823911235e-08, 7.11783444404506e-08, 6.383582646170635e-08, 5.722304173392598e-08, 5.127046356052464e-08, 4.591487430918248e-08, 4.109882505575746e-08, 3.67701383341802e-08, 3.288145085679061e-08, 2.938979326962076e-08, 2.6256204196924257e-08, 2.3445376009109492e-08, 2.0925329918496637e-08, 1.8667118168233712e-08, 1.6644551231681855e-08, 1.483394808288008e-08, 1.3213907733710668e-08, 1.1765100360423575e-08, 1.0470076461578387e-08, 9.313092601584777e-09, 8.279952399171638e-09, 7.357861518644451e-09, 6.535295514011677e-09, 5.801879462286658e-09, 5.148278402827054e-09, 4.566097674737553e-09, 4.04779231444707e-09, 3.586584740842022e-09, 3.176390016079709e-09, 2.811748026674616e-09, 2.4877619818983347e-09, 2.2000426752076635e-09, 1.94465799954139e-09, 1.7180872491272996e-09, 1.5171797791310565e-09, 1.3391176302527041e-09, 1.1813817584315676e-09, 1.041721540333516e-09, 9.181272534382515e-10, 8.088052554826718e-10, 7.121556118993805e-10, 6.267519418652774e-10, 5.513232737767375e-10, 4.847377195257906e-10, 4.2598779398470036e-10, 3.7417722172754046e-10, 3.285090873333296e-10, 2.8827519872346555e-10, 2.528465449805243e-10, 2.216647410612833e-10, 1.9423436183490076e-10, 1.701160770227227e-10, 1.4892050695835505e-10, 1.3030272669096357e-10, 1.1395735288068764e-10, 9.9614154238952e-11, 8.703413199969507e-11, 7.60060221179381e-11, 6.634317562417739e-11, 5.7880777857232886e-11, 5.047337119249965e-11, 4.3992649411485266e-11, 3.832549505417241e-11, 3.337223398758634e-11, 2.904508403889041e-11, 2.5266776904374914e-11, 2.19693346794939e-11, 1.909298428063889e-11, 1.6585194765682292e-11, 1.439982412499883e-11, 1.249636352371675e-11, 1.0839268243918698e-11, 9.397365715809466e-12, 8.14333205161973e-12, 7.053229416313288e-12, 6.106097395120485e-12, 5.283592258676986e-12, 4.569668690481443e-12, 3.950299136042238e-12, 3.413226465358878e-12, 2.9477461164956822e-12, 2.5445143136012558e-12, 2.1953793329254795e-12, 1.8932331297939274e-12, 1.6318809423094743e-12, 1.4059267575249509e-12, 1.2106727663763308e-12, 1.042031147855464e-12, 8.964467134945787e-13, 7.708291127280469e-13, 6.624934503250497e-13, 5.691083008678806e-13, 4.886502239911333e-13, 4.1936398942168074e-13, 3.5972781422594973e-13, 3.084229973830965e-13, 2.6430741003192447e-13, 2.263923645311651e-13, 1.9382244276359593e-13, 1.658579147416692e-13, 1.4185942328227705e-13, 1.2127464997888973e-13, 1.0362671250466284e-13, 8.850407396090261e-14, 7.555177201338232e-14, 6.446379935461948e-14, 5.497648796731765e-14, 4.6862768074554615e-14, 3.992718884127362e-14, 3.400160210081591e-14, 2.8941422851898746e-14, 2.4622391211486378e-14, 2.0937770099564906e-14, 1.7795921334443806e-14, 1.5118210174445662e-14, 1.283719477998067e-14, 1.0895062700414613e-14], \"yaxis\": \"y\"}, {\"legendgroup\": \"a\", \"marker\": {\"color\": \"#6ad49b\", \"symbol\": \"line-ns-open\"}, \"mode\": \"markers\", \"name\": \"a\", \"showlegend\": false, \"type\": \"scatter\", \"x\": [90.0, 91.0, 125.0, 104.0, 127.0, 91.0, 67.0, 94.0, 161.0, 61.0, 166.0, 147.0, 103.0, 97.0, 106.0, 111.0, 110.0, 105.0, 96.0, 124.0, 116.0, 98.0, 91.0, 23.0, 115.0, 122.0, 99.0, 99.0, 88.0, 100.0, 102.0, 93.0, 96.0, 95.0, 85.0, 97.0, 95.0, 83.0, 103.0, 113.0, 13.0, 182.0, 106.0, 48.0, 145.0, 145.0, 93.0, 106.0, 147.0, 87.0, 96.0, 95.0, 92.0, 91.0, 90.0, 97.0, 80.0, 117.0, 128.0, 90.0, 119.0, 110.0, 143.0, 119.0, 114.0, 94.0, 106.0, 99.0, 118.0, 115.0, 95.0, 115.0, 108.0, 63.0, 117.0, 121.0, 142.0, 113.0, 154.0, 95.0, 108.0, 120.0, 100.0, 82.0, 124.0, 114.0, 104.0, 94.0, 94.0, 93.0, 97.0, 109.0, 88.0, 101.0, 105.0, 102.0, 101.0, 103.0, 106.0, 118.0, 86.0, 121.0, 229.0, 76.0, 95.0, 98.0, 89.0, 120.0, 110.0, 83.0, 121.0, 105.0, 94.0, 156.0, 112.0, 95.0, 107.0, 114.0, 129.0, 86.0, 97.0, 125.0, 107.0, 127.0, 128.0, 92.0, 135.0, 124.0, 136.0, 165.0, 124.0, 136.0, 150.0, 112.0, 119.0, 133.0, 142.0, 93.0, 113.0, 124.0, 116.0, 106.0, 145.0, 93.0, 95.0, 108.0, 90.0, 86.0, 92.0, 82.0, 70.0, 122.0, 122.0, 122.0, 122.0, 84.0, 96.0, 115.0, 110.0, 88.0, 102.0, 91.0, 105.0, 135.0, 86.0, 140.0, 133.0, 92.0, 82.0, 97.0, 78.0, 94.0, 121.0, 97.0, 110.0, 64.0, 59.0, 101.0, 127.0, 90.0, 114.0, 108.0, 70.0, 98.0, 86.0, 139.0, 111.0, 115.0, 102.0, 100.0, 135.0, 69.0, 95.0, 97.0, 124.0, 118.0, 115.0, 115.0, 104.0, 106.0, 102.0, 97.0, 87.0, 88.0, 114.0, 90.0, 142.0, 90.0, 105.0, 103.0, 116.0, 113.0, 99.0, 96.0, 148.0, 189.0, 97.0, 102.0, 99.0, 85.0, 112.0, 91.0, 91.0, 141.0, 130.0, 98.0, 105.0, 101.0, 105.0, 118.0, 97.0, 102.0, 114.0, 111.0, 125.0, 76.0, 118.0, 103.0, 114.0, 95.0, 138.0, 112.0, 94.0, 102.0, 92.0, 81.0, 143.0, 86.0, 132.0, 117.0, 165.0, 91.0, 97.0, 97.0, 123.0, 94.0, 111.0, 85.0, 65.0, 64.0, 68.0, 67.0, 66.0, 64.0, 64.0, 65.0, 64.0, 68.0, 68.0, 64.0, 62.0, 63.0, 69.0, 70.0, 63.0, 68.0, 74.0, 68.0, 99.0, 90.0, 87.0, 105.0, 106.0, 102.0, 91.0, 88.0, 107.0, 101.0, 114.0, 123.0, 94.0, 105.0, 117.0, 115.0, 124.0, 131.0, 122.0, 113.0, 91.0, 100.0, 93.0, 90.0, 86.0, 100.0, 96.0, 95.0, 115.0, 100.0, 102.0, 87.0, 39.0, 110.0, 93.0, 96.0, 93.0, 93.0, 111.0, 105.0, 101.0, 102.0, 46.0, 89.0, 94.0, 104.0, 97.0, 91.0, 106.0, 38.0, 90.0, 87.0, 138.0, 105.0, 104.0, 85.0, 92.0, 108.0, 95.0, 105.0, 116.0, 124.0, 101.0, 95.0, 128.0, 143.0, 107.0, 136.0, 94.0, 136.0, 126.0, 116.0, 100.0, 115.0, 125.0, 39.0, 94.0, 90.0, 95.0, 155.0, 98.0, 108.0, 96.0, 117.0, 118.0, 103.0, 94.0, 93.0, 115.0, 120.0, 145.0, 126.0, 96.0, 101.0, 118.0, 109.0, 89.0, 106.0, 101.0, 101.0, 123.0, 106.0, 89.0, 128.0, 85.0, 89.0, 108.0, 105.0, 133.0, 129.0, 127.0, 113.0, 112.0, 130.0, 100.0, 103.0, 85.0, 124.0, 103.0, 121.0, 89.0, 92.0, 112.0, 114.0, 116.0, 110.0, 98.0, 98.0, 100.0, 90.0, 92.0, 82.0, 97.0, 90.0, 76.0, 83.0, 101.0, 109.0, 97.0, 87.0, 94.0, 89.0, 88.0, 108.0, 96.0, 84.0, 70.0, 125.0, 119.0, 105.0, 133.0, 140.0, 120.0, 135.0, 111.0, 159.0, 119.0, 139.0, 137.0, 101.0, 13.0, 12.0, 101.0, 96.0, 122.0, 95.0, 89.0, 98.0, 119.0, 138.0, 104.0, 273.0, 101.0, 99.0, 84.0, 82.0, 97.0, 89.0, 36.0, 34.0, 36.0, 113.0, 110.0, 36.0, 102.0, 86.0, 91.0, 117.0, 99.0, 77.0, 97.0, 106.0, 97.0, 104.0, 110.0, 61.0, 98.0, 74.0, 60.0, 60.0, 103.0, 94.0, 112.0, 49.0, 111.0, 58.0, 72.0, 78.0, 101.0, 110.0, 94.0, 70.0, 118.0, 99.0, 103.0, 95.0, 93.0, 101.0, 101.0, 89.0, 109.0, 104.0, 90.0, 109.0, 145.0, 88.0, 132.0, 109.0, 133.0, 85.0, 104.0, 99.0, 93.0, 204.0, 212.0, 98.0, 101.0, 94.0, 25.0, 99.0, 108.0, 106.0, 128.0, 104.0, 127.0, 136.0, 97.0, 88.0, 97.0, 97.0, 88.0, 103.0, 97.0, 88.0, 97.0, 118.0, 70.0, 91.0, 92.0, 120.0, 73.0, 110.0, 94.0, 61.0, 131.0, 131.0, 131.0, 148.0, 29.0, 107.0, 99.0, 92.0, 91.0, 47.0, 88.0, 116.0, 109.0, 92.0, 87.0, 101.0, 140.0, 89.0, 81.0, 116.0, 99.0, 107.0, 107.0, 90.0, 104.0, 100.0, 32.0, 102.0, 105.0, 107.0, 64.0, 99.0, 102.0, 126.0, 119.0, 86.0, 122.0, 95.0, 104.0, 118.0, 85.0, 98.0, 99.0, 35.0, 107.0, 97.0, 112.0, 118.0, 109.0, 109.0, 88.0, 97.0, 97.0, 99.0, 95.0, 91.0, 115.0, 93.0, 109.0, 96.0, 78.0, 87.0, 76.0, 76.0, 71.0, 138.0, 113.0, 94.0, 89.0, 121.0, 127.0, 94.0, 89.0, 136.0, 89.0, 99.0, 93.0, 85.0, 102.0, 101.0, 113.0, 128.0, 114.0, 85.0, 121.0, 95.0, 121.0, 116.0, 91.0, 149.0, 113.0, 33.0, 127.0, 101.0, 102.0, 102.0, 107.0, 123.0, 98.0, 95.0, 101.0, 104.0, 104.0, 103.0, 111.0, 102.0, 15.0, 54.0, 120.0, 106.0, 116.0, 58.0, 116.0, 126.0, 86.0, 97.0, 76.0, 80.0, 81.0, 84.0, 87.0, 91.0, 76.0, 132.0, 126.0, 101.0, 102.0, 147.0, 224.0, 141.0, 109.0, 162.0, 142.0, 93.0, 60.0, 119.0, 37.0, 96.0, 116.0, 102.0, 123.0, 102.0, 127.0, 88.0, 106.0, 65.0, 96.0, 88.0, 143.0, 137.0, 75.0, 71.0, 103.0, 130.0, 145.0, 84.0, 84.0, 77.0, 86.0, 79.0, 80.0, 81.0, 78.0, 118.0, 102.0, 132.0, 108.0, 133.0, 107.0, 32.0, 78.0, 55.0, 92.0, 86.0, 140.0, 143.0, 88.0, 89.0, 93.0, 97.0, 94.0, 112.0, 100.0, 120.0, 91.0, 98.0, 113.0, 98.0, 91.0, 158.0, 164.0, 133.0, 75.0, 103.0, 90.0, 116.0, 96.0, 121.0, 101.0, 173.0, 89.0, 182.0, 181.0, 185.0, 99.0, 88.0, 107.0, 114.0, 96.0, 149.0, 102.0, 83.0, 98.0, 83.0, 104.0, 111.0, 98.0, 93.0, 73.0, 141.0, 116.0, 21.0, 98.0, 87.0, 87.0, 95.0, 87.0, 93.0, 97.0, 114.0, 100.0, 105.0, 90.0, 60.0, 98.0, 108.0, 90.0, 102.0, 84.0, 120.0, 106.0, 115.0, 98.0, 60.0, 113.0, 101.0, 24.0, 51.0, 80.0, 100.0, 139.0, 74.0, 131.0, 131.0, 118.0, 87.0, 101.0, 97.0, 92.0, 136.0, 97.0, 103.0, 110.0, 105.0, 90.0, 107.0, 92.0, 94.0, 99.0, 97.0, 151.0, 108.0, 113.0, 81.0, 116.0, 119.0, 116.0, 112.0, 121.0, 115.0, 182.0, 98.0, 96.0, 42.0, 181.0, 100.0, 22.0, 134.0, 177.0, 94.0, 88.0, 119.0, 107.0, 112.0, 35.0, 103.0, 90.0, 120.0, 97.0, 102.0, 106.0, 119.0, 84.0, 58.0, 90.0, 109.0, 143.0, 112.0, 134.0, 123.0, 36.0, 123.0, 58.0, 118.0, 91.0, 76.0, 97.0, 85.0, 92.0, 139.0, 162.0, 92.0, 86.0, 107.0, 85.0, 83.0, 104.0, 116.0, 87.0, 91.0, 119.0, 102.0, 86.0, 102.0, 98.0, 99.0, 108.0, 114.0, 104.0, 88.0, 104.0, 123.0, 106.0, 138.0, 113.0, 107.0, 133.0, 97.0, 116.0, 123.0, 89.0, 93.0, 139.0, 112.0, 101.0, 113.0, 89.0, 107.0, 123.0, 113.0, 90.0, 52.0, 127.0, 95.0, 121.0, 108.0, 102.0, 95.0, 133.0, 127.0, 95.0, 101.0, 123.0, 89.0, 100.0, 108.0, 94.0, 103.0, 105.0, 116.0, 92.0, 65.0, 115.0, 96.0, 32.0, 102.0, 102.0, 101.0, 71.0, 81.0, 98.0, 90.0, 112.0, 161.0, 129.0, 85.0, 14.0, 148.0, 99.0, 97.0, 101.0, 89.0, 128.0, 76.0, 99.0, 126.0, 106.0, 101.0, 87.0, 111.0, 90.0, 91.0, 101.0, 96.0, 96.0, 148.0, 96.0, 98.0, 104.0, 53.0, 54.0, 113.0, 102.0, 118.0, 83.0, 77.0, 116.0, 116.0, 106.0, 105.0, 8.0, 110.0, 71.0, 91.0, 46.0, 109.0, 102.0, 101.0, 94.0, 110.0, 117.0, 85.0, 119.0, 115.0, 105.0, 68.0, 57.0, 28.0, 98.0, 95.0, 96.0, 66.0, 112.0, 84.0, 94.0, 32.0, 98.0, 85.0, 120.0, 83.0, 94.0, 102.0, 111.0, 90.0, 111.0, 110.0, 87.0, 132.0, 117.0, 50.0, 106.0, 125.0, 107.0, 59.0, 28.0, 9.0, 91.0, 132.0, 133.0, 109.0, 107.0, 111.0, 108.0, 105.0, 119.0, 104.0, 83.0, 90.0, 79.0, 24.0, 115.0, 97.0, 26.0, 46.0, 106.0, 113.0, 133.0, 93.0, 108.0, 96.0, 25.0, 101.0, 106.0, 54.0, 118.0, 58.0, 117.0, 48.0, 139.0, 115.0, 109.0, 91.0, 60.0, 102.0, 120.0, 149.0, 91.0, 99.0, 106.0, 108.0, 45.0, 93.0, 22.0, 81.0, 98.0, 100.0, 112.0, 114.0, 68.0, 103.0, 121.0, 95.0, 87.0, 115.0, 171.0, 171.0, 46.0, 117.0, 84.0, 98.0, 83.0, 97.0, 99.0, 108.0, 93.0, 42.0, 13.0, 64.0, 162.0, 130.0, 108.0, 129.0, 105.0, 133.0, 142.0, 128.0, 97.0, 107.0, 135.0, 84.0, 70.0, 124.0, 102.0, 84.0, 95.0, 84.0, 120.0, 87.0, 75.0, 124.0, 92.0, 95.0, 107.0, 123.0, 85.0, 150.0, 97.0, 88.0, 74.0, 93.0, 151.0, 82.0, 148.0, 95.0, 90.0, 103.0, 87.0, 102.0, 96.0, 87.0, 86.0, 136.0, 60.0, 127.0, 96.0, 15.0, 100.0, 87.0, 28.0, 27.0, 90.0, 102.0, 94.0, 81.0, 134.0, 114.0, 107.0, 107.0, 130.0, 87.0, 93.0, 114.0, 91.0, 116.0, 93.0, 106.0, 105.0, 50.0, 93.0, 103.0, 114.0, 95.0, 50.0, 150.0, 100.0, 117.0, 87.0, 100.0, 86.0, 102.0, 87.0, 103.0, 112.0, 120.0, 111.0, 78.0, 51.0, 123.0, 46.0, 102.0, 106.0, 112.0, 101.0, 96.0, 103.0, 94.0, 69.0, 81.0, 76.0, 108.0, 94.0, 106.0, 98.0, 93.0, 99.0, 93.0, 82.0, 107.0, 104.0, 130.0, 83.0, 99.0, 77.0, 94.0, 118.0, 87.0, 42.0, 101.0, 80.0, 110.0, 117.0, 47.0, 165.0, 134.0, 140.0, 150.0, 156.0, 86.0, 126.0, 100.0, 25.0, 124.0, 100.0, 106.0, 104.0, 96.0, 90.0, 33.0, 81.0, 84.0, 44.0, 115.0, 94.0, 22.0, 107.0, 115.0, 93.0, 107.0, 86.0, 112.0, 102.0, 91.0, 83.0, 73.0, 139.0, 95.0, 101.0, 75.0, 87.0, 91.0, 120.0, 123.0, 95.0, 84.0, 29.0, 28.0, 122.0, 28.0, 98.0, 59.0, 80.0, 103.0, 104.0, 146.0, 135.0, 129.0, 115.0, 143.0, 173.0, 129.0, 149.0, 98.0, 115.0, 44.0, 127.0, 124.0, 85.0, 20.0, 102.0, 129.0, 124.0, 118.0, 111.0, 125.0, 94.0, 130.0, 117.0, 137.0, 139.0, 111.0, 103.0, 120.0, 98.0, 130.0, 96.0, 61.0, 137.0, 90.0, 69.0, 139.0, 94.0, 92.0, 80.0, 63.0, 88.0, 105.0, 93.0, 140.0, 103.0, 102.0, 93.0, 69.0, 133.0, 157.0, 116.0, 112.0, 96.0, 127.0, 130.0, 93.0, 138.0, 138.0, 92.0, 110.0, 102.0, 113.0, 96.0, 108.0, 94.0, 99.0, 86.0, 98.0, 111.0, 97.0, 135.0, 93.0, 94.0, 117.0, 63.0, 73.0, 91.0, 93.0, 101.0, 93.0, 96.0, 112.0, 72.0, 112.0, 72.0, 92.0, 109.0, 155.0, 109.0, 115.0, 97.0, 103.0, 24.0, 110.0, 97.0, 94.0, 107.0, 97.0, 103.0, 88.0, 111.0, 94.0, 33.0, 107.0, 110.0, 98.0, 81.0, 104.0, 17.0, 121.0, 100.0, 70.0, 97.0, 75.0, 102.0, 88.0, 158.0, 102.0, 203.0, 59.0, 92.0, 104.0, 72.0, 113.0, 93.0, 119.0, 105.0, 113.0, 93.0, 44.0, 110.0, 113.0, 90.0, 82.0, 69.0, 46.0, 94.0, 72.0, 95.0, 101.0, 21.0, 71.0, 64.0, 92.0, 80.0, 104.0, 25.0, 111.0, 72.0, 99.0, 83.0, 150.0, 108.0, 44.0, 102.0, 137.0, 112.0, 102.0, 103.0, 136.0, 41.0, 88.0, 84.0, 114.0, 110.0, 103.0, 106.0, 46.0, 115.0, 140.0, 124.0, 133.0, 91.0, 30.0, 67.0, 105.0, 58.0, 87.0, 100.0, 95.0, 90.0, 102.0, 98.0, 68.0, 104.0, 89.0, 62.0, 86.0, 104.0, 101.0, 17.0, 126.0, 120.0, 89.0, 96.0, 91.0, 86.0, 67.0, 89.0, 65.0, 151.0, 116.0, 110.0, 123.0, 139.0, 95.0, 121.0, 127.0, 162.0, 128.0, 112.0, 125.0, 128.0, 120.0, 86.0, 107.0, 129.0, 135.0, 97.0, 125.0, 162.0, 136.0, 138.0, 126.0, 137.0, 114.0, 96.0, 107.0, 89.0, 94.0, 148.0, 82.0, 95.0, 120.0, 115.0, 107.0, 105.0, 134.0, 128.0, 103.0, 96.0, 114.0, 102.0, 52.0, 86.0, 104.0, 76.0, 135.0, 99.0, 124.0, 117.0, 107.0, 111.0, 116.0, 135.0, 126.0, 164.0, 166.0, 104.0, 94.0, 92.0, 52.0, 112.0, 90.0, 101.0, 84.0, 112.0, 136.0, 108.0, 110.0, 93.0, 90.0, 130.0, 128.0, 104.0, 131.0, 109.0, 129.0, 73.0, 104.0, 48.0, 114.0, 86.0, 194.0, 76.0, 116.0, 130.0, 85.0, 108.0, 81.0, 76.0, 92.0, 85.0, 85.0, 108.0, 120.0, 117.0, 100.0, 101.0, 156.0, 55.0, 96.0, 104.0, 101.0, 113.0, 126.0, 98.0, 114.0, 132.0, 92.0, 90.0, 86.0, 103.0, 114.0, 115.0, 149.0, 96.0, 102.0, 105.0, 114.0, 94.0, 83.0, 106.0, 116.0, 109.0, 97.0, 100.0, 116.0, 111.0, 24.0, 95.0, 135.0, 95.0, 92.0, 100.0, 80.0, 98.0, 104.0, 98.0, 104.0, 99.0, 68.0, 106.0, 71.0, 80.0, 116.0, 112.0, 73.0, 110.0, 135.0, 128.0, 93.0, 149.0, 54.0, 87.0, 102.0, 177.0, 204.0, 233.0, 98.0, 237.0, 230.0, 173.0, 195.0, 253.0, 157.0, 97.0, 85.0, 94.0, 80.0, 94.0, 92.0, 105.0, 120.0, 96.0, 107.0, 93.0, 101.0, 110.0, 112.0, 93.0, 109.0, 105.0, 97.0, 91.0, 88.0, 109.0, 118.0, 109.0, 131.0, 91.0, 152.0, 67.0, 72.0, 83.0, 90.0, 106.0, 190.0, 129.0, 160.0, 86.0, 92.0, 114.0, 90.0, 94.0, 86.0, 89.0, 107.0, 61.0, 93.0, 81.0, 120.0, 94.0, 91.0, 104.0, 76.0, 90.0, 103.0, 122.0, 97.0, 98.0, 42.0, 90.0, 91.0, 94.0, 107.0, 143.0, 105.0, 116.0, 23.0, 23.0, 23.0, 105.0, 97.0, 105.0, 83.0, 109.0, 111.0, 97.0, 132.0, 102.0, 107.0, 100.0, 115.0, 104.0, 110.0, 100.0, 111.0, 108.0, 104.0, 116.0, 106.0, 96.0, 140.0, 107.0, 138.0, 132.0, 208.0, 105.0, 101.0, 124.0, 93.0, 110.0, 115.0, 107.0, 72.0, 107.0, 95.0, 180.0, 135.0, 87.0, 94.0, 105.0, 93.0, 92.0, 144.0, 101.0, 81.0, 95.0, 119.0, 121.0, 88.0, 106.0, 119.0, 63.0, 82.0, 95.0, 93.0, 120.0, 147.0, 55.0, 107.0, 92.0, 85.0, 98.0, 92.0, 101.0, 112.0, 103.0, 91.0, 96.0, 104.0, 66.0, 83.0, 111.0, 90.0, 121.0, 121.0, 88.0, 57.0, 107.0, 5.0, 91.0, 174.0, 155.0, 87.0, 77.0, 142.0, 170.0, 165.0, 161.0, 144.0, 149.0, 135.0, 131.0, 126.0, 192.0, 209.0, 187.0, 138.0, 185.0, 143.0, 97.0, 172.0, 103.0, 83.0, 107.0, 114.0, 93.0, 85.0, 85.0, 131.0, 101.0, 107.0, 84.0, 104.0, 160.0, 103.0, 46.0, 112.0, 83.0, 72.0, 24.0, 104.0, 72.0, 113.0, 21.0, 100.0, 108.0, 99.0, 104.0, 70.0, 93.0, 95.0, 109.0, 91.0, 75.0, 100.0, 95.0, 113.0, 91.0, 62.0, 93.0, 135.0, 23.0, 23.0, 23.0, 101.0, 98.0, 103.0, 106.0, 95.0, 132.0, 82.0, 71.0, 16.0, 104.0, 79.0, 120.0, 82.0, 115.0, 111.0, 110.0, 121.0, 162.0, 108.0, 186.0, 116.0, 154.0, 105.0, 71.0, 61.0, 133.0, 98.0, 119.0, 61.0, 130.0, 11.0, 87.0, 127.0, 87.0, 88.0, 158.0, 82.0, 93.0, 90.0, 109.0, 72.0, 162.0, 98.0, 103.0, 97.0, 94.0, 101.0, 138.0, 109.0, 50.0, 110.0, 92.0, 120.0, 101.0, 116.0, 117.0, 95.0, 93.0, 122.0, 102.0, 96.0, 93.0, 93.0, 72.0, 87.0, 95.0, 33.0, 113.0, 118.0, 171.0, 100.0, 103.0, 86.0, 102.0, 81.0, 101.0, 73.0, 96.0, 106.0, 88.0, 103.0, 139.0, 89.0, 104.0, 124.0, 112.0, 70.0, 106.0, 97.0, 106.0, 60.0, 148.0, 122.0, 86.0, 193.0, 92.0, 94.0, 82.0, 59.0, 89.0, 176.0, 116.0, 86.0, 93.0, 85.0, 62.0, 112.0, 121.0, 133.0, 76.0, 82.0, 156.0, 90.0, 97.0, 51.0, 98.0, 61.0, 116.0, 132.0, 17.0, 91.0, 121.0, 78.0, 95.0, 86.0, 132.0, 107.0, 122.0, 95.0, 108.0, 99.0, 103.0, 66.0, 132.0, 56.0, 128.0, 119.0, 97.0, 92.0, 102.0, 90.0, 129.0, 106.0, 105.0, 78.0, 79.0, 78.0, 145.0, 71.0, 83.0, 81.0, 119.0, 98.0, 102.0, 88.0, 97.0, 110.0, 85.0, 90.0, 89.0, 120.0, 102.0, 73.0, 103.0, 79.0, 97.0, 91.0, 96.0, 103.0, 95.0, 83.0, 117.0, 70.0, 90.0, 86.0, 86.0, 113.0, 82.0, 141.0, 107.0, 126.0, 25.0, 63.0, 136.0, 120.0, 134.0, 185.0, 174.0, 169.0, 148.0, 135.0, 135.0, 89.0, 119.0, 98.0, 135.0, 185.0, 156.0, 104.0, 139.0, 140.0, 154.0, 129.0, 99.0, 100.0, 110.0, 107.0, 95.0, 89.0, 65.0, 143.0, 101.0, 60.0, 29.0, 92.0, 172.0, 97.0, 108.0, 107.0, 137.0, 106.0, 115.0, 46.0, 92.0, 93.0, 85.0, 24.0, 56.0, 86.0, 127.0, 93.0, 94.0, 120.0, 108.0, 135.0, 111.0, 134.0, 137.0, 103.0, 133.0, 95.0, 126.0, 67.0, 135.0, 106.0, 107.0, 81.0, 107.0, 118.0, 110.0, 104.0, 93.0, 94.0, 137.0, 134.0, 69.0, 106.0, 209.0, 86.0, 24.0, 46.0, 117.0, 87.0, 121.0, 97.0, 121.0, 56.0, 119.0, 93.0, 86.0, 134.0, 28.0, 131.0, 78.0, 93.0, 84.0, 107.0, 101.0, 107.0, 74.0, 60.0, 143.0, 105.0, 110.0, 98.0, 74.0, 46.0, 54.0, 59.0, 100.0, 88.0, 93.0, 94.0, 121.0, 78.0, 116.0, 87.0, 61.0, 98.0, 123.0, 85.0, 78.0, 103.0, 44.0, 68.0, 68.0, 69.0, 81.0, 69.0, 68.0, 68.0, 86.0, 40.0, 94.0, 90.0, 112.0, 101.0, 119.0, 40.0, 86.0, 92.0, 91.0, 36.0, 141.0, 107.0, 97.0, 24.0, 89.0, 65.0, 126.0, 63.0, 14.0, 28.0, 20.0, 106.0, 118.0, 127.0, 61.0, 86.0, 94.0, 82.0, 92.0, 52.0, 108.0, 67.0, 91.0, 66.0, 118.0, 87.0, 47.0, 56.0, 61.0, 34.0, 98.0, 99.0, 95.0, 100.0, 101.0, 86.0, 96.0, 99.0, 112.0, 127.0, 22.0, 78.0, 63.0, 97.0, 86.0, 62.0, 96.0, 104.0, 123.0, 100.0, 99.0, 151.0, 102.0, 154.0, 106.0, 87.0, 70.0, 46.0, 101.0, 109.0, 100.0, 110.0, 102.0, 102.0, 24.0, 98.0, 76.0, 90.0, 59.0, 58.0, 64.0, 79.0, 81.0, 81.0, 64.0, 45.0, 90.0, 102.0, 116.0, 42.0, 133.0, 108.0, 38.0, 146.0, 146.0, 106.0, 58.0, 152.0, 87.0, 121.0, 83.0, 111.0, 24.0, 171.0, 88.0, 76.0, 64.0, 94.0, 157.0, 83.0, 65.0, 105.0, 107.0, 103.0, 67.0, 96.0, 125.0, 142.0, 133.0, 100.0, 10.0, 128.0, 93.0, 81.0, 82.0, 47.0, 95.0, 84.0, 91.0, 102.0, 100.0, 98.0, 110.0, 85.0, 66.0, 92.0, 133.0, 135.0, 120.0, 118.0, 110.0, 98.0, 98.0, 98.0, 104.0, 63.0, 52.0, 72.0, 117.0, 100.0, 24.0, 86.0, 69.0, 119.0, 123.0, 93.0, 109.0, 66.0, 107.0, 46.0, 117.0, 67.0, 114.0, 67.0, 77.0, 105.0, 63.0, 59.0, 102.0, 81.0, 84.0, 101.0, 116.0, 177.0, 130.0, 59.0, 111.0, 100.0, 77.0, 93.0, 114.0, 58.0, 56.0, 110.0, 98.0, 106.0, 102.0, 81.0, 98.0, 136.0, 161.0, 32.0, 105.0, 106.0, 90.0, 87.0, 91.0, 106.0, 65.0, 105.0, 40.0, 66.0, 61.0, 122.0, 141.0, 176.0, 73.0, 87.0, 15.0, 55.0, 141.0, 122.0, 109.0, 63.0, 96.0, 113.0, 69.0, 87.0, 116.0, 116.0, 110.0, 122.0, 59.0, 88.0, 91.0, 40.0, 113.0, 90.0, 95.0, 98.0, 61.0, 117.0, 60.0, 142.0, 74.0, 119.0, 114.0, 125.0, 71.0, 110.0, 127.0, 118.0, 90.0, 130.0, 12.0, 62.0, 3.0, 114.0, 128.0, 109.0, 109.0, 101.0, 103.0, 98.0, 123.0, 38.0, 101.0, 99.0, 91.0, 30.0, 30.0, 137.0, 66.0, 70.0, 87.0, 88.0, 90.0, 84.0, 53.0, 87.0, 90.0, 96.0, 94.0, 108.0, 102.0, 61.0, 94.0, 70.0, 88.0, 100.0, 111.0, 128.0, 98.0, 104.0, 126.0, 86.0, 125.0, 40.0, 79.0, 110.0, 128.0, 110.0, 116.0, 119.0, 90.0, 88.0, 104.0, 140.0, 92.0, 64.0, 119.0, 91.0, 122.0, 125.0, 49.0, 168.0, 98.0, 77.0, 102.0, 92.0, 111.0, 113.0, 54.0, 138.0, 123.0, 59.0, 102.0, 141.0, 95.0, 111.0, 131.0, 116.0, 119.0, 146.0, 101.0, 87.0, 94.0, 133.0, 135.0, 61.0, 91.0, 59.0, 91.0, 131.0, 170.0, 88.0, 170.0, 92.0, 59.0, 126.0, 120.0, 76.0, 60.0, 103.0, 124.0, 91.0, 88.0, 81.0, 124.0, 102.0, 132.0, 87.0, 75.0, 126.0, 61.0, 126.0, 108.0, 100.0, 129.0, 71.0, 108.0, 60.0, 105.0, 115.0, 118.0, 130.0, 115.0, 69.0, 97.0, 61.0, 92.0, 108.0, 104.0, 65.0, 106.0, 69.0, 97.0, 80.0, 85.0, 98.0, 115.0, 117.0, 132.0, 127.0, 125.0, 128.0, 126.0, 58.0, 116.0, 90.0, 111.0, 100.0, 99.0, 105.0, 128.0, 91.0, 127.0, 94.0, 124.0, 103.0, 118.0, 162.0, 89.0, 89.0, 108.0, 103.0, 87.0, 93.0, 90.0, 131.0, 114.0, 107.0, 97.0, 103.0, 125.0, 130.0, 119.0, 110.0, 120.0, 102.0, 125.0, 127.0, 121.0, 113.0, 118.0, 132.0, 61.0, 80.0, 110.0, 70.0, 117.0, 89.0, 84.0, 131.0, 139.0, 42.0, 79.0, 96.0, 114.0, 99.0, 111.0, 112.0, 96.0, 103.0, 104.0, 102.0, 97.0, 132.0, 120.0, 137.0, 82.0, 115.0, 130.0, 62.0, 26.0, 91.0, 63.0, 74.0, 136.0, 59.0, 91.0, 93.0, 84.0, 100.0, 51.0, 22.0, 22.0, 22.0, 24.0, 113.0, 110.0, 120.0, 56.0, 127.0, 74.0, 91.0, 137.0, 86.0, 106.0, 125.0, 114.0, 143.0, 121.0, 119.0, 150.0, 88.0, 105.0, 119.0, 96.0, 95.0, 98.0, 96.0, 96.0, 90.0, 97.0, 90.0, 88.0, 105.0, 127.0, 125.0, 116.0, 102.0, 65.0, 106.0, 117.0, 136.0, 104.0, 65.0, 91.0, 99.0, 91.0, 117.0, 95.0, 101.0, 102.0, 122.0, 95.0, 92.0, 111.0, 115.0, 61.0, 97.0, 120.0, 148.0, 48.0, 28.0, 34.0, 61.0, 56.0, 81.0, 68.0, 58.0, 100.0, 50.0, 49.0, 71.0, 29.0, 108.0, 125.0, 100.0, 30.0, 30.0, 146.0, 127.0, 46.0, 57.0, 122.0, 312.0, 109.0, 73.0, 96.0, 105.0, 124.0, 105.0, 78.0, 22.0, 95.0, 82.0, 89.0, 90.0, 85.0, 29.0, 137.0, 27.0, 112.0, 112.0, 153.0, 123.0, 90.0, 84.0, 78.0, 79.0, 73.0, 83.0, 83.0, 145.0, 135.0, 35.0, 68.0, 96.0, 110.0, 58.0, 105.0, 59.0, 28.0, 98.0, 63.0, 155.0, 122.0, 87.0, 73.0, 98.0, 130.0, 105.0, 110.0, 81.0, 115.0, 113.0, 146.0, 118.0, 109.0, 117.0, 23.0, 95.0, 124.0, 90.0, 96.0, 96.0, 93.0, 30.0, 82.0, 127.0, 114.0, 119.0, 101.0, 96.0, 44.0, 104.0, 91.0, 91.0, 114.0, 91.0, 64.0, 89.0, 95.0, 94.0, 133.0, 102.0, 122.0, 86.0, 111.0, 111.0, 136.0, 121.0, 119.0, 115.0, 128.0, 92.0, 99.0, 106.0, 122.0, 129.0, 90.0, 116.0, 59.0, 95.0, 122.0, 98.0, 117.0, 95.0, 146.0, 136.0, 91.0, 123.0, 144.0, 121.0, 91.0, 158.0, 157.0, 124.0, 106.0, 92.0, 80.0, 126.0, 129.0, 133.0, 109.0, 143.0, 140.0, 150.0, 128.0, 120.0, 154.0, 45.0, 132.0, 126.0, 95.0, 135.0, 139.0, 131.0, 118.0, 129.0, 131.0, 146.0, 123.0, 141.0, 93.0, 91.0, 106.0, 131.0, 95.0, 104.0, 126.0, 118.0, 94.0, 100.0, 126.0, 90.0, 87.0, 97.0, 115.0, 93.0, 138.0, 74.0, 102.0, 104.0, 51.0, 50.0, 86.0, 140.0, 122.0, 23.0, 95.0, 121.0, 131.0, 63.0, 150.0, 159.0, 131.0, 130.0, 99.0, 86.0, 106.0, 57.0, 97.0, 144.0, 110.0, 57.0, 119.0, 94.0, 89.0, 124.0, 25.0, 121.0, 88.0, 111.0, 81.0, 64.0, 55.0, 137.0, 56.0, 58.0, 80.0, 94.0, 94.0, 72.0, 60.0, 140.0, 91.0, 97.0, 146.0, 118.0, 128.0, 137.0, 145.0, 141.0, 106.0, 135.0, 137.0, 129.0, 99.0, 155.0, 142.0, 214.0, 137.0, 128.0, 151.0, 121.0, 101.0, 145.0, 147.0, 90.0, 129.0, 129.0, 136.0, 117.0, 150.0, 134.0, 100.0, 44.0, 44.0, 111.0, 147.0, 115.0, 121.0, 103.0, 73.0, 129.0, 102.0, 122.0, 155.0, 139.0, 131.0, 127.0, 156.0, 91.0, 132.0, 130.0, 137.0, 156.0, 132.0, 119.0, 140.0, 126.0, 107.0, 111.0, 130.0, 126.0, 24.0, 108.0, 117.0, 101.0, 124.0, 63.0, 114.0, 98.0, 100.0, 100.0, 123.0, 77.0, 106.0, 106.0, 102.0, 146.0, 96.0, 104.0, 109.0, 110.0, 110.0, 101.0, 94.0, 101.0, 141.0, 120.0, 140.0, 50.0, 57.0, 31.0, 90.0, 110.0, 162.0, 139.0, 130.0, 145.0, 33.0, 114.0, 100.0, 54.0, 150.0, 105.0, 124.0, 95.0, 12.0, 104.0, 143.0, 127.0, 100.0, 74.0, 104.0, 148.0, 127.0, 158.0, 124.0, 163.0, 121.0, 154.0, 127.0, 128.0, 98.0, 109.0, 168.0, 162.0, 159.0, 137.0, 133.0, 127.0, 131.0, 90.0, 88.0, 87.0, 82.0, 86.0, 100.0, 57.0, 95.0, 101.0, 124.0, 72.0, 93.0, 92.0, 95.0, 133.0, 85.0, 105.0, 101.0, 88.0, 113.0, 71.0, 75.0, 66.0, 83.0, 110.0, 88.0, 77.0, 58.0, 69.0, 61.0, 88.0, 122.0, 60.0, 166.0, 107.0, 94.0, 87.0, 92.0, 130.0, 88.0, 128.0, 96.0, 94.0, 69.0, 90.0, 101.0, 77.0, 89.0, 90.0, 98.0, 66.0, 103.0, 95.0, 89.0, 74.0, 119.0, 70.0, 121.0, 106.0, 74.0, 106.0, 113.0, 119.0, 100.0, 110.0, 66.0, 126.0, 130.0, 110.0, 85.0, 117.0, 63.0, 94.0, 74.0, 58.0, 117.0, 89.0, 66.0, 158.0, 100.0, 64.0, 92.0, 63.0, 105.0, 67.0, 91.0, 92.0, 87.0, 100.0, 113.0, 40.0, 105.0, 94.0, 109.0, 99.0, 89.0, 92.0, 105.0, 130.0, 69.0, 98.0, 90.0, 65.0, 92.0, 19.0, 25.0, 22.0, 40.0, 22.0, 24.0, 101.0, 90.0, 96.0, 115.0, 92.0, 93.0, 95.0, 105.0, 117.0, 66.0, 97.0, 78.0, 102.0, 62.0, 97.0, 105.0, 79.0, 90.0, 107.0, 105.0, 99.0, 108.0, 66.0, 75.0, 96.0, 95.0, 32.0, 70.0, 94.0, 78.0, 91.0, 75.0, 105.0, 96.0, 132.0, 60.0, 171.0, 116.0, 169.0, 134.0, 159.0, 87.0, 103.0, 78.0, 62.0, 97.0, 102.0, 95.0, 115.0, 102.0, 99.0, 74.0, 100.0, 150.0, 87.0, 88.0, 63.0, 129.0, 91.0, 115.0, 140.0, 79.0, 104.0, 121.0, 40.0, 94.0, 58.0, 78.0, 51.0, 69.0, 104.0, 59.0, 94.0, 166.0, 155.0, 145.0, 106.0, 94.0, 127.0, 87.0, 185.0, 75.0, 89.0, 81.0, 47.0, 46.0, 125.0, 160.0, 110.0, 69.0, 67.0, 105.0, 127.0, 109.0, 134.0, 60.0, 96.0, 65.0, 133.0, 96.0, 95.0, 24.0, 97.0, 65.0, 102.0, 53.0, 116.0, 102.0, 86.0, 117.0, 96.0, 69.0, 108.0, 102.0, 61.0, 57.0, 49.0, 87.0, 59.0, 63.0, 69.0, 62.0, 108.0, 95.0, 99.0, 62.0, 60.0, 147.0, 153.0, 87.0, 124.0, 94.0, 100.0, 71.0, 60.0, 135.0, 97.0, 86.0, 91.0, 82.0, 102.0, 105.0, 106.0, 91.0, 61.0, 80.0, 118.0, 94.0, 84.0, 103.0, 69.0, 105.0, 128.0, 86.0, 109.0, 70.0, 89.0, 162.0, 163.0, 91.0, 27.0, 67.0, 142.0, 78.0, 26.0, 46.0, 81.0, 119.0, 99.0, 96.0, 128.0, 114.0, 101.0, 109.0, 51.0, 61.0, 73.0, 92.0, 94.0, 135.0, 66.0, 126.0, 54.0, 100.0, 81.0, 123.0, 144.0, 153.0, 141.0, 104.0, 97.0, 82.0, 98.0, 84.0, 76.0, 75.0, 93.0, 98.0, 91.0, 168.0, 68.0, 103.0, 95.0, 82.0, 94.0, 66.0, 135.0, 144.0, 90.0, 158.0, 83.0, 102.0, 52.0, 110.0, 85.0, 113.0, 88.0, 89.0, 59.0, 106.0, 66.0, 135.0, 93.0, 79.0, 107.0, 47.0, 118.0, 81.0, 103.0, 40.0, 103.0, 85.0, 104.0, 82.0, 112.0, 102.0, 101.0, 119.0, 62.0, 64.0, 137.0, 108.0, 78.0, 40.0, 71.0, 99.0, 60.0, 78.0, 98.0, 70.0, 148.0, 54.0, 92.0, 107.0, 90.0, 135.0, 151.0, 132.0, 95.0, 162.0, 163.0, 89.0, 28.0, 103.0, 160.0, 113.0, 86.0, 83.0, 113.0, 86.0, 57.0, 98.0, 116.0, 100.0, 51.0, 113.0, 124.0, 63.0, 56.0, 94.0, 90.0, 71.0, 97.0, 83.0, 92.0, 165.0, 166.0, 166.0, 159.0, 160.0, 159.0, 22.0, 105.0, 54.0, 121.0, 103.0, 129.0, 95.0, 80.0, 67.0, 84.0, 97.0, 86.0, 114.0, 84.0, 67.0, 91.0, 63.0, 116.0, 104.0, 14.0, 89.0, 108.0, 59.0, 74.0, 84.0, 97.0, 95.0, 116.0, 86.0, 153.0, 104.0, 163.0, 106.0, 148.0, 105.0, 121.0, 66.0, 102.0, 96.0, 89.0, 161.0, 24.0, 66.0, 91.0, 92.0, 104.0, 73.0, 47.0, 102.0, 87.0, 117.0, 119.0, 130.0, 102.0, 154.0, 44.0, 96.0, 47.0, 44.0, 109.0, 89.0, 92.0, 122.0, 19.0, 154.0, 152.0, 161.0, 123.0, 44.0, 80.0, 71.0, 153.0, 79.0, 143.0, 123.0, 80.0, 73.0, 106.0, 101.0, 59.0, 164.0, 151.0, 84.0, 51.0, 142.0, 110.0, 86.0, 101.0, 88.0, 86.0, 61.0, 81.0, 72.0, 98.0, 64.0, 111.0, 148.0, 163.0, 95.0, 99.0, 44.0, 93.0, 89.0, 83.0, 104.0, 81.0, 53.0, 95.0, 149.0, 106.0, 108.0, 66.0, 113.0, 83.0, 50.0, 97.0, 105.0, 107.0, 99.0, 101.0, 81.0, 92.0, 131.0, 101.0, 96.0, 85.0, 110.0, 89.0, 0.0, 88.0, 88.0, 143.0, 83.0, 107.0, 99.0, 134.0, 78.0, 81.0, 106.0, 51.0, 102.0, 63.0, 91.0, 93.0, 93.0, 97.0, 92.0, 137.0, 143.0, 168.0, 117.0, 87.0, 160.0, 62.0, 109.0, 102.0, 118.0, 57.0, 94.0, 71.0, 123.0, 97.0, 99.0, 97.0, 67.0, 105.0, 78.0, 99.0, 119.0, 109.0, 107.0, 92.0, 88.0, 71.0, 64.0, 97.0, 96.0, 150.0, 54.0, 78.0, 86.0, 154.0, 179.0, 93.0, 97.0, 108.0, 92.0, 78.0, 87.0, 99.0, 91.0, 102.0, 67.0, 57.0, 130.0, 80.0, 66.0, 105.0, 98.0, 91.0, 123.0, 82.0, 104.0, 109.0, 74.0, 84.0, 98.0, 22.0, 100.0, 75.0, 69.0, 97.0, 92.0, 92.0, 146.0, 97.0, 93.0, 62.0, 22.0, 88.0, 105.0, 88.0, 93.0, 98.0, 88.0, 31.0, 83.0, 38.0, 108.0, 97.0, 81.0, 70.0, 62.0, 99.0, 112.0, 90.0, 56.0, 89.0, 24.0, 100.0, 116.0, 92.0, 79.0, 72.0, 92.0, 61.0, 88.0, 113.0, 67.0, 65.0, 62.0, 107.0, 69.0, 77.0, 98.0, 71.0, 64.0, 112.0, 59.0, 91.0, 44.0, 107.0, 92.0, 89.0, 107.0, 94.0, 110.0, 81.0, 77.0, 64.0, 97.0, 77.0, 94.0, 94.0, 91.0, 80.0, 95.0, 90.0, 101.0, 73.0, 108.0, 25.0, 86.0, 105.0, 100.0, 96.0, 97.0, 73.0, 44.0, 132.0, 96.0, 92.0, 99.0, 92.0, 99.0, 78.0, 65.0, 65.0, 69.0, 64.0, 63.0, 63.0, 89.0, 60.0, 0.0, 41.0, 83.0, 25.0, 94.0, 52.0, 75.0, 92.0, 80.0, 0.0, 46.0, 72.0, 71.0, 77.0, 70.0, 73.0, 81.0, 63.0, 45.0, 46.0, 112.0, 101.0, 117.0, 114.0, 96.0, 87.0, 105.0, 80.0, 97.0, 105.0, 60.0, 109.0, 60.0, 101.0, 91.0, 66.0, 127.0, 82.0, 70.0, 23.0, 97.0, 62.0, 84.0, 90.0, 101.0, 74.0, 68.0, 92.0, 107.0, 108.0, 74.0, 29.0, 60.0, 120.0, 74.0, 57.0, 91.0, 62.0, 85.0, 90.0, 105.0, 59.0, 137.0, 86.0, 99.0, 64.0, 82.0, 90.0, 80.0, 62.0, 92.0, 78.0, 92.0, 69.0, 103.0, 92.0, 143.0, 83.0, 78.0, 84.0, 84.0, 58.0, 82.0, 83.0, 29.0, 72.0, 26.0, 81.0, 75.0, 100.0, 90.0, 68.0, 71.0, 100.0, 94.0, 80.0, 35.0, 93.0, 105.0, 130.0, 100.0, 80.0, 76.0, 95.0, 96.0, 94.0, 94.0, 93.0, 96.0, 94.0, 94.0, 93.0, 95.0, 93.0, 75.0, 103.0, 29.0, 104.0, 81.0, 80.0, 123.0, 119.0, 118.0, 143.0, 149.0, 144.0, 124.0, 87.0, 128.0, 117.0, 100.0, 84.0, 90.0, 105.0, 106.0, 99.0, 93.0, 89.0, 105.0, 109.0, 93.0, 75.0, 90.0, 90.0, 93.0, 37.0, 113.0, 89.0, 102.0, 102.0, 90.0, 94.0, 91.0, 107.0, 95.0, 119.0, 93.0, 101.0, 93.0, 82.0, 70.0, 104.0, 121.0, 92.0, 124.0, 53.0, 91.0, 83.0, 93.0, 81.0, 86.0, 106.0, 97.0, 99.0, 100.0, 126.0, 94.0, 103.0, 96.0, 137.0, 104.0, 104.0, 94.0, 176.0, 137.0, 101.0, 111.0, 110.0, 142.0, 86.0, 93.0, 86.0, 80.0, 92.0, 96.0, 87.0, 98.0, 125.0, 91.0, 76.0, 82.0, 111.0, 92.0, 94.0, 91.0, 44.0, 108.0, 123.0, 106.0, 89.0, 98.0, 108.0, 92.0, 102.0, 103.0, 91.0, 110.0, 77.0, 99.0, 122.0, 150.0, 126.0, 164.0, 115.0, 133.0, 127.0, 100.0, 131.0, 44.0, 101.0, 90.0, 89.0, 88.0, 133.0, 110.0, 112.0, 87.0, 91.0, 111.0, 99.0, 86.0, 93.0, 87.0, 107.0, 89.0, 92.0, 122.0, 91.0, 127.0, 153.0, 94.0, 106.0, 102.0, 112.0, 63.0, 90.0, 89.0, 101.0, 85.0, 83.0, 92.0, 84.0, 91.0, 100.0, 103.0, 103.0, 45.0, 45.0, 90.0, 98.0, 92.0, 172.0, 125.0, 81.0, 112.0, 122.0, 101.0, 53.0, 53.0, 99.0, 95.0, 119.0, 163.0, 55.0, 102.0, 106.0, 128.0, 80.0, 80.0, 75.0, 75.0, 79.0, 87.0, 97.0, 85.0, 111.0, 113.0, 90.0, 103.0, 105.0, 104.0, 127.0, 92.0, 72.0, 118.0, 110.0, 65.0, 90.0, 134.0, 89.0, 86.0, 87.0, 107.0, 79.0, 87.0, 113.0, 110.0, 98.0, 93.0, 139.0, 94.0, 133.0, 81.0, 91.0, 122.0, 102.0, 88.0, 49.0, 110.0, 150.0, 97.0, 129.0, 99.0, 112.0, 143.0, 61.0, 95.0, 92.0, 97.0, 90.0, 119.0, 147.0, 83.0, 83.0, 91.0, 117.0, 78.0, 75.0, 78.0, 149.0, 103.0, 94.0, 95.0, 122.0, 107.0, 126.0, 122.0, 95.0, 101.0, 74.0, 74.0, 74.0, 83.0, 79.0, 72.0, 80.0, 75.0, 75.0, 72.0, 99.0, 91.0, 166.0, 103.0, 128.0, 87.0, 125.0, 121.0, 110.0, 88.0, 52.0, 89.0, 52.0, 81.0, 73.0, 75.0, 99.0, 121.0, 100.0, 97.0, 105.0, 100.0, 115.0, 99.0, 91.0, 90.0, 100.0, 25.0, 99.0, 120.0, 98.0, 104.0, 149.0, 112.0, 98.0, 120.0, 151.0, 63.0, 148.0, 114.0, 123.0, 87.0, 93.0, 88.0, 126.0, 90.0, 95.0, 108.0, 65.0, 110.0, 66.0, 127.0, 131.0, 88.0, 97.0, 116.0, 117.0, 79.0, 144.0, 79.0, 135.0, 88.0, 116.0, 91.0, 83.0, 90.0, 129.0, 120.0, 91.0, 85.0, 88.0, 123.0, 180.0, 98.0, 90.0, 90.0, 94.0, 112.0, 85.0, 97.0, 47.0, 99.0, 168.0, 99.0, 106.0, 92.0, 99.0, 89.0, 88.0, 111.0, 79.0, 86.0, 74.0, 84.0, 80.0, 86.0, 90.0, 102.0, 92.0, 81.0, 116.0, 110.0, 95.0, 133.0, 120.0, 91.0, 90.0, 90.0, 103.0, 73.0, 98.0, 119.0, 76.0, 148.0, 94.0, 108.0, 114.0, 98.0, 151.0, 78.0, 125.0, 126.0, 11.0, 22.0, 104.0, 104.0, 117.0, 101.0, 99.0, 103.0, 126.0, 92.0, 131.0, 119.0, 98.0, 85.0, 84.0, 145.0, 125.0, 108.0, 108.0, 74.0, 82.0, 75.0, 77.0, 156.0, 116.0, 126.0, 129.0, 132.0, 118.0, 87.0, 95.0, 86.0, 106.0, 115.0, 106.0, 94.0, 121.0, 113.0, 129.0, 99.0, 116.0, 88.0, 63.0, 62.0, 62.0, 112.0, 113.0, 82.0, 98.0, 87.0, 111.0, 63.0, 105.0, 146.0, 96.0, 80.0, 99.0, 87.0, 88.0, 99.0, 104.0, 104.0, 118.0, 127.0, 109.0, 130.0, 110.0, 88.0, 106.0, 91.0, 103.0, 89.0, 108.0, 124.0, 96.0, 172.0, 124.0, 85.0, 137.0, 91.0, 120.0, 118.0, 110.0, 114.0, 112.0, 92.0, 137.0, 84.0, 52.0, 96.0, 112.0, 90.0, 106.0, 116.0, 97.0, 127.0, 96.0, 45.0, 101.0, 88.0, 75.0, 112.0, 110.0, 120.0, 90.0, 82.0, 118.0, 153.0, 117.0, 93.0, 82.0, 115.0, 151.0, 103.0, 117.0, 100.0, 70.0, 103.0, 108.0, 100.0, 91.0, 93.0, 113.0, 116.0, 121.0, 112.0, 76.0, 81.0, 110.0, 90.0, 97.0, 86.0, 94.0, 83.0, 43.0, 92.0, 93.0, 88.0, 53.0, 156.0, 79.0, 96.0, 99.0, 140.0, 62.0, 88.0, 76.0, 99.0, 97.0, 87.0, 108.0, 94.0, 123.0, 128.0, 132.0, 93.0, 113.0, 96.0, 133.0, 176.0, 115.0, 90.0, 111.0, 87.0, 112.0, 200.0, 93.0, 90.0, 107.0, 89.0, 83.0, 96.0, 99.0, 95.0, 88.0, 94.0, 93.0, 93.0, 92.0, 127.0, 105.0, 94.0, 104.0, 94.0, 82.0, 86.0, 103.0, 97.0, 84.0, 98.0, 68.0, 42.0, 92.0, 89.0, 99.0, 93.0, 162.0, 85.0, 52.0, 91.0, 106.0, 92.0, 140.0, 69.0, 153.0, 124.0, 120.0, 134.0, 105.0, 119.0, 106.0, 79.0, 196.0, 90.0, 109.0, 93.0, 92.0, 49.0, 102.0, 82.0, 74.0, 94.0, 87.0, 108.0, 151.0, 109.0, 91.0, 93.0, 85.0, 103.0, 102.0, 107.0, 88.0, 95.0, 100.0, 91.0, 110.0, 96.0, 96.0, 98.0, 133.0, 102.0, 108.0, 133.0, 58.0, 79.0, 101.0, 81.0, 99.0, 106.0, 103.0, 92.0, 89.0, 150.0, 80.0, 124.0, 99.0, 29.0, 91.0, 102.0, 94.0, 118.0, 70.0, 181.0, 101.0, 29.0, 92.0, 94.0, 118.0, 98.0, 90.0, 93.0, 114.0, 99.0, 96.0, 102.0, 90.0, 49.0, 61.0, 60.0, 104.0, 119.0, 102.0, 83.0, 88.0, 86.0, 90.0, 134.0, 92.0, 145.0, 95.0, 93.0, 84.0, 81.0, 98.0, 74.0, 87.0, 96.0, 88.0, 118.0, 113.0, 86.0, 91.0, 115.0, 112.0, 103.0, 116.0, 72.0, 104.0, 97.0, 92.0, 93.0, 93.0, 99.0, 47.0, 52.0, 97.0, 88.0, 106.0, 97.0, 88.0, 88.0, 132.0, 108.0, 111.0, 167.0, 96.0, 95.0, 107.0, 118.0, 130.0, 90.0, 87.0, 109.0, 103.0, 110.0, 85.0, 163.0, 100.0, 58.0, 110.0, 58.0, 56.0, 161.0, 141.0, 115.0, 90.0, 103.0, 77.0, 111.0, 103.0, 129.0, 113.0, 106.0, 105.0, 137.0, 22.0, 130.0, 89.0, 110.0, 148.0, 100.0, 90.0, 103.0, 75.0, 99.0, 93.0, 90.0, 145.0, 95.0, 92.0, 90.0, 137.0, 98.0, 109.0, 117.0, 93.0, 57.0, 110.0, 95.0, 102.0, 97.0, 82.0, 90.0, 57.0, 91.0, 100.0, 101.0, 138.0, 95.0, 116.0, 117.0, 65.0, 158.0, 110.0, 79.0, 99.0, 86.0, 138.0, 91.0, 79.0, 79.0, 96.0, 55.0, 101.0, 88.0, 95.0, 87.0, 83.0, 90.0, 151.0, 89.0, 99.0, 86.0, 85.0, 93.0, 89.0, 89.0, 90.0, 104.0, 107.0, 124.0, 87.0, 94.0, 86.0, 102.0, 122.0, 126.0, 87.0, 156.0, 97.0, 89.0, 88.0, 96.0, 104.0, 80.0, 95.0, 97.0, 118.0, 118.0, 44.0, 54.0, 170.0, 118.0, 128.0, 106.0, 103.0, 92.0, 102.0, 126.0, 73.0, 111.0, 100.0, 86.0, 95.0, 79.0, 81.0, 120.0, 85.0, 96.0, 91.0, 134.0, 93.0, 82.0, 88.0, 96.0, 97.0, 101.0, 88.0, 84.0, 110.0, 105.0, 116.0, 94.0, 110.0, 116.0, 51.0, 103.0, 83.0, 176.0, 149.0, 79.0, 97.0, 91.0, 85.0, 85.0, 117.0, 84.0, 106.0, 107.0, 98.0, 54.0, 139.0, 88.0, 93.0, 91.0, 89.0, 106.0, 116.0, 100.0, 96.0, 119.0, 108.0, 104.0, 124.0, 87.0, 75.0, 108.0, 103.0, 103.0, 89.0, 103.0, 89.0, 119.0, 106.0, 90.0, 118.0, 95.0, 123.0, 127.0, 116.0, 119.0, 99.0, 90.0, 90.0, 153.0, 106.0, 141.0, 122.0, 87.0, 102.0, 88.0, 99.0, 99.0, 134.0, 91.0, 88.0, 127.0, 137.0, 77.0, 71.0, 130.0, 140.0, 101.0, 101.0, 91.0, 84.0, 88.0, 68.0, 163.0, 93.0, 86.0, 154.0, 92.0, 132.0, 22.0, 132.0, 94.0, 132.0, 105.0, 97.0, 109.0, 134.0, 53.0, 84.0, 102.0, 79.0, 181.0, 90.0, 79.0, 133.0, 125.0, 80.0, 101.0, 135.0, 133.0, 91.0, 52.0, 123.0, 113.0, 107.0, 128.0, 94.0, 95.0, 106.0, 138.0, 139.0, 132.0, 173.0, 105.0, 148.0, 120.0, 85.0, 113.0, 99.0, 41.0, 110.0, 137.0, 118.0, 140.0, 85.0, 116.0, 133.0, 89.0, 75.0, 67.0, 90.0, 170.0, 124.0, 120.0, 157.0, 124.0, 110.0, 90.0, 97.0, 108.0, 95.0, 111.0, 137.0, 100.0, 53.0, 87.0, 106.0, 86.0, 100.0, 103.0, 109.0, 81.0, 98.0, 114.0, 87.0, 132.0, 116.0, 92.0, 99.0, 63.0, 121.0, 56.0, 96.0, 115.0, 117.0, 58.0, 62.0, 65.0, 61.0, 65.0, 65.0, 58.0, 60.0, 81.0, 85.0, 93.0, 126.0, 99.0, 79.0, 26.0, 107.0, 133.0, 95.0, 100.0, 149.0, 52.0, 165.0, 104.0, 114.0, 109.0, 88.0, 143.0, 112.0, 101.0, 110.0, 83.0, 145.0, 87.0, 86.0, 115.0, 93.0, 121.0, 54.0, 100.0, 37.0, 33.0, 35.0, 32.0, 147.0, 110.0, 97.0, 108.0, 101.0, 100.0, 48.0, 44.0, 78.0, 103.0, 58.0, 90.0, 89.0, 83.0, 84.0, 104.0, 99.0, 105.0, 94.0, 150.0, 111.0, 116.0, 92.0, 23.0, 25.0, 85.0, 90.0, 68.0, 67.0, 66.0, 91.0, 87.0, 98.0, 108.0, 85.0, 95.0, 103.0, 118.0, 153.0, 96.0, 88.0, 116.0, 155.0, 88.0, 92.0, 98.0, 103.0, 163.0, 93.0, 77.0, 97.0, 115.0, 103.0, 82.0, 77.0, 79.0, 98.0, 131.0, 110.0, 100.0, 117.0, 107.0, 76.0, 118.0, 93.0, 99.0, 84.0, 102.0, 134.0, 78.0, 95.0, 73.0, 110.0, 75.0, 119.0, 92.0, 137.0, 192.0, 132.0, 91.0, 105.0, 88.0, 155.0, 103.0, 97.0, 92.0, 98.0, 89.0, 112.0, 75.0, 89.0, 99.0, 107.0, 29.0, 94.0, 90.0, 104.0, 55.0, 83.0, 77.0, 72.0, 103.0, 131.0, 138.0, 143.0, 80.0, 132.0, 84.0, 99.0, 93.0, 114.0, 100.0, 132.0, 83.0, 105.0, 112.0, 94.0, 90.0, 48.0, 110.0, 84.0, 118.0, 86.0, 98.0, 88.0, 81.0, 112.0, 106.0, 148.0, 105.0, 92.0, 112.0, 128.0, 128.0, 136.0, 106.0, 129.0, 90.0, 130.0, 85.0, 90.0, 94.0, 86.0, 100.0, 107.0, 93.0, 109.0, 109.0, 92.0, 93.0, 100.0, 141.0, 119.0, 84.0, 96.0, 83.0, 117.0, 93.0, 73.0, 72.0, 46.0, 74.0, 46.0, 46.0, 74.0, 71.0, 72.0, 76.0, 23.0, 60.0, 46.0, 101.0, 97.0, 111.0, 96.0, 135.0, 91.0, 84.0, 121.0, 109.0, 74.0, 94.0, 105.0, 97.0, 102.0, 86.0, 88.0, 90.0, 131.0, 158.0, 85.0, 110.0, 79.0, 185.0, 80.0, 116.0, 95.0, 99.0, 77.0, 91.0, 115.0, 68.0, 72.0, 73.0, 104.0, 90.0, 99.0, 109.0, 108.0, 99.0, 99.0, 88.0, 92.0, 73.0, 85.0, 91.0, 171.0, 80.0, 102.0, 76.0, 92.0, 82.0, 42.0, 131.0, 165.0, 91.0, 101.0, 53.0, 59.0, 108.0, 89.0, 91.0, 84.0, 96.0, 124.0, 87.0, 113.0, 118.0, 97.0, 161.0, 116.0, 104.0, 89.0, 92.0, 90.0, 50.0, 53.0, 113.0, 53.0, 54.0, 53.0, 54.0, 113.0, 53.0, 53.0, 53.0, 54.0, 54.0, 52.0, 54.0, 54.0, 53.0, 53.0, 53.0, 113.0, 53.0, 86.0, 102.0, 114.0, 99.0, 55.0, 91.0, 117.0, 124.0, 122.0, 84.0, 84.0, 120.0, 127.0, 122.0, 125.0, 107.0, 91.0, 103.0, 103.0, 106.0, 102.0, 97.0, 89.0, 92.0, 107.0, 86.0, 70.0, 66.0, 72.0, 111.0, 166.0, 135.0, 92.0, 87.0, 92.0, 89.0, 93.0, 90.0, 76.0, 86.0, 111.0, 124.0, 93.0, 139.0, 91.0, 86.0, 122.0, 96.0, 88.0, 93.0, 90.0, 103.0, 102.0, 105.0, 117.0, 126.0, 89.0, 82.0, 82.0, 98.0, 96.0, 108.0, 91.0, 163.0, 112.0, 137.0, 89.0, 86.0, 187.0, 109.0, 77.0, 84.0, 140.0, 68.0, 117.0, 105.0, 91.0, 104.0, 114.0, 112.0, 48.0, 95.0, 89.0, 108.0, 72.0, 109.0, 105.0, 92.0, 95.0, 108.0, 85.0, 126.0, 118.0, 125.0, 112.0, 96.0, 81.0, 81.0, 92.0, 127.0, 81.0, 133.0, 81.0, 108.0, 120.0, 149.0, 92.0, 96.0, 114.0, 77.0, 90.0, 24.0, 46.0, 24.0, 55.0, 24.0, 23.0, 24.0, 24.0, 106.0, 52.0, 127.0, 86.0, 131.0, 93.0, 97.0, 84.0, 83.0, 165.0, 154.0, 158.0, 89.0, 149.0, 96.0, 106.0, 128.0, 98.0, 99.0, 113.0, 71.0, 83.0, 129.0, 117.0, 93.0, 124.0, 177.0, 104.0, 113.0, 178.0, 90.0, 154.0, 122.0, 115.0, 126.0, 88.0, 99.0, 144.0, 111.0, 73.0, 81.0, 114.0, 112.0, 80.0, 24.0, 100.0, 96.0, 88.0, 95.0, 112.0, 112.0, 97.0, 97.0, 94.0, 97.0, 118.0, 95.0, 120.0, 84.0, 101.0, 103.0, 83.0, 107.0, 136.0, 96.0, 45.0, 92.0, 120.0, 119.0, 100.0, 92.0, 104.0, 93.0, 98.0, 80.0, 79.0, 122.0, 118.0, 89.0, 26.0, 62.0, 137.0, 121.0, 103.0, 92.0, 89.0, 97.0, 134.0, 116.0, 110.0, 88.0, 93.0, 72.0, 141.0, 82.0, 117.0, 118.0, 91.0, 105.0, 94.0, 137.0, 61.0, 86.0, 118.0, 173.0, 152.0, 99.0, 110.0, 116.0, 107.0, 109.0, 65.0, 32.0, 122.0, 228.0, 86.0, 72.0, 102.0, 140.0, 145.0, 126.0, 133.0, 141.0, 78.0, 150.0, 153.0, 83.0, 95.0, 93.0, 126.0, 95.0, 99.0, 93.0, 93.0, 88.0, 88.0, 195.0, 120.0, 77.0, 112.0, 121.0, 117.0, 90.0, 110.0, 86.0, 95.0, 101.0, 111.0, 54.0, 54.0, 54.0, 55.0, 54.0, 55.0, 55.0, 55.0, 55.0, 55.0, 102.0, 106.0, 69.0, 85.0, 146.0, 145.0, 103.0, 111.0, 125.0, 115.0, 168.0, 109.0, 148.0, 92.0, 91.0, 135.0, 71.0, 112.0, 128.0, 168.0, 45.0, 75.0, 71.0, 122.0, 97.0, 89.0, 98.0, 115.0, 96.0, 119.0, 105.0, 88.0, 94.0, 77.0, 143.0, 127.0, 92.0, 87.0, 83.0, 95.0, 96.0, 107.0, 100.0, 49.0, 94.0, 101.0, 89.0, 135.0, 107.0, 84.0, 110.0, 95.0, 66.0, 83.0, 86.0, 137.0, 87.0, 142.0, 94.0, 135.0, 135.0, 104.0, 97.0, 128.0, 109.0, 73.0, 106.0, 94.0, 85.0, 98.0, 96.0, 75.0, 139.0, 117.0, 95.0, 129.0, 94.0, 112.0, 88.0, 100.0, 83.0, 93.0, 103.0, 88.0, 86.0, 88.0, 152.0, 106.0, 52.0, 98.0, 89.0, 86.0, 106.0, 100.0, 91.0, 113.0, 100.0, 132.0, 96.0, 96.0, 113.0, 95.0, 85.0, 106.0, 117.0, 123.0, 78.0, 95.0, 135.0, 130.0, 115.0, 114.0, 107.0, 93.0, 94.0, 85.0, 63.0, 104.0, 127.0, 113.0, 91.0, 154.0, 82.0, 98.0, 103.0, 86.0, 92.0, 123.0, 116.0, 93.0, 97.0, 108.0, 101.0, 177.0, 95.0, 97.0, 111.0, 81.0, 89.0, 72.0, 112.0, 48.0, 81.0, 137.0, 89.0, 87.0, 88.0, 94.0, 125.0, 67.0, 108.0, 102.0, 109.0, 115.0, 98.0, 84.0, 133.0, 121.0, 100.0, 117.0, 78.0, 87.0, 88.0, 93.0, 107.0, 99.0, 140.0, 113.0, 89.0, 97.0, 97.0, 108.0, 80.0, 90.0, 117.0, 95.0, 86.0, 100.0, 87.0, 101.0, 83.0, 89.0, 18.0, 72.0, 95.0, 95.0, 98.0, 59.0, 118.0, 98.0, 111.0, 116.0, 97.0, 95.0, 122.0, 95.0, 93.0, 107.0, 119.0, 119.0, 97.0, 96.0, 103.0, 96.0, 106.0, 109.0, 112.0, 96.0, 60.0, 113.0, 126.0, 109.0, 93.0, 101.0, 111.0, 107.0, 100.0, 92.0, 103.0, 105.0, 103.0, 101.0, 123.0, 114.0, 101.0, 99.0, 102.0, 66.0, 112.0, 101.0, 99.0, 105.0, 93.0, 121.0, 75.0, 95.0, 100.0, 151.0, 78.0, 85.0, 69.0, 84.0, 88.0, 86.0, 121.0, 99.0, 110.0, 104.0, 95.0, 96.0, 106.0, 112.0, 85.0, 107.0, 76.0, 95.0, 88.0, 116.0, 121.0, 82.0, 87.0, 46.0, 103.0, 97.0, 91.0, 91.0, 101.0, 104.0, 92.0, 113.0, 89.0, 115.0, 84.0, 106.0, 124.0, 83.0, 107.0, 158.0, 95.0, 97.0, 97.0, 89.0, 161.0, 205.0, 123.0, 190.0, 136.0, 161.0, 133.0, 119.0, 94.0, 85.0, 108.0, 71.0, 147.0, 88.0, 99.0, 96.0, 97.0, 92.0, 79.0, 53.0, 94.0, 123.0, 103.0, 111.0, 123.0, 100.0, 75.0, 118.0, 96.0, 108.0, 99.0, 103.0, 99.0, 100.0, 105.0, 52.0, 106.0, 90.0, 95.0, 118.0, 98.0, 86.0, 84.0, 93.0, 88.0, 131.0, 44.0, 96.0, 70.0, 88.0, 87.0, 118.0, 89.0, 85.0, 107.0, 138.0, 119.0, 93.0, 87.0, 121.0, 95.0, 103.0, 201.0, 179.0, 87.0, 98.0, 82.0, 85.0, 90.0, 68.0, 138.0, 136.0, 138.0, 129.0, 116.0, 130.0, 40.0, 94.0, 104.0, 91.0, 70.0, 104.0, 115.0, 85.0, 85.0, 138.0, 40.0, 82.0, 90.0, 99.0, 91.0, 106.0, 108.0, 94.0, 87.0, 124.0, 141.0, 93.0, 103.0, 141.0, 155.0, 93.0, 78.0, 118.0, 88.0, 140.0, 124.0, 110.0, 100.0, 96.0, 116.0, 91.0, 111.0, 98.0, 125.0, 76.0, 117.0, 90.0, 119.0, 136.0, 52.0, 81.0, 77.0, 120.0, 102.0, 90.0, 90.0, 92.0, 93.0, 116.0, 107.0, 87.0, 111.0, 101.0, 91.0, 103.0, 120.0, 90.0, 92.0, 99.0, 124.0, 111.0, 32.0, 86.0, 104.0, 123.0, 105.0, 97.0, 97.0, 90.0, 163.0, 121.0, 120.0, 95.0, 84.0, 94.0, 94.0, 122.0, 90.0, 91.0, 89.0, 98.0, 106.0, 139.0, 83.0, 96.0, 94.0, 58.0, 96.0, 107.0, 104.0, 94.0, 108.0, 91.0, 58.0, 99.0, 96.0, 93.0, 106.0, 103.0, 91.0, 98.0, 111.0, 112.0, 90.0, 101.0, 98.0, 92.0, 88.0, 47.0, 100.0, 114.0, 128.0, 53.0, 89.0, 83.0, 85.0, 94.0, 104.0, 89.0, 86.0, 107.0, 77.0, 123.0, 122.0, 131.0, 77.0, 125.0, 125.0, 88.0, 96.0, 93.0, 42.0, 108.0, 151.0, 125.0, 78.0, 97.0, 84.0, 108.0, 89.0, 60.0, 119.0, 87.0, 104.0, 94.0, 94.0, 130.0, 88.0, 118.0, 94.0, 114.0, 119.0, 114.0, 94.0, 82.0, 82.0, 96.0, 100.0, 104.0, 101.0, 99.0, 98.0, 100.0, 134.0, 173.0, 113.0, 91.0, 110.0, 90.0, 128.0, 108.0, 124.0, 89.0, 162.0, 76.0, 96.0, 102.0, 53.0, 86.0, 89.0, 80.0, 95.0, 78.0, 90.0, 125.0, 94.0, 90.0, 104.0, 40.0, 108.0, 94.0, 61.0, 94.0, 105.0, 83.0, 110.0, 121.0, 95.0, 130.0, 132.0, 90.0, 117.0, 130.0, 78.0, 106.0, 110.0, 91.0, 113.0, 101.0, 125.0, 116.0, 106.0, 113.0, 99.0, 130.0, 120.0, 94.0, 94.0, 109.0, 94.0, 96.0, 103.0, 109.0, 147.0, 98.0, 73.0, 92.0, 78.0, 68.0, 96.0, 83.0, 91.0, 93.0, 38.0, 94.0, 91.0, 95.0, 124.0, 73.0, 108.0, 84.0, 93.0, 96.0, 102.0, 130.0, 52.0, 91.0, 110.0, 75.0, 103.0, 89.0, 86.0, 97.0, 89.0, 91.0, 78.0, 90.0, 50.0, 84.0, 82.0, 106.0, 105.0, 105.0, 100.0, 85.0, 86.0, 100.0, 106.0, 108.0, 74.0, 109.0, 97.0, 129.0, 49.0, 93.0, 133.0, 140.0, 45.0, 191.0, 81.0, 124.0, 101.0, 106.0, 137.0, 171.0, 132.0, 147.0, 151.0, 97.0, 90.0, 111.0, 112.0, 107.0, 96.0, 88.0, 78.0, 87.0, 85.0, 157.0, 116.0, 113.0, 94.0, 81.0, 88.0, 98.0, 131.0, 120.0, 96.0, 158.0, 88.0, 88.0, 111.0], \"xaxis\": \"x\", \"y\": [\"a\", \"a\", \"a\", \"a\", \"a\", \"a\", \"a\", \"a\", \"a\", \"a\", \"a\", \"a\", \"a\", \"a\", \"a\", \"a\", \"a\", \"a\", \"a\", \"a\", \"a\", \"a\", \"a\", \"a\", \"a\", \"a\", \"a\", \"a\", \"a\", \"a\", \"a\", \"a\", \"a\", \"a\", \"a\", \"a\", \"a\", \"a\", \"a\", \"a\", \"a\", \"a\", \"a\", \"a\", \"a\", \"a\", \"a\", \"a\", \"a\", \"a\", \"a\", \"a\", \"a\", \"a\", \"a\", \"a\", \"a\", \"a\", \"a\", \"a\", \"a\", \"a\", \"a\", \"a\", \"a\", \"a\", \"a\", \"a\", \"a\", \"a\", \"a\", \"a\", \"a\", \"a\", \"a\", \"a\", \"a\", \"a\", \"a\", \"a\", \"a\", \"a\", \"a\", \"a\", \"a\", \"a\", \"a\", \"a\", \"a\", \"a\", \"a\", \"a\", \"a\", \"a\", \"a\", \"a\", \"a\", \"a\", \"a\", \"a\", \"a\", \"a\", \"a\", \"a\", \"a\", \"a\", \"a\", \"a\", \"a\", \"a\", \"a\", \"a\", \"a\", \"a\", \"a\", \"a\", \"a\", \"a\", \"a\", \"a\", \"a\", \"a\", \"a\", \"a\", \"a\", \"a\", \"a\", \"a\", \"a\", \"a\", \"a\", \"a\", \"a\", \"a\", \"a\", \"a\", \"a\", \"a\", \"a\", \"a\", \"a\", \"a\", \"a\", \"a\", \"a\", \"a\", \"a\", \"a\", \"a\", \"a\", \"a\", \"a\", \"a\", \"a\", \"a\", \"a\", \"a\", \"a\", \"a\", \"a\", \"a\", \"a\", \"a\", \"a\", \"a\", \"a\", \"a\", \"a\", \"a\", \"a\", \"a\", \"a\", \"a\", \"a\", \"a\", \"a\", \"a\", \"a\", \"a\", \"a\", \"a\", \"a\", \"a\", \"a\", \"a\", \"a\", \"a\", \"a\", \"a\", \"a\", \"a\", \"a\", \"a\", \"a\", \"a\", \"a\", \"a\", \"a\", \"a\", \"a\", \"a\", \"a\", \"a\", \"a\", \"a\", \"a\", \"a\", \"a\", \"a\", \"a\", \"a\", \"a\", \"a\", \"a\", \"a\", \"a\", \"a\", \"a\", \"a\", \"a\", \"a\", \"a\", \"a\", \"a\", \"a\", \"a\", \"a\", \"a\", \"a\", \"a\", \"a\", \"a\", \"a\", \"a\", \"a\", \"a\", \"a\", \"a\", \"a\", \"a\", \"a\", \"a\", \"a\", \"a\", \"a\", \"a\", \"a\", \"a\", \"a\", \"a\", \"a\", \"a\", \"a\", \"a\", \"a\", \"a\", \"a\", \"a\", \"a\", \"a\", \"a\", \"a\", \"a\", \"a\", \"a\", \"a\", \"a\", \"a\", \"a\", \"a\", \"a\", \"a\", \"a\", \"a\", \"a\", \"a\", \"a\", \"a\", \"a\", \"a\", \"a\", \"a\", \"a\", \"a\", \"a\", \"a\", \"a\", \"a\", \"a\", \"a\", \"a\", \"a\", \"a\", \"a\", \"a\", \"a\", \"a\", \"a\", \"a\", \"a\", \"a\", \"a\", \"a\", \"a\", \"a\", \"a\", \"a\", \"a\", \"a\", \"a\", \"a\", \"a\", \"a\", \"a\", \"a\", \"a\", \"a\", \"a\", \"a\", \"a\", \"a\", \"a\", \"a\", \"a\", \"a\", \"a\", \"a\", \"a\", \"a\", \"a\", \"a\", \"a\", \"a\", \"a\", \"a\", \"a\", \"a\", \"a\", \"a\", \"a\", \"a\", \"a\", \"a\", \"a\", \"a\", \"a\", \"a\", \"a\", \"a\", \"a\", \"a\", \"a\", \"a\", \"a\", \"a\", \"a\", \"a\", \"a\", \"a\", \"a\", \"a\", \"a\", \"a\", \"a\", \"a\", \"a\", \"a\", \"a\", \"a\", \"a\", \"a\", \"a\", \"a\", \"a\", \"a\", \"a\", \"a\", \"a\", \"a\", \"a\", \"a\", \"a\", \"a\", \"a\", \"a\", \"a\", \"a\", \"a\", \"a\", \"a\", \"a\", \"a\", \"a\", \"a\", \"a\", \"a\", \"a\", \"a\", \"a\", \"a\", \"a\", \"a\", \"a\", \"a\", \"a\", \"a\", \"a\", \"a\", \"a\", \"a\", \"a\", \"a\", \"a\", \"a\", \"a\", \"a\", \"a\", \"a\", \"a\", \"a\", \"a\", \"a\", \"a\", \"a\", \"a\", \"a\", \"a\", \"a\", \"a\", \"a\", \"a\", \"a\", \"a\", \"a\", \"a\", \"a\", \"a\", \"a\", \"a\", \"a\", \"a\", \"a\", \"a\", \"a\", \"a\", \"a\", \"a\", \"a\", \"a\", \"a\", \"a\", \"a\", \"a\", \"a\", \"a\", \"a\", \"a\", \"a\", \"a\", \"a\", \"a\", \"a\", \"a\", \"a\", \"a\", \"a\", \"a\", \"a\", \"a\", \"a\", \"a\", \"a\", \"a\", \"a\", \"a\", \"a\", \"a\", \"a\", \"a\", \"a\", \"a\", \"a\", \"a\", \"a\", \"a\", \"a\", \"a\", \"a\", \"a\", \"a\", \"a\", \"a\", \"a\", \"a\", \"a\", \"a\", \"a\", \"a\", \"a\", \"a\", \"a\", \"a\", \"a\", \"a\", \"a\", \"a\", \"a\", \"a\", \"a\", \"a\", \"a\", \"a\", \"a\", \"a\", \"a\", \"a\", \"a\", \"a\", \"a\", \"a\", \"a\", \"a\", \"a\", \"a\", \"a\", \"a\", \"a\", \"a\", \"a\", \"a\", \"a\", \"a\", \"a\", \"a\", \"a\", \"a\", \"a\", \"a\", \"a\", \"a\", \"a\", \"a\", \"a\", \"a\", \"a\", \"a\", \"a\", \"a\", \"a\", \"a\", \"a\", \"a\", \"a\", \"a\", \"a\", \"a\", \"a\", \"a\", \"a\", \"a\", \"a\", \"a\", \"a\", \"a\", \"a\", \"a\", \"a\", \"a\", \"a\", \"a\", \"a\", \"a\", \"a\", \"a\", \"a\", \"a\", \"a\", \"a\", \"a\", \"a\", \"a\", \"a\", \"a\", \"a\", \"a\", \"a\", \"a\", \"a\", \"a\", \"a\", \"a\", \"a\", \"a\", \"a\", \"a\", \"a\", \"a\", \"a\", \"a\", \"a\", \"a\", \"a\", \"a\", \"a\", \"a\", \"a\", \"a\", \"a\", \"a\", \"a\", \"a\", \"a\", \"a\", \"a\", \"a\", \"a\", \"a\", \"a\", \"a\", \"a\", \"a\", \"a\", \"a\", \"a\", \"a\", \"a\", \"a\", \"a\", \"a\", \"a\", \"a\", \"a\", \"a\", \"a\", \"a\", \"a\", \"a\", \"a\", \"a\", \"a\", \"a\", \"a\", \"a\", \"a\", \"a\", \"a\", \"a\", \"a\", \"a\", \"a\", \"a\", \"a\", \"a\", \"a\", \"a\", \"a\", \"a\", \"a\", \"a\", \"a\", \"a\", \"a\", \"a\", \"a\", \"a\", \"a\", \"a\", \"a\", \"a\", \"a\", \"a\", \"a\", \"a\", \"a\", \"a\", \"a\", \"a\", \"a\", \"a\", \"a\", \"a\", \"a\", \"a\", \"a\", \"a\", \"a\", \"a\", \"a\", \"a\", \"a\", \"a\", \"a\", \"a\", \"a\", \"a\", \"a\", \"a\", \"a\", \"a\", \"a\", \"a\", \"a\", \"a\", \"a\", \"a\", \"a\", \"a\", \"a\", \"a\", \"a\", \"a\", \"a\", \"a\", \"a\", \"a\", \"a\", \"a\", \"a\", \"a\", \"a\", \"a\", \"a\", \"a\", \"a\", \"a\", \"a\", \"a\", \"a\", \"a\", \"a\", \"a\", \"a\", \"a\", \"a\", \"a\", \"a\", \"a\", \"a\", \"a\", \"a\", \"a\", \"a\", \"a\", \"a\", \"a\", \"a\", \"a\", \"a\", \"a\", \"a\", \"a\", \"a\", \"a\", \"a\", \"a\", \"a\", \"a\", \"a\", \"a\", \"a\", \"a\", \"a\", \"a\", \"a\", \"a\", \"a\", \"a\", \"a\", \"a\", \"a\", \"a\", \"a\", \"a\", \"a\", \"a\", \"a\", \"a\", \"a\", \"a\", \"a\", \"a\", \"a\", \"a\", \"a\", \"a\", \"a\", \"a\", \"a\", \"a\", \"a\", \"a\", \"a\", \"a\", \"a\", \"a\", \"a\", \"a\", \"a\", \"a\", \"a\", \"a\", \"a\", \"a\", \"a\", \"a\", \"a\", \"a\", \"a\", \"a\", \"a\", \"a\", \"a\", \"a\", \"a\", \"a\", \"a\", \"a\", \"a\", \"a\", \"a\", \"a\", \"a\", \"a\", \"a\", \"a\", \"a\", \"a\", \"a\", \"a\", \"a\", \"a\", \"a\", \"a\", \"a\", \"a\", \"a\", \"a\", \"a\", \"a\", \"a\", \"a\", \"a\", \"a\", \"a\", \"a\", \"a\", \"a\", \"a\", \"a\", \"a\", \"a\", \"a\", \"a\", \"a\", \"a\", \"a\", \"a\", \"a\", \"a\", \"a\", \"a\", \"a\", \"a\", \"a\", \"a\", \"a\", \"a\", \"a\", \"a\", \"a\", \"a\", \"a\", \"a\", \"a\", \"a\", \"a\", \"a\", \"a\", \"a\", \"a\", \"a\", \"a\", \"a\", \"a\", \"a\", \"a\", \"a\", \"a\", \"a\", \"a\", \"a\", \"a\", \"a\", \"a\", \"a\", \"a\", \"a\", \"a\", \"a\", \"a\", \"a\", \"a\", \"a\", \"a\", \"a\", \"a\", \"a\", \"a\", \"a\", \"a\", \"a\", \"a\", \"a\", \"a\", \"a\", \"a\", \"a\", \"a\", \"a\", \"a\", \"a\", \"a\", \"a\", \"a\", \"a\", \"a\", \"a\", \"a\", \"a\", \"a\", \"a\", \"a\", \"a\", \"a\", \"a\", \"a\", \"a\", \"a\", \"a\", \"a\", \"a\", \"a\", \"a\", \"a\", \"a\", \"a\", \"a\", \"a\", \"a\", \"a\", \"a\", \"a\", \"a\", \"a\", \"a\", \"a\", \"a\", \"a\", \"a\", \"a\", \"a\", \"a\", \"a\", \"a\", \"a\", \"a\", \"a\", \"a\", \"a\", \"a\", \"a\", \"a\", \"a\", \"a\", \"a\", \"a\", \"a\", \"a\", \"a\", \"a\", \"a\", \"a\", \"a\", \"a\", \"a\", \"a\", \"a\", \"a\", \"a\", \"a\", \"a\", \"a\", \"a\", \"a\", \"a\", \"a\", \"a\", \"a\", \"a\", \"a\", \"a\", \"a\", \"a\", \"a\", \"a\", \"a\", \"a\", \"a\", \"a\", \"a\", \"a\", \"a\", \"a\", \"a\", \"a\", \"a\", \"a\", \"a\", \"a\", \"a\", \"a\", \"a\", \"a\", \"a\", \"a\", \"a\", \"a\", \"a\", \"a\", \"a\", \"a\", \"a\", \"a\", \"a\", \"a\", \"a\", \"a\", \"a\", \"a\", \"a\", \"a\", \"a\", \"a\", \"a\", \"a\", \"a\", \"a\", \"a\", \"a\", \"a\", \"a\", \"a\", \"a\", \"a\", \"a\", \"a\", \"a\", \"a\", \"a\", \"a\", \"a\", \"a\", \"a\", \"a\", \"a\", \"a\", \"a\", \"a\", \"a\", \"a\", \"a\", \"a\", \"a\", \"a\", \"a\", \"a\", \"a\", \"a\", \"a\", \"a\", \"a\", \"a\", \"a\", \"a\", \"a\", \"a\", \"a\", \"a\", \"a\", \"a\", \"a\", \"a\", \"a\", \"a\", \"a\", \"a\", \"a\", \"a\", \"a\", \"a\", \"a\", \"a\", \"a\", \"a\", \"a\", \"a\", \"a\", \"a\", \"a\", \"a\", \"a\", \"a\", \"a\", \"a\", \"a\", \"a\", \"a\", \"a\", \"a\", \"a\", \"a\", \"a\", \"a\", \"a\", \"a\", \"a\", \"a\", \"a\", \"a\", \"a\", \"a\", \"a\", \"a\", \"a\", \"a\", \"a\", \"a\", \"a\", \"a\", \"a\", \"a\", \"a\", \"a\", \"a\", \"a\", \"a\", \"a\", \"a\", \"a\", \"a\", \"a\", \"a\", \"a\", \"a\", \"a\", \"a\", \"a\", \"a\", \"a\", \"a\", \"a\", \"a\", \"a\", \"a\", \"a\", \"a\", \"a\", \"a\", \"a\", \"a\", \"a\", \"a\", \"a\", \"a\", \"a\", \"a\", \"a\", \"a\", \"a\", \"a\", \"a\", \"a\", \"a\", \"a\", \"a\", \"a\", \"a\", \"a\", \"a\", \"a\", \"a\", \"a\", \"a\", \"a\", \"a\", \"a\", \"a\", \"a\", \"a\", \"a\", \"a\", \"a\", \"a\", \"a\", \"a\", \"a\", \"a\", \"a\", \"a\", \"a\", \"a\", \"a\", \"a\", \"a\", \"a\", \"a\", \"a\", \"a\", \"a\", \"a\", \"a\", \"a\", \"a\", \"a\", \"a\", \"a\", \"a\", \"a\", \"a\", \"a\", \"a\", \"a\", \"a\", \"a\", \"a\", \"a\", \"a\", \"a\", \"a\", \"a\", \"a\", \"a\", \"a\", \"a\", \"a\", \"a\", \"a\", \"a\", \"a\", \"a\", \"a\", \"a\", \"a\", \"a\", \"a\", \"a\", \"a\", \"a\", \"a\", \"a\", \"a\", \"a\", \"a\", \"a\", \"a\", \"a\", \"a\", \"a\", \"a\", \"a\", \"a\", \"a\", \"a\", \"a\", \"a\", \"a\", \"a\", \"a\", \"a\", \"a\", \"a\", \"a\", \"a\", \"a\", \"a\", \"a\", \"a\", \"a\", \"a\", \"a\", \"a\", \"a\", \"a\", \"a\", \"a\", \"a\", \"a\", \"a\", \"a\", \"a\", \"a\", \"a\", \"a\", \"a\", \"a\", \"a\", \"a\", \"a\", \"a\", \"a\", \"a\", \"a\", \"a\", \"a\", \"a\", \"a\", \"a\", \"a\", \"a\", \"a\", \"a\", \"a\", \"a\", \"a\", \"a\", \"a\", \"a\", \"a\", \"a\", \"a\", \"a\", \"a\", \"a\", \"a\", \"a\", \"a\", \"a\", \"a\", \"a\", \"a\", \"a\", \"a\", \"a\", \"a\", \"a\", \"a\", \"a\", \"a\", \"a\", \"a\", \"a\", \"a\", \"a\", \"a\", \"a\", \"a\", \"a\", \"a\", \"a\", \"a\", \"a\", \"a\", \"a\", \"a\", \"a\", \"a\", \"a\", \"a\", \"a\", \"a\", \"a\", \"a\", \"a\", \"a\", \"a\", \"a\", \"a\", \"a\", \"a\", \"a\", \"a\", \"a\", \"a\", \"a\", \"a\", \"a\", \"a\", \"a\", \"a\", \"a\", \"a\", \"a\", \"a\", \"a\", \"a\", \"a\", \"a\", \"a\", \"a\", \"a\", \"a\", \"a\", \"a\", \"a\", \"a\", \"a\", \"a\", \"a\", \"a\", \"a\", \"a\", \"a\", \"a\", \"a\", \"a\", \"a\", \"a\", \"a\", \"a\", \"a\", \"a\", \"a\", \"a\", \"a\", \"a\", \"a\", \"a\", \"a\", \"a\", \"a\", \"a\", \"a\", \"a\", \"a\", \"a\", \"a\", \"a\", \"a\", \"a\", \"a\", \"a\", \"a\", \"a\", \"a\", \"a\", \"a\", \"a\", \"a\", \"a\", \"a\", \"a\", \"a\", \"a\", \"a\", \"a\", \"a\", \"a\", \"a\", \"a\", \"a\", \"a\", \"a\", \"a\", \"a\", \"a\", \"a\", \"a\", \"a\", \"a\", \"a\", \"a\", \"a\", \"a\", \"a\", \"a\", \"a\", \"a\", \"a\", \"a\", \"a\", \"a\", \"a\", \"a\", \"a\", \"a\", \"a\", \"a\", \"a\", \"a\", \"a\", \"a\", \"a\", \"a\", \"a\", \"a\", \"a\", \"a\", \"a\", \"a\", \"a\", \"a\", \"a\", \"a\", \"a\", \"a\", \"a\", \"a\", \"a\", \"a\", \"a\", \"a\", \"a\", \"a\", \"a\", \"a\", \"a\", \"a\", \"a\", \"a\", \"a\", \"a\", \"a\", \"a\", \"a\", \"a\", \"a\", \"a\", \"a\", \"a\", \"a\", \"a\", \"a\", \"a\", \"a\", \"a\", \"a\", \"a\", \"a\", \"a\", \"a\", \"a\", \"a\", \"a\", \"a\", \"a\", \"a\", \"a\", \"a\", \"a\", \"a\", \"a\", \"a\", \"a\", \"a\", \"a\", \"a\", \"a\", \"a\", \"a\", \"a\", \"a\", \"a\", \"a\", \"a\", \"a\", \"a\", \"a\", \"a\", \"a\", \"a\", \"a\", \"a\", \"a\", \"a\", \"a\", \"a\", \"a\", \"a\", \"a\", \"a\", \"a\", \"a\", \"a\", \"a\", \"a\", \"a\", \"a\", \"a\", \"a\", \"a\", \"a\", \"a\", \"a\", \"a\", \"a\", \"a\", \"a\", \"a\", \"a\", \"a\", \"a\", \"a\", \"a\", \"a\", \"a\", \"a\", \"a\", \"a\", \"a\", \"a\", \"a\", \"a\", \"a\", \"a\", \"a\", \"a\", \"a\", \"a\", \"a\", \"a\", \"a\", \"a\", \"a\", \"a\", \"a\", \"a\", \"a\", \"a\", \"a\", \"a\", \"a\", \"a\", \"a\", \"a\", \"a\", \"a\", \"a\", \"a\", \"a\", \"a\", \"a\", \"a\", \"a\", \"a\", \"a\", \"a\", \"a\", \"a\", \"a\", \"a\", \"a\", \"a\", \"a\", \"a\", \"a\", \"a\", \"a\", \"a\", \"a\", \"a\", \"a\", \"a\", \"a\", \"a\", \"a\", \"a\", \"a\", \"a\", \"a\", \"a\", \"a\", \"a\", \"a\", \"a\", \"a\", \"a\", \"a\", \"a\", \"a\", \"a\", \"a\", \"a\", \"a\", \"a\", \"a\", \"a\", \"a\", \"a\", \"a\", \"a\", \"a\", \"a\", \"a\", \"a\", \"a\", \"a\", \"a\", \"a\", \"a\", \"a\", \"a\", \"a\", \"a\", \"a\", \"a\", \"a\", \"a\", \"a\", \"a\", \"a\", \"a\", \"a\", \"a\", \"a\", \"a\", \"a\", \"a\", \"a\", \"a\", \"a\", \"a\", \"a\", \"a\", \"a\", \"a\", \"a\", \"a\", \"a\", \"a\", \"a\", \"a\", \"a\", \"a\", \"a\", \"a\", \"a\", \"a\", \"a\", \"a\", \"a\", \"a\", \"a\", \"a\", \"a\", \"a\", \"a\", \"a\", \"a\", \"a\", \"a\", \"a\", \"a\", \"a\", \"a\", \"a\", \"a\", \"a\", \"a\", \"a\", \"a\", \"a\", \"a\", \"a\", \"a\", \"a\", \"a\", \"a\", \"a\", \"a\", \"a\", \"a\", \"a\", \"a\", \"a\", \"a\", \"a\", \"a\", \"a\", \"a\", \"a\", \"a\", \"a\", \"a\", \"a\", \"a\", \"a\", \"a\", \"a\", \"a\", \"a\", \"a\", \"a\", \"a\", \"a\", \"a\", \"a\", \"a\", \"a\", \"a\", \"a\", \"a\", \"a\", \"a\", \"a\", \"a\", \"a\", \"a\", \"a\", \"a\", \"a\", \"a\", \"a\", \"a\", \"a\", \"a\", \"a\", \"a\", \"a\", \"a\", \"a\", \"a\", \"a\", \"a\", \"a\", \"a\", \"a\", \"a\", \"a\", \"a\", \"a\", \"a\", \"a\", \"a\", \"a\", \"a\", \"a\", \"a\", \"a\", \"a\", \"a\", \"a\", \"a\", \"a\", \"a\", \"a\", \"a\", \"a\", \"a\", \"a\", \"a\", \"a\", \"a\", \"a\", \"a\", \"a\", \"a\", \"a\", \"a\", \"a\", \"a\", \"a\", \"a\", \"a\", \"a\", \"a\", \"a\", \"a\", \"a\", \"a\", \"a\", \"a\", \"a\", \"a\", \"a\", \"a\", \"a\", \"a\", \"a\", \"a\", \"a\", \"a\", \"a\", \"a\", \"a\", \"a\", \"a\", \"a\", \"a\", \"a\", \"a\", \"a\", \"a\", \"a\", \"a\", \"a\", \"a\", \"a\", \"a\", \"a\", \"a\", \"a\", \"a\", \"a\", \"a\", \"a\", \"a\", \"a\", \"a\", \"a\", \"a\", \"a\", \"a\", \"a\", \"a\", \"a\", \"a\", \"a\", \"a\", \"a\", \"a\", \"a\", \"a\", \"a\", \"a\", \"a\", \"a\", \"a\", \"a\", \"a\", \"a\", \"a\", \"a\", \"a\", \"a\", \"a\", \"a\", \"a\", \"a\", \"a\", \"a\", \"a\", \"a\", \"a\", \"a\", \"a\", \"a\", \"a\", \"a\", \"a\", \"a\", \"a\", \"a\", \"a\", \"a\", \"a\", \"a\", \"a\", \"a\", \"a\", \"a\", \"a\", \"a\", \"a\", \"a\", \"a\", \"a\", \"a\", \"a\", \"a\", \"a\", \"a\", \"a\", \"a\", \"a\", \"a\", \"a\", \"a\", \"a\", \"a\", \"a\", \"a\", \"a\", \"a\", \"a\", \"a\", \"a\", \"a\", \"a\", \"a\", \"a\", \"a\", \"a\", \"a\", \"a\", \"a\", \"a\", \"a\", \"a\", \"a\", \"a\", \"a\", \"a\", \"a\", \"a\", \"a\", \"a\", \"a\", \"a\", \"a\", \"a\", \"a\", \"a\", \"a\", \"a\", \"a\", \"a\", \"a\", \"a\", \"a\", \"a\", \"a\", \"a\", \"a\", \"a\", \"a\", \"a\", \"a\", \"a\", \"a\", \"a\", \"a\", \"a\", \"a\", \"a\", \"a\", \"a\", \"a\", \"a\", \"a\", \"a\", \"a\", \"a\", \"a\", \"a\", \"a\", \"a\", \"a\", \"a\", \"a\", \"a\", \"a\", \"a\", \"a\", \"a\", \"a\", \"a\", \"a\", \"a\", \"a\", \"a\", \"a\", \"a\", \"a\", \"a\", \"a\", \"a\", \"a\", \"a\", \"a\", \"a\", \"a\", \"a\", \"a\", \"a\", \"a\", \"a\", \"a\", \"a\", \"a\", \"a\", \"a\", \"a\", \"a\", \"a\", \"a\", \"a\", \"a\", \"a\", \"a\", \"a\", \"a\", \"a\", \"a\", \"a\", \"a\", \"a\", \"a\", \"a\", \"a\", \"a\", \"a\", \"a\", \"a\", \"a\", \"a\", \"a\", \"a\", \"a\", \"a\", \"a\", \"a\", \"a\", \"a\", \"a\", \"a\", \"a\", \"a\", \"a\", \"a\", \"a\", \"a\", \"a\", \"a\", \"a\", \"a\", \"a\", \"a\", \"a\", \"a\", \"a\", \"a\", \"a\", \"a\", \"a\", \"a\", \"a\", \"a\", \"a\", \"a\", \"a\", \"a\", \"a\", \"a\", \"a\", \"a\", \"a\", \"a\", \"a\", \"a\", \"a\", \"a\", \"a\", \"a\", \"a\", \"a\", \"a\", \"a\", \"a\", \"a\", \"a\", \"a\", \"a\", \"a\", \"a\", \"a\", \"a\", \"a\", \"a\", \"a\", \"a\", \"a\", \"a\", \"a\", \"a\", \"a\", \"a\", \"a\", \"a\", \"a\", \"a\", \"a\", \"a\", \"a\", \"a\", \"a\", \"a\", \"a\", \"a\", \"a\", \"a\", \"a\", \"a\", \"a\", \"a\", \"a\", \"a\", \"a\", \"a\", \"a\", \"a\", \"a\", \"a\", \"a\", \"a\", \"a\", \"a\", \"a\", \"a\", \"a\", \"a\", \"a\", \"a\", \"a\", \"a\", \"a\", \"a\", \"a\", \"a\", \"a\", \"a\", \"a\", \"a\", \"a\", \"a\", \"a\", \"a\", \"a\", \"a\", \"a\", \"a\", \"a\", \"a\", \"a\", \"a\", \"a\", \"a\", \"a\", \"a\", \"a\", \"a\", \"a\", \"a\", \"a\", \"a\", \"a\", \"a\", \"a\", \"a\", \"a\", \"a\", \"a\", \"a\", \"a\", \"a\", \"a\", \"a\", \"a\", \"a\", \"a\", \"a\", \"a\", \"a\", \"a\", \"a\", \"a\", \"a\", \"a\", \"a\", \"a\", \"a\", \"a\", \"a\", \"a\", \"a\", \"a\", \"a\", \"a\", \"a\", \"a\", \"a\", \"a\", \"a\", \"a\", \"a\", \"a\", \"a\", \"a\", \"a\", \"a\", \"a\", \"a\", \"a\", \"a\", \"a\", \"a\", \"a\", \"a\", \"a\", \"a\", \"a\", \"a\", \"a\", \"a\", \"a\", \"a\", \"a\", \"a\", \"a\", \"a\", \"a\", \"a\", \"a\", \"a\", \"a\", \"a\", \"a\", \"a\", \"a\", \"a\", \"a\", \"a\", \"a\", \"a\", \"a\", \"a\", \"a\", \"a\", \"a\", \"a\", \"a\", \"a\", \"a\", \"a\", \"a\", \"a\", \"a\", \"a\", \"a\", \"a\", \"a\", \"a\", \"a\", \"a\", \"a\", \"a\", \"a\", \"a\", \"a\", \"a\", \"a\", \"a\", \"a\", \"a\", \"a\", \"a\", \"a\", \"a\", \"a\", \"a\", \"a\", \"a\", \"a\", \"a\", \"a\", \"a\", \"a\", \"a\", \"a\", \"a\", \"a\", \"a\", \"a\", \"a\", \"a\", \"a\", \"a\", \"a\", \"a\", \"a\", \"a\", \"a\", \"a\", \"a\", \"a\", \"a\", \"a\", \"a\", \"a\", \"a\", \"a\", \"a\", \"a\", \"a\", \"a\", \"a\", \"a\", \"a\", \"a\", \"a\", \"a\", \"a\", \"a\", \"a\", \"a\", \"a\", \"a\", \"a\", \"a\", \"a\", \"a\", \"a\", \"a\", \"a\", \"a\", \"a\", \"a\", \"a\", \"a\", \"a\", \"a\", \"a\", \"a\", \"a\", \"a\", \"a\", \"a\", \"a\", \"a\", \"a\", \"a\", \"a\", \"a\", \"a\", \"a\", \"a\", \"a\", \"a\", \"a\", \"a\", \"a\", \"a\", \"a\", \"a\", \"a\", \"a\", \"a\", \"a\", \"a\", \"a\", \"a\", \"a\", \"a\", \"a\", \"a\", \"a\", \"a\", \"a\", \"a\", \"a\", \"a\", \"a\", \"a\", \"a\", \"a\", \"a\", \"a\", \"a\", \"a\", \"a\", \"a\", \"a\", \"a\", \"a\", \"a\", \"a\", \"a\", \"a\", \"a\", \"a\", \"a\", \"a\", \"a\", \"a\", \"a\", \"a\", \"a\", \"a\", \"a\", \"a\", \"a\", \"a\", \"a\", \"a\", \"a\", \"a\", \"a\", \"a\", \"a\", \"a\", \"a\", \"a\", \"a\", \"a\", \"a\", \"a\", \"a\", \"a\", \"a\", \"a\", \"a\", \"a\", \"a\", \"a\", \"a\", \"a\", \"a\", \"a\", \"a\", \"a\", \"a\", \"a\", \"a\", \"a\", \"a\", \"a\", \"a\", \"a\", \"a\", \"a\", \"a\", \"a\", \"a\", \"a\", \"a\", \"a\", \"a\", \"a\", \"a\", \"a\", \"a\", \"a\", \"a\", \"a\", \"a\", \"a\", \"a\", \"a\", \"a\", \"a\", \"a\", \"a\", \"a\", \"a\", \"a\", \"a\", \"a\", \"a\", \"a\", \"a\", \"a\", \"a\", \"a\", \"a\", \"a\", \"a\", \"a\", \"a\", \"a\", \"a\", \"a\", \"a\", \"a\", \"a\", \"a\", \"a\", \"a\", \"a\", \"a\", \"a\", \"a\", \"a\", \"a\", \"a\", \"a\", \"a\", \"a\", \"a\", \"a\", \"a\", \"a\", \"a\", \"a\", \"a\", \"a\", \"a\", \"a\", \"a\", \"a\", \"a\", \"a\", \"a\", \"a\", \"a\", \"a\", \"a\", \"a\", \"a\", \"a\", \"a\", \"a\", \"a\", \"a\", \"a\", \"a\", \"a\", \"a\", \"a\", \"a\", \"a\", \"a\", \"a\", \"a\", \"a\", \"a\", \"a\", \"a\", \"a\", \"a\", \"a\", \"a\", \"a\", \"a\", \"a\", \"a\", \"a\", \"a\", \"a\", \"a\", \"a\", \"a\", \"a\", \"a\", \"a\", \"a\", \"a\", \"a\", \"a\", \"a\", \"a\", \"a\", \"a\", \"a\", \"a\", \"a\", \"a\", \"a\", \"a\", \"a\", \"a\", \"a\", \"a\", \"a\", \"a\", \"a\", \"a\", \"a\", \"a\", \"a\", \"a\", \"a\", \"a\", \"a\", \"a\", \"a\", \"a\", \"a\", \"a\", \"a\", \"a\", \"a\", \"a\", \"a\", \"a\", \"a\", \"a\", \"a\", \"a\", \"a\", \"a\", \"a\", \"a\", \"a\", \"a\", \"a\", \"a\", \"a\", \"a\", \"a\", \"a\", \"a\", \"a\", \"a\", \"a\", \"a\", \"a\", \"a\", \"a\", \"a\", \"a\", \"a\", \"a\", \"a\", \"a\", \"a\", \"a\", \"a\", \"a\", \"a\", \"a\", \"a\", \"a\", \"a\", \"a\", \"a\", \"a\", \"a\", \"a\", \"a\", \"a\", \"a\", \"a\", \"a\", \"a\", \"a\", \"a\", \"a\", \"a\", \"a\", \"a\", \"a\", \"a\", \"a\", \"a\", \"a\", \"a\", \"a\", \"a\", \"a\", \"a\", \"a\", \"a\", \"a\", \"a\", \"a\", \"a\", \"a\", \"a\", \"a\", \"a\", \"a\", \"a\", \"a\", \"a\", \"a\", \"a\", \"a\", \"a\", \"a\", \"a\", \"a\", \"a\", \"a\", \"a\", \"a\", \"a\", \"a\", \"a\", \"a\", \"a\", \"a\", \"a\", \"a\", \"a\", \"a\", \"a\", \"a\", \"a\", \"a\", \"a\", \"a\", \"a\", \"a\", \"a\", \"a\", \"a\", \"a\", \"a\", \"a\", \"a\", \"a\", \"a\", \"a\", \"a\", \"a\", \"a\", \"a\", \"a\", \"a\", \"a\", \"a\", \"a\", \"a\", \"a\", \"a\", \"a\", \"a\", \"a\", \"a\", \"a\", \"a\", \"a\", \"a\", \"a\", \"a\", \"a\", \"a\", \"a\", \"a\", \"a\", \"a\", \"a\", \"a\", \"a\", \"a\", \"a\", \"a\", \"a\", \"a\", \"a\", \"a\", \"a\", \"a\", \"a\", \"a\", \"a\", \"a\", \"a\", \"a\", \"a\", \"a\", \"a\", \"a\", \"a\", \"a\", \"a\", \"a\", \"a\", \"a\", \"a\", \"a\", \"a\", \"a\", \"a\", \"a\", \"a\", \"a\", \"a\", \"a\", \"a\", \"a\", \"a\", \"a\", \"a\", \"a\", \"a\", \"a\", \"a\", \"a\", \"a\", \"a\", \"a\", \"a\", \"a\", \"a\", \"a\", \"a\", \"a\", \"a\", \"a\", \"a\", \"a\", \"a\", \"a\", \"a\", \"a\", \"a\", \"a\", \"a\", \"a\", \"a\", \"a\", \"a\", \"a\", \"a\", \"a\", \"a\", \"a\", \"a\", \"a\", \"a\", \"a\", \"a\", \"a\", \"a\", \"a\", \"a\", \"a\", \"a\", \"a\", \"a\", \"a\", \"a\", \"a\", \"a\", \"a\", \"a\", \"a\", \"a\", \"a\", \"a\", \"a\", \"a\", \"a\", \"a\", \"a\", \"a\", \"a\", \"a\", \"a\", \"a\", \"a\", \"a\", \"a\", \"a\", \"a\", \"a\", \"a\", \"a\", \"a\", \"a\", \"a\", \"a\", \"a\", \"a\", \"a\", \"a\", \"a\", \"a\", \"a\", \"a\", \"a\", \"a\", \"a\", \"a\", \"a\", \"a\", \"a\", \"a\", \"a\", \"a\", \"a\", \"a\", \"a\", \"a\", \"a\", \"a\", \"a\", \"a\", \"a\", \"a\", \"a\", \"a\", \"a\", \"a\", \"a\", \"a\", \"a\", \"a\", \"a\", \"a\", \"a\", \"a\", \"a\", \"a\", \"a\", \"a\", \"a\", \"a\", \"a\", \"a\", \"a\", \"a\", \"a\", \"a\", \"a\", \"a\", \"a\", \"a\", \"a\", \"a\", \"a\", \"a\", \"a\", \"a\", \"a\", \"a\", \"a\", \"a\", \"a\", \"a\", \"a\", \"a\", \"a\", \"a\", \"a\", \"a\", \"a\", \"a\", \"a\", \"a\", \"a\", \"a\", \"a\", \"a\", \"a\", \"a\", \"a\", \"a\", \"a\", \"a\", \"a\", \"a\", \"a\", \"a\", \"a\", \"a\", \"a\", \"a\", \"a\", \"a\", \"a\", \"a\", \"a\", \"a\", \"a\", \"a\", \"a\", \"a\", \"a\", \"a\", \"a\", \"a\", \"a\", \"a\", \"a\", \"a\", \"a\", \"a\", \"a\", \"a\", \"a\", \"a\", \"a\", \"a\", \"a\", \"a\", \"a\", \"a\", \"a\", \"a\", \"a\", \"a\", \"a\", \"a\", \"a\", \"a\", \"a\", \"a\", \"a\", \"a\", \"a\", \"a\", \"a\", \"a\", \"a\", \"a\", \"a\", \"a\", \"a\", \"a\", \"a\", \"a\", \"a\", \"a\", \"a\", \"a\", \"a\", \"a\", \"a\", \"a\", \"a\", \"a\", \"a\", \"a\", \"a\", \"a\", \"a\", \"a\", \"a\", \"a\", \"a\", \"a\", \"a\", \"a\", \"a\", \"a\", \"a\", \"a\", \"a\", \"a\", \"a\", \"a\", \"a\", \"a\", \"a\", \"a\", \"a\", \"a\", \"a\", \"a\", \"a\", \"a\", \"a\", \"a\", \"a\", \"a\", \"a\", \"a\", \"a\", \"a\", \"a\", \"a\", \"a\", \"a\", \"a\", \"a\", \"a\", \"a\", \"a\", \"a\", \"a\", \"a\", \"a\", \"a\", \"a\", \"a\", \"a\", \"a\", \"a\", \"a\", \"a\", \"a\", \"a\", \"a\", \"a\", \"a\", \"a\", \"a\", \"a\", \"a\", \"a\", \"a\", \"a\", \"a\", \"a\", \"a\", \"a\", \"a\", \"a\", \"a\", \"a\", \"a\", \"a\", \"a\", \"a\", \"a\", \"a\", \"a\", \"a\", \"a\", \"a\", \"a\", \"a\", \"a\", \"a\", \"a\", \"a\", \"a\", \"a\", \"a\", \"a\", \"a\", \"a\", \"a\", \"a\", \"a\", \"a\", \"a\", \"a\", \"a\", \"a\", \"a\", \"a\", \"a\", \"a\", \"a\", \"a\", \"a\", \"a\", \"a\", \"a\", \"a\", \"a\", \"a\", \"a\", \"a\", \"a\", \"a\", \"a\", \"a\", \"a\", \"a\", \"a\", \"a\", \"a\", \"a\", \"a\", \"a\", \"a\", \"a\", \"a\", \"a\", \"a\", \"a\", \"a\", \"a\", \"a\", \"a\", \"a\", \"a\", \"a\", \"a\", \"a\", \"a\", \"a\", \"a\", \"a\", \"a\", \"a\", \"a\", \"a\", \"a\", \"a\", \"a\", \"a\", \"a\", \"a\", \"a\", \"a\", \"a\", \"a\", \"a\", \"a\", \"a\", \"a\", \"a\", \"a\", \"a\", \"a\", \"a\", \"a\", \"a\", \"a\", \"a\", \"a\", \"a\", \"a\", \"a\", \"a\", \"a\", \"a\", \"a\", \"a\", \"a\", \"a\", \"a\", \"a\", \"a\", \"a\", \"a\", \"a\", \"a\", \"a\", \"a\", \"a\", \"a\", \"a\", \"a\", \"a\", \"a\", \"a\", \"a\", \"a\", \"a\", \"a\", \"a\", \"a\", \"a\", \"a\", \"a\", \"a\", \"a\", \"a\", \"a\", \"a\", \"a\", \"a\", \"a\", \"a\", \"a\", \"a\", \"a\", \"a\", \"a\", \"a\", \"a\", \"a\", \"a\", \"a\", \"a\", \"a\", \"a\", \"a\", \"a\", \"a\", \"a\", \"a\", \"a\", \"a\", \"a\", \"a\", \"a\", \"a\", \"a\", \"a\", \"a\", \"a\", \"a\", \"a\", \"a\", \"a\", \"a\", \"a\", \"a\", \"a\", \"a\", \"a\", \"a\", \"a\", \"a\", \"a\", \"a\", \"a\", \"a\", \"a\", \"a\", \"a\", \"a\", \"a\", \"a\", \"a\", \"a\", \"a\", \"a\", \"a\", \"a\", \"a\", \"a\", \"a\", \"a\", \"a\", \"a\", \"a\", \"a\", \"a\", \"a\", \"a\", \"a\", \"a\", \"a\", \"a\", \"a\", \"a\", \"a\", \"a\", \"a\", \"a\", \"a\", \"a\", \"a\", \"a\", \"a\", \"a\", \"a\", \"a\", \"a\", \"a\", \"a\", \"a\", \"a\", \"a\", \"a\", \"a\", \"a\", \"a\", \"a\", \"a\", \"a\", \"a\", \"a\", \"a\", \"a\", \"a\", \"a\", \"a\", \"a\", \"a\", \"a\", \"a\", \"a\", \"a\", \"a\", \"a\", \"a\", \"a\", \"a\", \"a\", \"a\", \"a\", \"a\", \"a\", \"a\", \"a\", \"a\", \"a\", \"a\", \"a\", \"a\", \"a\", \"a\", \"a\", \"a\", \"a\", \"a\", \"a\", \"a\", \"a\", \"a\", \"a\", \"a\", \"a\", \"a\", \"a\", \"a\", \"a\", \"a\", \"a\", \"a\", \"a\", \"a\", \"a\", \"a\", \"a\", \"a\", \"a\", \"a\", \"a\", \"a\", \"a\", \"a\", \"a\", \"a\", \"a\", \"a\", \"a\", \"a\", \"a\", \"a\", \"a\", \"a\", \"a\", \"a\", \"a\", \"a\", \"a\", \"a\", \"a\", \"a\", \"a\", \"a\", \"a\", \"a\", \"a\", \"a\", \"a\", \"a\", \"a\", \"a\", \"a\", \"a\", \"a\", \"a\", \"a\", \"a\", \"a\", \"a\", \"a\", \"a\", \"a\", \"a\", \"a\", \"a\", \"a\", \"a\", \"a\", \"a\", \"a\", \"a\", \"a\", \"a\", \"a\", \"a\", \"a\", \"a\", \"a\", \"a\", \"a\", \"a\", \"a\", \"a\", \"a\", \"a\", \"a\", \"a\", \"a\", \"a\", \"a\", \"a\", \"a\", \"a\", \"a\", \"a\", \"a\", \"a\", \"a\", \"a\", \"a\", \"a\", \"a\", \"a\", \"a\", \"a\", \"a\", \"a\", \"a\", \"a\", \"a\", \"a\", \"a\", \"a\", \"a\", \"a\", \"a\", \"a\", \"a\", \"a\", \"a\", \"a\", \"a\", \"a\", \"a\", \"a\", \"a\", \"a\", \"a\", \"a\", \"a\", \"a\", \"a\", \"a\", \"a\", \"a\", \"a\", \"a\", \"a\", \"a\", \"a\", \"a\", \"a\", \"a\", \"a\", \"a\", \"a\", \"a\", \"a\", \"a\", \"a\", \"a\", \"a\", \"a\", \"a\", \"a\", \"a\", \"a\", \"a\", \"a\", \"a\", \"a\", \"a\", \"a\", \"a\", \"a\", \"a\", \"a\", \"a\", \"a\", \"a\", \"a\", \"a\", \"a\", \"a\", \"a\", \"a\", \"a\", \"a\", \"a\", \"a\", \"a\", \"a\", \"a\", \"a\", \"a\", \"a\", \"a\", \"a\", \"a\", \"a\", \"a\", \"a\", \"a\", \"a\", \"a\", \"a\", \"a\", \"a\", \"a\", \"a\", \"a\", \"a\", \"a\", \"a\", \"a\", \"a\", \"a\", \"a\", \"a\", \"a\", \"a\", \"a\", \"a\", \"a\", \"a\", \"a\", \"a\", \"a\", \"a\", \"a\", \"a\", \"a\", \"a\", \"a\", \"a\", \"a\", \"a\", \"a\", \"a\", \"a\", \"a\", \"a\", \"a\", \"a\", \"a\", \"a\", \"a\", \"a\", \"a\", \"a\", \"a\", \"a\", \"a\", \"a\", \"a\", \"a\", \"a\", \"a\", \"a\", \"a\", \"a\", \"a\", \"a\", \"a\", \"a\", \"a\", \"a\", \"a\", \"a\", \"a\", \"a\", \"a\", \"a\", \"a\", \"a\", \"a\", \"a\", \"a\", \"a\", \"a\", \"a\", \"a\", \"a\", \"a\", \"a\", \"a\", \"a\", \"a\", \"a\", \"a\", \"a\", \"a\", \"a\", \"a\", \"a\", \"a\", \"a\", \"a\", \"a\", \"a\", \"a\", \"a\", \"a\", \"a\", \"a\", \"a\", \"a\", \"a\", \"a\", \"a\", \"a\", \"a\", \"a\", \"a\", \"a\", \"a\", \"a\", \"a\", \"a\", \"a\", \"a\", \"a\", \"a\", \"a\", \"a\", \"a\", \"a\", \"a\", \"a\", \"a\", \"a\", \"a\", \"a\", \"a\", \"a\", \"a\", \"a\", \"a\", \"a\", \"a\", \"a\", \"a\", \"a\", \"a\", \"a\", \"a\", \"a\", \"a\", \"a\", \"a\", \"a\", \"a\", \"a\", \"a\", \"a\", \"a\", \"a\", \"a\", \"a\", \"a\", \"a\", \"a\", \"a\", \"a\", \"a\", \"a\", \"a\", \"a\", \"a\", \"a\", \"a\", \"a\", \"a\", \"a\", \"a\", \"a\", \"a\", \"a\", \"a\", \"a\", \"a\", \"a\", \"a\", \"a\", \"a\", \"a\", \"a\", \"a\", \"a\", \"a\", \"a\", \"a\", \"a\", \"a\", \"a\", \"a\", \"a\", \"a\", \"a\", \"a\", \"a\", \"a\", \"a\", \"a\", \"a\", \"a\", \"a\", \"a\", \"a\", \"a\", \"a\", \"a\", \"a\", \"a\", \"a\", \"a\", \"a\", \"a\", \"a\", \"a\", \"a\", \"a\", \"a\", \"a\", \"a\", \"a\", \"a\", \"a\", \"a\", \"a\", \"a\", \"a\", \"a\", \"a\", \"a\", \"a\", \"a\", \"a\", \"a\", \"a\", \"a\", \"a\", \"a\", \"a\", \"a\", \"a\", \"a\", \"a\", \"a\", \"a\", \"a\", \"a\", \"a\", \"a\", \"a\", \"a\", \"a\", \"a\", \"a\", \"a\", \"a\", \"a\", \"a\", \"a\", \"a\", \"a\", \"a\", \"a\", \"a\", \"a\", \"a\", \"a\", \"a\", \"a\", \"a\", \"a\", \"a\", \"a\", \"a\", \"a\", \"a\", \"a\", \"a\", \"a\", \"a\", \"a\", \"a\", \"a\", \"a\", \"a\", \"a\", \"a\", \"a\", \"a\", \"a\", \"a\", \"a\", \"a\", \"a\", \"a\", \"a\", \"a\", \"a\", \"a\", \"a\", \"a\", \"a\", \"a\", \"a\", \"a\", \"a\", \"a\", \"a\", \"a\", \"a\", \"a\", \"a\", \"a\", \"a\", \"a\", \"a\", \"a\", \"a\", \"a\", \"a\", \"a\", \"a\", \"a\", \"a\", \"a\", \"a\", \"a\", \"a\", \"a\", \"a\", \"a\", \"a\", \"a\", \"a\", \"a\", \"a\", \"a\", \"a\", \"a\", \"a\", \"a\", \"a\", \"a\", \"a\", \"a\", \"a\", \"a\", \"a\", \"a\", \"a\", \"a\", \"a\", \"a\", \"a\", \"a\", \"a\", \"a\", \"a\", \"a\", \"a\", \"a\", \"a\", \"a\", \"a\", \"a\", \"a\", \"a\", \"a\", \"a\", \"a\", \"a\", \"a\", \"a\", \"a\", \"a\", \"a\", \"a\", \"a\", \"a\", \"a\", \"a\", \"a\", \"a\", \"a\", \"a\", \"a\", \"a\", \"a\", \"a\", \"a\", \"a\", \"a\", \"a\", \"a\", \"a\", \"a\", \"a\", \"a\", \"a\", \"a\", \"a\", \"a\", \"a\", \"a\", \"a\", \"a\", \"a\", \"a\", \"a\", \"a\", \"a\", \"a\", \"a\", \"a\", \"a\", \"a\", \"a\", \"a\", \"a\", \"a\", \"a\", \"a\", \"a\", \"a\", \"a\", \"a\", \"a\", \"a\", \"a\", \"a\", \"a\", \"a\", \"a\", \"a\", \"a\", \"a\", \"a\", \"a\", \"a\", \"a\", \"a\", \"a\", \"a\", \"a\", \"a\", \"a\", \"a\", \"a\", \"a\", \"a\", \"a\", \"a\", \"a\", \"a\", \"a\", \"a\", \"a\", \"a\", \"a\", \"a\", \"a\", \"a\", \"a\", \"a\", \"a\", \"a\", \"a\", \"a\", \"a\", \"a\", \"a\", \"a\", \"a\", \"a\", \"a\", \"a\", \"a\", \"a\", \"a\", \"a\", \"a\", \"a\", \"a\", \"a\", \"a\", \"a\", \"a\", \"a\", \"a\", \"a\", \"a\", \"a\", \"a\", \"a\", \"a\", \"a\", \"a\", \"a\", \"a\", \"a\", \"a\", \"a\", \"a\", \"a\", \"a\", \"a\", \"a\", \"a\", \"a\", \"a\", \"a\", \"a\", \"a\", \"a\", \"a\", \"a\", \"a\", \"a\", \"a\", \"a\", \"a\", \"a\", \"a\", \"a\", \"a\", \"a\", \"a\", \"a\", \"a\", \"a\", \"a\", \"a\", \"a\", \"a\", \"a\", \"a\", \"a\", \"a\", \"a\", \"a\", \"a\", \"a\", \"a\", \"a\", \"a\", \"a\", \"a\", \"a\", \"a\", \"a\", \"a\", \"a\", \"a\", \"a\", \"a\", \"a\", \"a\", \"a\", \"a\", \"a\", \"a\", \"a\", \"a\", \"a\", \"a\", \"a\", \"a\", \"a\", \"a\", \"a\", \"a\", \"a\", \"a\", \"a\", \"a\", \"a\", \"a\", \"a\", \"a\", \"a\", \"a\", \"a\", \"a\", \"a\", \"a\", \"a\", \"a\", \"a\", \"a\", \"a\", \"a\", \"a\", \"a\", \"a\", \"a\", \"a\", \"a\", \"a\", \"a\", \"a\", \"a\", \"a\", \"a\", \"a\", \"a\", \"a\", \"a\", \"a\", \"a\", \"a\", \"a\", \"a\", \"a\", \"a\", \"a\", \"a\", \"a\", \"a\", \"a\", \"a\", \"a\", \"a\", \"a\", \"a\", \"a\", \"a\", \"a\", \"a\", \"a\", \"a\", \"a\", \"a\", \"a\", \"a\", \"a\", \"a\", \"a\", \"a\", \"a\", \"a\", \"a\", \"a\", \"a\", \"a\", \"a\", \"a\", \"a\", \"a\", \"a\", \"a\", \"a\", \"a\", \"a\", \"a\", \"a\", \"a\", \"a\", \"a\", \"a\", \"a\", \"a\", \"a\", \"a\", \"a\", \"a\", \"a\", \"a\", \"a\", \"a\", \"a\", \"a\", \"a\", \"a\", \"a\", \"a\", \"a\", \"a\", \"a\", \"a\", \"a\", \"a\", \"a\", \"a\", \"a\", \"a\", \"a\", \"a\", \"a\", \"a\", \"a\", \"a\", \"a\", \"a\", \"a\", \"a\", \"a\", \"a\", \"a\", \"a\", \"a\", \"a\", \"a\", \"a\", \"a\", \"a\", \"a\", \"a\", \"a\", \"a\", \"a\", \"a\", \"a\", \"a\", \"a\", \"a\", \"a\", \"a\", \"a\", \"a\", \"a\", \"a\", \"a\", \"a\", \"a\", \"a\", \"a\", \"a\", \"a\", \"a\", \"a\", \"a\", \"a\", \"a\", \"a\", \"a\", \"a\", \"a\", \"a\", \"a\", \"a\", \"a\", \"a\", \"a\", \"a\", \"a\", \"a\", \"a\", \"a\", \"a\", \"a\", \"a\", \"a\", \"a\", \"a\", \"a\", \"a\", \"a\", \"a\", \"a\", \"a\", \"a\", \"a\", \"a\", \"a\", \"a\", \"a\", \"a\", \"a\", \"a\", \"a\", \"a\", \"a\", \"a\", \"a\", \"a\", \"a\", \"a\", \"a\", \"a\", \"a\", \"a\", \"a\", \"a\", \"a\", \"a\", \"a\", \"a\", \"a\", \"a\", \"a\", \"a\", \"a\", \"a\", \"a\", \"a\", \"a\", \"a\", \"a\", \"a\", \"a\", \"a\", \"a\", \"a\", \"a\", \"a\", \"a\", \"a\", \"a\", \"a\", \"a\", \"a\", \"a\", \"a\", \"a\", \"a\", \"a\", \"a\", \"a\", \"a\", \"a\", \"a\", \"a\", \"a\", \"a\", \"a\", \"a\", \"a\", \"a\", \"a\", \"a\", \"a\", \"a\", \"a\", \"a\", \"a\", \"a\", \"a\", \"a\", \"a\", \"a\", \"a\", \"a\", \"a\", \"a\", \"a\", \"a\", \"a\", \"a\", \"a\", \"a\", \"a\", \"a\", \"a\", \"a\", \"a\", \"a\", \"a\", \"a\", \"a\", \"a\", \"a\", \"a\", \"a\", \"a\", \"a\", \"a\", \"a\", \"a\", \"a\", \"a\", \"a\", \"a\", \"a\", \"a\", \"a\", \"a\", \"a\", \"a\", \"a\", \"a\", \"a\", \"a\", \"a\", \"a\", \"a\", \"a\", \"a\", \"a\", \"a\", \"a\", \"a\", \"a\", \"a\", \"a\", \"a\", \"a\", \"a\", \"a\", \"a\", \"a\", \"a\", \"a\", \"a\", \"a\", \"a\", \"a\", \"a\", \"a\", \"a\", \"a\", \"a\", \"a\", \"a\", \"a\", \"a\", \"a\", \"a\", \"a\", \"a\", \"a\", \"a\", \"a\", \"a\", \"a\", \"a\", \"a\", \"a\", \"a\", \"a\", \"a\", \"a\", \"a\", \"a\", \"a\", \"a\", \"a\", \"a\", \"a\", \"a\", \"a\", \"a\", \"a\", \"a\", \"a\", \"a\", \"a\", \"a\", \"a\", \"a\", \"a\", \"a\", \"a\", \"a\", \"a\", \"a\", \"a\", \"a\", \"a\", \"a\", \"a\", \"a\", \"a\", \"a\", \"a\", \"a\", \"a\", \"a\", \"a\", \"a\", \"a\", \"a\", \"a\", \"a\", \"a\", \"a\", \"a\", \"a\", \"a\", \"a\", \"a\", \"a\", \"a\", \"a\", \"a\", \"a\", \"a\", \"a\", \"a\", \"a\", \"a\", \"a\", \"a\", \"a\", \"a\", \"a\", \"a\", \"a\", \"a\", \"a\", \"a\", \"a\", \"a\", \"a\", \"a\", \"a\", \"a\", \"a\", \"a\", \"a\", \"a\", \"a\", \"a\", \"a\", \"a\", \"a\", \"a\", \"a\", \"a\", \"a\", \"a\", \"a\", \"a\", \"a\", \"a\", \"a\", \"a\", \"a\", \"a\", \"a\", \"a\", \"a\", \"a\", \"a\", \"a\", \"a\", \"a\", \"a\", \"a\", \"a\", \"a\", \"a\", \"a\", \"a\", \"a\", \"a\", \"a\", \"a\", \"a\", \"a\", \"a\", \"a\", \"a\", \"a\", \"a\", \"a\", \"a\", \"a\", \"a\", \"a\", \"a\", \"a\", \"a\", \"a\", \"a\", \"a\", \"a\", \"a\", \"a\", \"a\", \"a\", \"a\", \"a\", \"a\", \"a\", \"a\", \"a\", \"a\", \"a\", \"a\", \"a\", \"a\", \"a\", \"a\", \"a\", \"a\", \"a\", \"a\", \"a\", \"a\", \"a\", \"a\", \"a\", \"a\", \"a\", \"a\", \"a\", \"a\", \"a\", \"a\", \"a\", \"a\", \"a\", \"a\", \"a\", \"a\", \"a\", \"a\", \"a\", \"a\", \"a\", \"a\", \"a\", \"a\", \"a\", \"a\", \"a\", \"a\", \"a\", \"a\", \"a\", \"a\", \"a\", \"a\", \"a\", \"a\", \"a\", \"a\", \"a\", \"a\", \"a\", \"a\", \"a\", \"a\", \"a\", \"a\", \"a\", \"a\", \"a\", \"a\", \"a\", \"a\", \"a\", \"a\", \"a\", \"a\", \"a\", \"a\", \"a\", \"a\", \"a\", \"a\", \"a\", \"a\", \"a\", \"a\", \"a\", \"a\", \"a\", \"a\", \"a\", \"a\", \"a\", \"a\", \"a\", \"a\", \"a\", \"a\", \"a\", \"a\", \"a\", \"a\", \"a\", \"a\", \"a\", \"a\", \"a\", \"a\", \"a\", \"a\", \"a\", \"a\", \"a\", \"a\", \"a\", \"a\", \"a\", \"a\", \"a\", \"a\", \"a\", \"a\", \"a\", \"a\", \"a\", \"a\", \"a\", \"a\", \"a\", \"a\", \"a\", \"a\", \"a\", \"a\", \"a\", \"a\", \"a\", \"a\", \"a\", \"a\", \"a\", \"a\", \"a\", \"a\", \"a\", \"a\", \"a\", \"a\", \"a\", \"a\", \"a\", \"a\", \"a\", \"a\", \"a\", \"a\", \"a\", \"a\", \"a\", \"a\", \"a\", \"a\", \"a\", \"a\", \"a\", \"a\", \"a\", \"a\", \"a\", \"a\", \"a\", \"a\", \"a\", \"a\", \"a\", \"a\", \"a\", \"a\", \"a\", \"a\", \"a\", \"a\", \"a\", \"a\", \"a\", \"a\", \"a\", \"a\", \"a\", \"a\", \"a\", \"a\", \"a\", \"a\", \"a\", \"a\", \"a\", \"a\", \"a\", \"a\", \"a\", \"a\", \"a\", \"a\", \"a\", \"a\", \"a\", \"a\", \"a\", \"a\", \"a\", \"a\", \"a\", \"a\", \"a\", \"a\", \"a\", \"a\", \"a\", \"a\", \"a\", \"a\", \"a\", \"a\", \"a\", \"a\", \"a\", \"a\", \"a\", \"a\", \"a\", \"a\", \"a\", \"a\", \"a\", \"a\", \"a\", \"a\", \"a\", \"a\", \"a\", \"a\", \"a\", \"a\", \"a\", \"a\", \"a\", \"a\", \"a\", \"a\", \"a\", \"a\", \"a\", \"a\", \"a\", \"a\", \"a\", \"a\", \"a\", \"a\", \"a\", \"a\", \"a\", \"a\", \"a\", \"a\", \"a\", \"a\", \"a\", \"a\", \"a\", \"a\", \"a\", \"a\", \"a\", \"a\", \"a\", \"a\", \"a\", \"a\", \"a\", \"a\", \"a\", \"a\", \"a\", \"a\", \"a\", \"a\", \"a\", \"a\", \"a\", \"a\", \"a\", \"a\", \"a\", \"a\", \"a\", \"a\", \"a\", \"a\", \"a\", \"a\", \"a\", \"a\", \"a\", \"a\", \"a\", \"a\", \"a\", \"a\", \"a\", \"a\", \"a\", \"a\", \"a\", \"a\", \"a\", \"a\", \"a\", \"a\", \"a\", \"a\", \"a\", \"a\", \"a\", \"a\", \"a\", \"a\", \"a\", \"a\", \"a\", \"a\", \"a\", \"a\", \"a\", \"a\", \"a\", \"a\", \"a\", \"a\", \"a\", \"a\", \"a\", \"a\", \"a\", \"a\", \"a\", \"a\", \"a\", \"a\", \"a\", \"a\", \"a\", \"a\", \"a\", \"a\", \"a\", \"a\", \"a\", \"a\", \"a\", \"a\", \"a\", \"a\", \"a\", \"a\", \"a\", \"a\", \"a\", \"a\", \"a\", \"a\", \"a\", \"a\", \"a\", \"a\", \"a\", \"a\", \"a\", \"a\", \"a\", \"a\", \"a\", \"a\", \"a\", \"a\", \"a\", \"a\", \"a\", \"a\", \"a\", \"a\", \"a\", \"a\", \"a\", \"a\", \"a\", \"a\", \"a\", \"a\", \"a\", \"a\", \"a\", \"a\", \"a\", \"a\", \"a\", \"a\", \"a\", \"a\", \"a\", \"a\", \"a\", \"a\", \"a\", \"a\", \"a\", \"a\", \"a\", \"a\", \"a\", \"a\", \"a\", \"a\", \"a\", \"a\", \"a\", \"a\", \"a\", \"a\", \"a\", \"a\", \"a\", \"a\", \"a\", \"a\", \"a\", \"a\", \"a\", \"a\", \"a\", \"a\", \"a\", \"a\", \"a\", \"a\", \"a\", \"a\", \"a\", \"a\", \"a\", \"a\", \"a\", \"a\", \"a\", \"a\", \"a\", \"a\", \"a\", \"a\", \"a\", \"a\", \"a\", \"a\", \"a\", \"a\", \"a\", \"a\", \"a\", \"a\", \"a\", \"a\", \"a\", \"a\", \"a\", \"a\", \"a\", \"a\", \"a\", \"a\", \"a\", \"a\", \"a\", \"a\", \"a\", \"a\", \"a\", \"a\", \"a\", \"a\", \"a\", \"a\", \"a\", \"a\", \"a\", \"a\", \"a\", \"a\", \"a\", \"a\", \"a\", \"a\", \"a\", \"a\", \"a\", \"a\", \"a\", \"a\", \"a\", \"a\", \"a\", \"a\", \"a\", \"a\", \"a\", \"a\", \"a\", \"a\", \"a\", \"a\", \"a\", \"a\", \"a\", \"a\", \"a\", \"a\", \"a\", \"a\", \"a\", \"a\", \"a\", \"a\", \"a\", \"a\", \"a\", \"a\", \"a\", \"a\", \"a\", \"a\", \"a\", \"a\", \"a\", \"a\", \"a\", \"a\", \"a\", \"a\", \"a\", \"a\", \"a\", \"a\", \"a\", \"a\", \"a\", \"a\", \"a\", \"a\", \"a\", \"a\", \"a\", \"a\", \"a\", \"a\", \"a\", \"a\", \"a\", \"a\", \"a\", \"a\", \"a\", \"a\", \"a\", \"a\", \"a\", \"a\", \"a\", \"a\", \"a\", \"a\", \"a\", \"a\", \"a\", \"a\", \"a\", \"a\", \"a\", \"a\", \"a\", \"a\", \"a\", \"a\", \"a\", \"a\", \"a\", \"a\", \"a\", \"a\", \"a\", \"a\", \"a\", \"a\", \"a\", \"a\", \"a\", \"a\", \"a\", \"a\", \"a\", \"a\", \"a\", \"a\", \"a\", \"a\", \"a\", \"a\", \"a\", \"a\", \"a\", \"a\", \"a\", \"a\", \"a\", \"a\", \"a\", \"a\", \"a\", \"a\", \"a\", \"a\", \"a\", \"a\", \"a\", \"a\", \"a\", \"a\", \"a\", \"a\", \"a\", \"a\", \"a\", \"a\", \"a\", \"a\", \"a\", \"a\", \"a\", \"a\", \"a\", \"a\", \"a\", \"a\", \"a\", \"a\", \"a\", \"a\", \"a\", \"a\", \"a\", \"a\", \"a\", \"a\", \"a\", \"a\", \"a\", \"a\", \"a\", \"a\", \"a\", \"a\", \"a\", \"a\", \"a\", \"a\", \"a\", \"a\", \"a\", \"a\", \"a\", \"a\", \"a\", \"a\", \"a\", \"a\", \"a\", \"a\", \"a\", \"a\", \"a\", \"a\", \"a\", \"a\", \"a\", \"a\", \"a\", \"a\", \"a\", \"a\", \"a\", \"a\", \"a\", \"a\", \"a\", \"a\", \"a\", \"a\", \"a\", \"a\", \"a\", \"a\", \"a\", \"a\", \"a\", \"a\", \"a\", \"a\", \"a\", \"a\", \"a\", \"a\", \"a\", \"a\", \"a\", \"a\", \"a\", \"a\", \"a\", \"a\", \"a\", \"a\", \"a\", \"a\", \"a\", \"a\", \"a\", \"a\", \"a\", \"a\", \"a\", \"a\", \"a\", \"a\", \"a\", \"a\", \"a\", \"a\", \"a\", \"a\", \"a\", \"a\", \"a\", \"a\", \"a\", \"a\", \"a\", \"a\", \"a\", \"a\", \"a\", \"a\", \"a\", \"a\", \"a\", \"a\", \"a\", \"a\", \"a\", \"a\", \"a\", \"a\", \"a\", \"a\", \"a\", \"a\", \"a\", \"a\", \"a\", \"a\", \"a\", \"a\", \"a\", \"a\", \"a\", \"a\", \"a\", \"a\", \"a\", \"a\", \"a\", \"a\", \"a\", \"a\", \"a\", \"a\", \"a\", \"a\", \"a\", \"a\", \"a\", \"a\", \"a\", \"a\", \"a\", \"a\", \"a\", \"a\", \"a\", \"a\", \"a\", \"a\", \"a\", \"a\", \"a\", \"a\", \"a\", \"a\", \"a\", \"a\", \"a\", \"a\", \"a\", \"a\", \"a\", \"a\", \"a\", \"a\", \"a\", \"a\", \"a\", \"a\", \"a\", \"a\", \"a\", \"a\", \"a\", \"a\", \"a\", \"a\", \"a\", \"a\", \"a\", \"a\", \"a\", \"a\", \"a\", \"a\", \"a\", \"a\", \"a\", \"a\", \"a\", \"a\", \"a\", \"a\", \"a\", \"a\", \"a\", \"a\", \"a\", \"a\", \"a\", \"a\", \"a\", \"a\", \"a\", \"a\", \"a\", \"a\", \"a\", \"a\", \"a\", \"a\", \"a\", \"a\", \"a\", \"a\", \"a\", \"a\", \"a\", \"a\", \"a\", \"a\", \"a\", \"a\", \"a\", \"a\", \"a\", \"a\", \"a\", \"a\", \"a\", \"a\", \"a\", \"a\", \"a\", \"a\", \"a\", \"a\", \"a\", \"a\", \"a\", \"a\", \"a\", \"a\", \"a\", \"a\", \"a\", \"a\", \"a\", \"a\", \"a\", \"a\", \"a\", \"a\", \"a\", \"a\", \"a\", \"a\", \"a\", \"a\", \"a\", \"a\", \"a\", \"a\", \"a\", \"a\", \"a\", \"a\", \"a\", \"a\", \"a\", \"a\", \"a\", \"a\", \"a\", \"a\", \"a\", \"a\", \"a\", \"a\", \"a\", \"a\", \"a\", \"a\", \"a\", \"a\", \"a\", \"a\", \"a\", \"a\", \"a\", \"a\", \"a\", \"a\", \"a\", \"a\", \"a\", \"a\", \"a\", \"a\", \"a\", \"a\", \"a\", \"a\", \"a\", \"a\", \"a\", \"a\", \"a\", \"a\", \"a\", \"a\", \"a\", \"a\", \"a\", \"a\", \"a\", \"a\", \"a\", \"a\", \"a\", \"a\", \"a\", \"a\", \"a\", \"a\", \"a\", \"a\", \"a\", \"a\", \"a\", \"a\", \"a\", \"a\", \"a\", \"a\", \"a\", \"a\", \"a\", \"a\", \"a\", \"a\", \"a\", \"a\", \"a\", \"a\", \"a\", \"a\", \"a\", \"a\", \"a\", \"a\", \"a\", \"a\", \"a\", \"a\", \"a\", \"a\", \"a\", \"a\", \"a\", \"a\", \"a\", \"a\", \"a\", \"a\", \"a\", \"a\", \"a\", \"a\", \"a\", \"a\", \"a\", \"a\", \"a\", \"a\", \"a\", \"a\", \"a\", \"a\", \"a\", \"a\", \"a\", \"a\", \"a\", \"a\", \"a\", \"a\", \"a\", \"a\", \"a\", \"a\", \"a\", \"a\", \"a\", \"a\", \"a\", \"a\", \"a\", \"a\", \"a\", \"a\", \"a\", \"a\", \"a\", \"a\", \"a\", \"a\", \"a\", \"a\", \"a\", \"a\", \"a\", \"a\", \"a\", \"a\", \"a\", \"a\", \"a\", \"a\", \"a\", \"a\", \"a\", \"a\", \"a\", \"a\", \"a\", \"a\", \"a\", \"a\", \"a\", \"a\", \"a\", \"a\", \"a\", \"a\", \"a\", \"a\", \"a\", \"a\", \"a\", \"a\", \"a\", \"a\", \"a\", \"a\", \"a\", \"a\", \"a\", \"a\", \"a\", \"a\", \"a\", \"a\", \"a\", \"a\", \"a\", \"a\", \"a\", \"a\", \"a\", \"a\", \"a\", \"a\", \"a\", \"a\", \"a\", \"a\", \"a\", \"a\", \"a\", \"a\", \"a\", \"a\", \"a\", \"a\", \"a\", \"a\", \"a\", \"a\", \"a\", \"a\", \"a\", \"a\", \"a\", \"a\", \"a\", \"a\", \"a\", \"a\", \"a\", \"a\", \"a\", \"a\", \"a\", \"a\", \"a\", \"a\", \"a\", \"a\", \"a\", \"a\", \"a\", \"a\", \"a\", \"a\", \"a\", \"a\", \"a\", \"a\", \"a\", \"a\", \"a\", \"a\", \"a\", \"a\", \"a\", \"a\", \"a\", \"a\", \"a\", \"a\", \"a\", \"a\", \"a\", \"a\", \"a\", \"a\", \"a\", \"a\", \"a\", \"a\", \"a\", \"a\", \"a\", \"a\", \"a\", \"a\", \"a\", \"a\", \"a\", \"a\", \"a\", \"a\", \"a\", \"a\", \"a\", \"a\", \"a\", \"a\", \"a\", \"a\", \"a\", \"a\", \"a\", \"a\", \"a\", \"a\", \"a\", \"a\", \"a\", \"a\", \"a\", \"a\", \"a\", \"a\", \"a\", \"a\", \"a\", \"a\", \"a\", \"a\", \"a\", \"a\", \"a\", \"a\", \"a\", \"a\", \"a\", \"a\", \"a\", \"a\", \"a\", \"a\", \"a\", \"a\", \"a\", \"a\", \"a\", \"a\", \"a\", \"a\", \"a\", \"a\", \"a\", \"a\", \"a\", \"a\", \"a\", \"a\", \"a\", \"a\", \"a\", \"a\", \"a\", \"a\", \"a\", \"a\", \"a\", \"a\", \"a\", \"a\", \"a\", \"a\", \"a\", \"a\", \"a\", \"a\", \"a\", \"a\", \"a\", \"a\", \"a\", \"a\", \"a\", \"a\", \"a\", \"a\", \"a\", \"a\", \"a\", \"a\", \"a\", \"a\", \"a\", \"a\", \"a\", \"a\", \"a\", \"a\", \"a\", \"a\", \"a\", \"a\", \"a\", \"a\", \"a\", \"a\", \"a\", \"a\", \"a\", \"a\", \"a\", \"a\", \"a\", \"a\", \"a\", \"a\", \"a\", \"a\", \"a\", \"a\", \"a\", \"a\", \"a\", \"a\", \"a\", \"a\", \"a\", \"a\", \"a\", \"a\", \"a\", \"a\", \"a\", \"a\", \"a\", \"a\", \"a\", \"a\", \"a\", \"a\", \"a\", \"a\", \"a\", \"a\", \"a\", \"a\", \"a\", \"a\", \"a\", \"a\", \"a\", \"a\", \"a\", \"a\", \"a\", \"a\", \"a\", \"a\", \"a\", \"a\", \"a\", \"a\", \"a\", \"a\", \"a\", \"a\", \"a\", \"a\", \"a\", \"a\", \"a\", \"a\", \"a\", \"a\", \"a\", \"a\", \"a\", \"a\", \"a\", \"a\", \"a\", \"a\", \"a\", \"a\", \"a\", \"a\", \"a\", \"a\"], \"yaxis\": \"y2\"}],\n",
              "                        {\"barmode\": \"overlay\", \"hovermode\": \"closest\", \"legend\": {\"traceorder\": \"reversed\"}, \"template\": {\"data\": {\"bar\": [{\"error_x\": {\"color\": \"#2a3f5f\"}, \"error_y\": {\"color\": \"#2a3f5f\"}, \"marker\": {\"line\": {\"color\": \"#E5ECF6\", \"width\": 0.5}}, \"type\": \"bar\"}], \"barpolar\": [{\"marker\": {\"line\": {\"color\": \"#E5ECF6\", \"width\": 0.5}}, \"type\": \"barpolar\"}], \"carpet\": [{\"aaxis\": {\"endlinecolor\": \"#2a3f5f\", \"gridcolor\": \"white\", \"linecolor\": \"white\", \"minorgridcolor\": \"white\", \"startlinecolor\": \"#2a3f5f\"}, \"baxis\": {\"endlinecolor\": \"#2a3f5f\", \"gridcolor\": \"white\", \"linecolor\": \"white\", \"minorgridcolor\": \"white\", \"startlinecolor\": \"#2a3f5f\"}, \"type\": \"carpet\"}], \"choropleth\": [{\"colorbar\": {\"outlinewidth\": 0, \"ticks\": \"\"}, \"type\": \"choropleth\"}], \"contour\": [{\"colorbar\": {\"outlinewidth\": 0, \"ticks\": \"\"}, \"colorscale\": [[0.0, \"#0d0887\"], [0.1111111111111111, \"#46039f\"], [0.2222222222222222, \"#7201a8\"], [0.3333333333333333, \"#9c179e\"], [0.4444444444444444, \"#bd3786\"], [0.5555555555555556, \"#d8576b\"], [0.6666666666666666, \"#ed7953\"], [0.7777777777777778, \"#fb9f3a\"], [0.8888888888888888, \"#fdca26\"], [1.0, \"#f0f921\"]], \"type\": \"contour\"}], \"contourcarpet\": [{\"colorbar\": {\"outlinewidth\": 0, \"ticks\": \"\"}, \"type\": \"contourcarpet\"}], \"heatmap\": [{\"colorbar\": {\"outlinewidth\": 0, \"ticks\": \"\"}, \"colorscale\": [[0.0, \"#0d0887\"], [0.1111111111111111, \"#46039f\"], [0.2222222222222222, \"#7201a8\"], [0.3333333333333333, \"#9c179e\"], [0.4444444444444444, \"#bd3786\"], [0.5555555555555556, \"#d8576b\"], [0.6666666666666666, \"#ed7953\"], [0.7777777777777778, \"#fb9f3a\"], [0.8888888888888888, \"#fdca26\"], [1.0, \"#f0f921\"]], \"type\": \"heatmap\"}], \"heatmapgl\": [{\"colorbar\": {\"outlinewidth\": 0, \"ticks\": \"\"}, \"colorscale\": [[0.0, \"#0d0887\"], [0.1111111111111111, \"#46039f\"], [0.2222222222222222, \"#7201a8\"], [0.3333333333333333, \"#9c179e\"], [0.4444444444444444, \"#bd3786\"], [0.5555555555555556, \"#d8576b\"], [0.6666666666666666, \"#ed7953\"], [0.7777777777777778, \"#fb9f3a\"], [0.8888888888888888, \"#fdca26\"], [1.0, \"#f0f921\"]], \"type\": \"heatmapgl\"}], \"histogram\": [{\"marker\": {\"colorbar\": {\"outlinewidth\": 0, \"ticks\": \"\"}}, \"type\": \"histogram\"}], \"histogram2d\": [{\"colorbar\": {\"outlinewidth\": 0, \"ticks\": \"\"}, \"colorscale\": [[0.0, \"#0d0887\"], [0.1111111111111111, \"#46039f\"], [0.2222222222222222, \"#7201a8\"], [0.3333333333333333, \"#9c179e\"], [0.4444444444444444, \"#bd3786\"], [0.5555555555555556, \"#d8576b\"], [0.6666666666666666, \"#ed7953\"], [0.7777777777777778, \"#fb9f3a\"], [0.8888888888888888, \"#fdca26\"], [1.0, \"#f0f921\"]], \"type\": \"histogram2d\"}], \"histogram2dcontour\": [{\"colorbar\": {\"outlinewidth\": 0, \"ticks\": \"\"}, \"colorscale\": [[0.0, \"#0d0887\"], [0.1111111111111111, \"#46039f\"], [0.2222222222222222, \"#7201a8\"], [0.3333333333333333, \"#9c179e\"], [0.4444444444444444, \"#bd3786\"], [0.5555555555555556, \"#d8576b\"], [0.6666666666666666, \"#ed7953\"], [0.7777777777777778, \"#fb9f3a\"], [0.8888888888888888, \"#fdca26\"], [1.0, \"#f0f921\"]], \"type\": \"histogram2dcontour\"}], \"mesh3d\": [{\"colorbar\": {\"outlinewidth\": 0, \"ticks\": \"\"}, \"type\": \"mesh3d\"}], \"parcoords\": [{\"line\": {\"colorbar\": {\"outlinewidth\": 0, \"ticks\": \"\"}}, \"type\": \"parcoords\"}], \"pie\": [{\"automargin\": true, \"type\": \"pie\"}], \"scatter\": [{\"marker\": {\"colorbar\": {\"outlinewidth\": 0, \"ticks\": \"\"}}, \"type\": \"scatter\"}], \"scatter3d\": [{\"line\": {\"colorbar\": {\"outlinewidth\": 0, \"ticks\": \"\"}}, \"marker\": {\"colorbar\": {\"outlinewidth\": 0, \"ticks\": \"\"}}, \"type\": \"scatter3d\"}], \"scattercarpet\": [{\"marker\": {\"colorbar\": {\"outlinewidth\": 0, \"ticks\": \"\"}}, \"type\": \"scattercarpet\"}], \"scattergeo\": [{\"marker\": {\"colorbar\": {\"outlinewidth\": 0, \"ticks\": \"\"}}, \"type\": \"scattergeo\"}], \"scattergl\": [{\"marker\": {\"colorbar\": {\"outlinewidth\": 0, \"ticks\": \"\"}}, \"type\": \"scattergl\"}], \"scattermapbox\": [{\"marker\": {\"colorbar\": {\"outlinewidth\": 0, \"ticks\": \"\"}}, \"type\": \"scattermapbox\"}], \"scatterpolar\": [{\"marker\": {\"colorbar\": {\"outlinewidth\": 0, \"ticks\": \"\"}}, \"type\": \"scatterpolar\"}], \"scatterpolargl\": [{\"marker\": {\"colorbar\": {\"outlinewidth\": 0, \"ticks\": \"\"}}, \"type\": \"scatterpolargl\"}], \"scatterternary\": [{\"marker\": {\"colorbar\": {\"outlinewidth\": 0, \"ticks\": \"\"}}, \"type\": \"scatterternary\"}], \"surface\": [{\"colorbar\": {\"outlinewidth\": 0, \"ticks\": \"\"}, \"colorscale\": [[0.0, \"#0d0887\"], [0.1111111111111111, \"#46039f\"], [0.2222222222222222, \"#7201a8\"], [0.3333333333333333, \"#9c179e\"], [0.4444444444444444, \"#bd3786\"], [0.5555555555555556, \"#d8576b\"], [0.6666666666666666, \"#ed7953\"], [0.7777777777777778, \"#fb9f3a\"], [0.8888888888888888, \"#fdca26\"], [1.0, \"#f0f921\"]], \"type\": \"surface\"}], \"table\": [{\"cells\": {\"fill\": {\"color\": \"#EBF0F8\"}, \"line\": {\"color\": \"white\"}}, \"header\": {\"fill\": {\"color\": \"#C8D4E3\"}, \"line\": {\"color\": \"white\"}}, \"type\": \"table\"}]}, \"layout\": {\"annotationdefaults\": {\"arrowcolor\": \"#2a3f5f\", \"arrowhead\": 0, \"arrowwidth\": 1}, \"coloraxis\": {\"colorbar\": {\"outlinewidth\": 0, \"ticks\": \"\"}}, \"colorscale\": {\"diverging\": [[0, \"#8e0152\"], [0.1, \"#c51b7d\"], [0.2, \"#de77ae\"], [0.3, \"#f1b6da\"], [0.4, \"#fde0ef\"], [0.5, \"#f7f7f7\"], [0.6, \"#e6f5d0\"], [0.7, \"#b8e186\"], [0.8, \"#7fbc41\"], [0.9, \"#4d9221\"], [1, \"#276419\"]], \"sequential\": [[0.0, \"#0d0887\"], [0.1111111111111111, \"#46039f\"], [0.2222222222222222, \"#7201a8\"], [0.3333333333333333, \"#9c179e\"], [0.4444444444444444, \"#bd3786\"], [0.5555555555555556, \"#d8576b\"], [0.6666666666666666, \"#ed7953\"], [0.7777777777777778, \"#fb9f3a\"], [0.8888888888888888, \"#fdca26\"], [1.0, \"#f0f921\"]], \"sequentialminus\": [[0.0, \"#0d0887\"], [0.1111111111111111, \"#46039f\"], [0.2222222222222222, \"#7201a8\"], [0.3333333333333333, \"#9c179e\"], [0.4444444444444444, \"#bd3786\"], [0.5555555555555556, \"#d8576b\"], [0.6666666666666666, \"#ed7953\"], [0.7777777777777778, \"#fb9f3a\"], [0.8888888888888888, \"#fdca26\"], [1.0, \"#f0f921\"]]}, \"colorway\": [\"#636efa\", \"#EF553B\", \"#00cc96\", \"#ab63fa\", \"#FFA15A\", \"#19d3f3\", \"#FF6692\", \"#B6E880\", \"#FF97FF\", \"#FECB52\"], \"font\": {\"color\": \"#2a3f5f\"}, \"geo\": {\"bgcolor\": \"white\", \"lakecolor\": \"white\", \"landcolor\": \"#E5ECF6\", \"showlakes\": true, \"showland\": true, \"subunitcolor\": \"white\"}, \"hoverlabel\": {\"align\": \"left\"}, \"hovermode\": \"closest\", \"mapbox\": {\"style\": \"light\"}, \"paper_bgcolor\": \"white\", \"plot_bgcolor\": \"#E5ECF6\", \"polar\": {\"angularaxis\": {\"gridcolor\": \"white\", \"linecolor\": \"white\", \"ticks\": \"\"}, \"bgcolor\": \"#E5ECF6\", \"radialaxis\": {\"gridcolor\": \"white\", \"linecolor\": \"white\", \"ticks\": \"\"}}, \"scene\": {\"xaxis\": {\"backgroundcolor\": \"#E5ECF6\", \"gridcolor\": \"white\", \"gridwidth\": 2, \"linecolor\": \"white\", \"showbackground\": true, \"ticks\": \"\", \"zerolinecolor\": \"white\"}, \"yaxis\": {\"backgroundcolor\": \"#E5ECF6\", \"gridcolor\": \"white\", \"gridwidth\": 2, \"linecolor\": \"white\", \"showbackground\": true, \"ticks\": \"\", \"zerolinecolor\": \"white\"}, \"zaxis\": {\"backgroundcolor\": \"#E5ECF6\", \"gridcolor\": \"white\", \"gridwidth\": 2, \"linecolor\": \"white\", \"showbackground\": true, \"ticks\": \"\", \"zerolinecolor\": \"white\"}}, \"shapedefaults\": {\"line\": {\"color\": \"#2a3f5f\"}}, \"ternary\": {\"aaxis\": {\"gridcolor\": \"white\", \"linecolor\": \"white\", \"ticks\": \"\"}, \"baxis\": {\"gridcolor\": \"white\", \"linecolor\": \"white\", \"ticks\": \"\"}, \"bgcolor\": \"#E5ECF6\", \"caxis\": {\"gridcolor\": \"white\", \"linecolor\": \"white\", \"ticks\": \"\"}}, \"title\": {\"x\": 0.05}, \"xaxis\": {\"automargin\": true, \"gridcolor\": \"white\", \"linecolor\": \"white\", \"ticks\": \"\", \"title\": {\"standoff\": 15}, \"zerolinecolor\": \"white\", \"zerolinewidth\": 2}, \"yaxis\": {\"automargin\": true, \"gridcolor\": \"white\", \"linecolor\": \"white\", \"ticks\": \"\", \"title\": {\"standoff\": 15}, \"zerolinecolor\": \"white\", \"zerolinewidth\": 2}}}, \"title\": {\"text\": \"Distplot with Normal Distribution\"}, \"xaxis\": {\"anchor\": \"y2\", \"domain\": [0.0, 1.0], \"zeroline\": false}, \"yaxis\": {\"anchor\": \"free\", \"domain\": [0.35, 1], \"position\": 0.0}, \"yaxis2\": {\"anchor\": \"x\", \"domain\": [0, 0.25], \"dtick\": 1, \"showticklabels\": false}},\n",
              "                        {\"responsive\": true}\n",
              "                    ).then(function(){\n",
              "                            \n",
              "var gd = document.getElementById('07f98901-d41d-4d14-b535-3e25f397c326');\n",
              "var x = new MutationObserver(function (mutations, observer) {{\n",
              "        var display = window.getComputedStyle(gd).display;\n",
              "        if (!display || display === 'none') {{\n",
              "            console.log([gd, 'removed!']);\n",
              "            Plotly.purge(gd);\n",
              "            observer.disconnect();\n",
              "        }}\n",
              "}});\n",
              "\n",
              "// Listen for the removal of the full notebook cells\n",
              "var notebookContainer = gd.closest('#notebook-container');\n",
              "if (notebookContainer) {{\n",
              "    x.observe(notebookContainer, {childList: true});\n",
              "}}\n",
              "\n",
              "// Listen for the clearing of the current output cell\n",
              "var outputEl = gd.closest('.output');\n",
              "if (outputEl) {{\n",
              "    x.observe(outputEl, {childList: true});\n",
              "}}\n",
              "\n",
              "                        })\n",
              "                };\n",
              "                \n",
              "            </script>\n",
              "        </div>\n",
              "</body>\n",
              "</html>"
            ]
          },
          "metadata": {}
        }
      ]
    },
    {
      "cell_type": "code",
      "metadata": {
        "id": "mRwDFc3ze8ES"
      },
      "source": [
        "titles_by_country= datafr.groupby('country')[['title']].sum()\n",
        "titles_by_country_label= datafr.groupby('country')[['title']].sum().index.get_level_values(0)"
      ],
      "execution_count": null,
      "outputs": []
    },
    {
      "cell_type": "code",
      "metadata": {
        "colab": {
          "base_uri": "https://localhost:8080/"
        },
        "id": "Y-S96Hqtp5er",
        "outputId": "fd7241fa-59d2-4f8b-d631-b965a3fc99fc"
      },
      "source": [
        "print(titles_by_country_label)"
      ],
      "execution_count": null,
      "outputs": [
        {
          "output_type": "stream",
          "name": "stdout",
          "text": [
            "Index([', France, Algeria', ', South Korea', 'Argentina',\n",
            "       'Argentina, Brazil, France, Poland, Germany, Denmark',\n",
            "       'Argentina, Chile', 'Argentina, Chile, Peru', 'Argentina, France',\n",
            "       'Argentina, France, United States, Germany, Qatar', 'Argentina, Italy',\n",
            "       'Argentina, Spain',\n",
            "       ...\n",
            "       'Uruguay, Argentina, Germany, Spain', 'Uruguay, Argentina, Spain',\n",
            "       'Uruguay, Germany', 'Uruguay, Guatemala', 'Uruguay, Spain, Mexico',\n",
            "       'Venezuela', 'Venezuela, Colombia', 'Vietnam', 'West Germany',\n",
            "       'Zimbabwe'],\n",
            "      dtype='object', name='country', length=748)\n"
          ]
        }
      ]
    },
    {
      "cell_type": "code",
      "metadata": {
        "id": "R4ga9x87qVK-"
      },
      "source": [
        "datafr['cast'] = datafr['cast'].fillna('')\n",
        "datafr['director'] = datafr['director'].fillna('')"
      ],
      "execution_count": null,
      "outputs": []
    },
    {
      "cell_type": "markdown",
      "metadata": {
        "id": "chUnXwFVqeCQ"
      },
      "source": [
        "First we want to try a simple Content Based Recommendor System which will recommend us movies/series which are similar to each other. To achieve this, we will compute pairwise cosine similarity scores for all movies/series based on their genre which is given by the listed_in feature and recommend movies/series based on that similarity score threshold.\n",
        "\n",
        "Since the data in question is in Natural Language, we will have to compute the word vectors for the data and find the similarity between each vector. We will be using a built-in class called as Term Frequency-Inverse Document Frequency (TF-IDF) vectors for each document. The TF-IDF score gives us the frequency of words occuring in a document which helps us evaluating the similarity between two documents."
      ]
    },
    {
      "cell_type": "code",
      "metadata": {
        "id": "bTEJPC81qbWO"
      },
      "source": [
        "tfidf = TfidfVectorizer(stop_words='english')"
      ],
      "execution_count": null,
      "outputs": []
    },
    {
      "cell_type": "code",
      "metadata": {
        "colab": {
          "base_uri": "https://localhost:8080/"
        },
        "id": "ulOI-pdnqkdH",
        "outputId": "0ae059e4-68aa-49c4-9ccd-0b1eac92556e"
      },
      "source": [
        "#Construct the required TF-IDF matrix by fitting and transforming the data\n",
        "tfidf_matrix = tfidf.fit_transform(datafr['listed_in'])\n",
        "\n",
        "#Output the shape of tfidf_matrix\n",
        "tfidf_matrix.shape"
      ],
      "execution_count": null,
      "outputs": [
        {
          "output_type": "execute_result",
          "data": {
            "text/plain": [
              "(8807, 44)"
            ]
          },
          "metadata": {},
          "execution_count": 20
        }
      ]
    },
    {
      "cell_type": "markdown",
      "metadata": {
        "id": "yqofvHQLdxH2"
      },
      "source": [
        "Using pairwise Linear Kernel to find similarities in the Genres(listed_in) attribute, "
      ]
    },
    {
      "cell_type": "code",
      "metadata": {
        "colab": {
          "base_uri": "https://localhost:8080/"
        },
        "id": "we11bgYYqpNy",
        "outputId": "803566df-cdba-4ead-dbf1-acf32598b4b7"
      },
      "source": [
        "cosine_sim = linear_kernel(tfidf_matrix, tfidf_matrix)\n",
        "cosine_sim.shape"
      ],
      "execution_count": null,
      "outputs": [
        {
          "output_type": "execute_result",
          "data": {
            "text/plain": [
              "(8807, 8807)"
            ]
          },
          "metadata": {},
          "execution_count": 21
        }
      ]
    },
    {
      "cell_type": "code",
      "metadata": {
        "colab": {
          "base_uri": "https://localhost:8080/"
        },
        "id": "aFT0-daDqr_G",
        "outputId": "f8495b39-04a0-45c0-deaf-5c88c1be6d37"
      },
      "source": [
        "cosine_sim[1]"
      ],
      "execution_count": null,
      "outputs": [
        {
          "output_type": "execute_result",
          "data": {
            "text/plain": [
              "array([0.        , 1.        , 0.62052765, ..., 0.        , 0.        ,\n",
              "       0.11412729])"
            ]
          },
          "metadata": {},
          "execution_count": 38
        }
      ]
    },
    {
      "cell_type": "code",
      "metadata": {
        "colab": {
          "base_uri": "https://localhost:8080/"
        },
        "id": "ipcvaOmjqt4b",
        "outputId": "72cd0815-fa9d-492a-eef3-04cfc12c1ec5"
      },
      "source": [
        "indices = pd.Series(datafr.index, index=datafr['title']).drop_duplicates()\n",
        "indices[:10]"
      ],
      "execution_count": null,
      "outputs": [
        {
          "output_type": "execute_result",
          "data": {
            "text/plain": [
              "title\n",
              "Dick Johnson Is Dead                0\n",
              "Blood & Water                       1\n",
              "Ganglands                           2\n",
              "Jailbirds New Orleans               3\n",
              "Kota Factory                        4\n",
              "Midnight Mass                       5\n",
              "My Little Pony: A New Generation    6\n",
              "Sankofa                             7\n",
              "The Great British Baking Show       8\n",
              "The Starling                        9\n",
              "dtype: int64"
            ]
          },
          "metadata": {},
          "execution_count": 23
        }
      ]
    },
    {
      "cell_type": "code",
      "metadata": {
        "id": "oHil30IzqvxX"
      },
      "source": [
        "def get_recommendations(title, cosine_sim=cosine_sim):\n",
        "    # Get the index of the movie that matches the title\n",
        "    idx = indices[title]\n",
        "\n",
        "    # Get the pairwsie similarity scores of all movies with that movie\n",
        "    sim_scores = list(enumerate(cosine_sim[idx]))\n",
        "\n",
        "    # Sort the movies based on the similarity scores\n",
        "    sim_scores = sorted(sim_scores, key=lambda x: x[1], reverse=True)\n",
        "\n",
        "    # Get the scores of the 10 most similar movies\n",
        "    sim_scores = sim_scores[1:10]\n",
        "\n",
        "    # Get the movie indices\n",
        "    movie_indices = [i[0] for i in sim_scores]\n",
        "\n",
        "    # Return the top 10 most similar movies\n",
        "    return datafr['title'].iloc[movie_indices]"
      ],
      "execution_count": null,
      "outputs": []
    },
    {
      "cell_type": "code",
      "metadata": {
        "colab": {
          "base_uri": "https://localhost:8080/"
        },
        "id": "IP5JTYNsq1Kh",
        "outputId": "e106329d-0781-45eb-c0f5-16fc4af1f36e"
      },
      "source": [
        "get_recommendations(\"Kota Factory\")"
      ],
      "execution_count": null,
      "outputs": [
        {
          "output_type": "execute_result",
          "data": {
            "text/plain": [
              "47                The Smart Money Woman\n",
              "121                      Hotel Del Luna\n",
              "186                Hometown Cha-Cha-Cha\n",
              "287                      I Need Romance\n",
              "316                        Office Girls\n",
              "319    The Prince Who Turns into a Frog\n",
              "321                         Two Fathers\n",
              "322                   You're My Destiny\n",
              "397                     Feels Like Ishq\n",
              "Name: title, dtype: object"
            ]
          },
          "metadata": {},
          "execution_count": 26
        }
      ]
    },
    {
      "cell_type": "code",
      "metadata": {
        "id": "ZkhZeANScCSw"
      },
      "source": [
        "data = {'model': cosine_sim,\"tfidf\": tfidf,\"tfidf_matrix\":tfidf_matrix,\"get_recommendations\":get_recommendations,\"indices\":indices}"
      ],
      "execution_count": null,
      "outputs": []
    },
    {
      "cell_type": "code",
      "metadata": {
        "id": "LiquK5bmcxtW"
      },
      "source": [
        "with open('saved_steps.pkl','wb') as file:\n",
        "  pickle.dump(data,file)"
      ],
      "execution_count": null,
      "outputs": []
    },
    {
      "cell_type": "code",
      "metadata": {
        "id": "QMwRpuoIdUdi"
      },
      "source": [
        "with open('saved_steps.pkl', 'rb') as file:\n",
        "  data =pickle.load(file)\n",
        "cosine_sim_loaded = data[\"model\"]\n",
        "tfidf_loaded = data[\"tfidf\"]\n",
        "tfidf_matrix_loaded = data[\"tfidf_matrix\"]\n",
        "get_recommendations_loaded = data[\"get_recommendations\"]\n",
        "indices_loaded = data[\"indices\"]"
      ],
      "execution_count": null,
      "outputs": []
    },
    {
      "cell_type": "markdown",
      "metadata": {
        "id": "AgAweqGmc3ZN"
      },
      "source": [
        "This system has given us some good recommendations based on the genre associated with the title but let us try to make it better. There is a high possibility that we would like a recommendation for a movie/series by the same actor or director or of similar genres. For the next model let's try to combine all of these features to make our recommendation algorithm better.\n",
        "\n",
        "To combine these features together, we need to concatenate them together and create a soup feature. To do that we need to clean the data. Since we are considering the name of Actors and Directors, we need to make sure that actors with same names should not be considered the same. For example, John Travolta and John Krasinski are two separate actors, to resolve that we need to remove the space between them.\n",
        "\n"
      ]
    },
    {
      "cell_type": "code",
      "metadata": {
        "id": "lBzVvVFBq2kG"
      },
      "source": [
        "def clean_data(x):\n",
        "    if isinstance(x, list):\n",
        "        return [str.lower(i.replace(\" \", \"\")) for i in x]\n",
        "    else:\n",
        "        #Check if director exists. If not, return empty string\n",
        "        if isinstance(x, str):\n",
        "            return str.lower(x.replace(\" \", \"\"))\n",
        "        else:\n",
        "            return ''\n",
        "        \n",
        "# Apply clean_data function to your features.\n",
        "features = ['cast', 'director', 'listed_in']\n",
        "\n",
        "for feature in features:\n",
        "    datafr[feature] = datafr[feature].apply(clean_data)"
      ],
      "execution_count": null,
      "outputs": []
    },
    {
      "cell_type": "code",
      "metadata": {
        "colab": {
          "base_uri": "https://localhost:8080/"
        },
        "id": "v-IvpMqtre1S",
        "outputId": "07295348-243f-4f48-fe15-bc9e8564b008"
      },
      "source": [
        "#Define a function to create a soup feature\n",
        "def create_soup(x):\n",
        "    return  ''.join(x['cast']) + ',' + ''.join(x['director'])  + ',' + ''.join(x['listed_in']) \n",
        "\n",
        "# Create a new soup feature\n",
        "datafr['soup'] = datafr.apply(create_soup, axis=1)\n",
        "datafr['soup']"
      ],
      "execution_count": null,
      "outputs": [
        {
          "output_type": "execute_result",
          "data": {
            "text/plain": [
              "0                           ,kirstenjohnson,documentaries\n",
              "1       amaqamata,khosingema,gailmabalane,thabangmolab...\n",
              "2       samibouajila,tracygotoas,samueljouy,nabihaakka...\n",
              "3                    ,audreyestrougo,docuseries,realitytv\n",
              "4       mayurmore,jitendrakumar,ranjanraj,alamkhan,ahs...\n",
              "                              ...                        \n",
              "8802    markruffalo,jakegyllenhaal,robertdowneyjr.,ant...\n",
              "8803                   ,,kids'tv,koreantvshows,tvcomedies\n",
              "8804    jesseeisenberg,woodyharrelson,emmastone,abigai...\n",
              "8805    timallen,courteneycox,chevychase,katemara,ryan...\n",
              "8806    vickykaushal,sarah-janedias,raaghavchanana,man...\n",
              "Name: soup, Length: 8807, dtype: object"
            ]
          },
          "metadata": {},
          "execution_count": 28
        }
      ]
    },
    {
      "cell_type": "code",
      "metadata": {
        "id": "BlhM2QhNrj8D"
      },
      "source": [
        "#Define a Count Vectorizer Object. Remove all english stop words such as 'the', 'a'\n",
        "count = CountVectorizer(stop_words='english')"
      ],
      "execution_count": null,
      "outputs": []
    },
    {
      "cell_type": "code",
      "metadata": {
        "colab": {
          "base_uri": "https://localhost:8080/"
        },
        "id": "AjlPypuRrpZX",
        "outputId": "1b2a4cd6-3ac0-469d-9ca8-0e3e0c06d709"
      },
      "source": [
        "count_matrix = count.fit_transform(datafr['soup'])\n",
        "count_matrix.shape"
      ],
      "execution_count": null,
      "outputs": [
        {
          "output_type": "execute_result",
          "data": {
            "text/plain": [
              "(8807, 41871)"
            ]
          },
          "metadata": {},
          "execution_count": 30
        }
      ]
    },
    {
      "cell_type": "code",
      "metadata": {
        "id": "8imbUSl5rq6m"
      },
      "source": [
        "cosine_sim2 = cosine_similarity(count_matrix, count_matrix)"
      ],
      "execution_count": null,
      "outputs": []
    },
    {
      "cell_type": "code",
      "metadata": {
        "id": "ia7yvfrWruqi"
      },
      "source": [
        "datafr = datafr.reset_index()\n",
        "indices = pd.Series(datafr.index, index=datafr['title'])"
      ],
      "execution_count": null,
      "outputs": []
    },
    {
      "cell_type": "code",
      "metadata": {
        "colab": {
          "base_uri": "https://localhost:8080/"
        },
        "id": "IwsiDC2yrxFr",
        "outputId": "66e2a500-cf8a-4148-fd8c-ff5ba4f9733e"
      },
      "source": [
        "get_recommendations(\"Dick Johnson Is Dead\", cosine_sim2 )"
      ],
      "execution_count": null,
      "outputs": [
        {
          "output_type": "execute_result",
          "data": {
            "text/plain": [
              "404                9to5: The Story of a Movement\n",
              "854                 Creating an Army of the Dead\n",
              "1011                                Free to Play\n",
              "1161    Elizabeth and Margaret: Love and Loyalty\n",
              "1425                 Creating The Queen's Gambit\n",
              "1466                The Minimalists: Less Is Now\n",
              "2608    Murder to Mercy: The Cyntoia Brown Story\n",
              "2779          Crip Camp: A Disability Revolution\n",
              "5052        Liberated: The New Sexual Revolution\n",
              "Name: title, dtype: object"
            ]
          },
          "metadata": {},
          "execution_count": 33
        }
      ]
    },
    {
      "cell_type": "code",
      "metadata": {
        "id": "-98GKgwKs8MC"
      },
      "source": [
        "data = {'model: cosine_'}"
      ],
      "execution_count": null,
      "outputs": []
    }
  ]
}